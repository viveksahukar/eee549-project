{
 "cells": [
  {
   "cell_type": "markdown",
   "metadata": {},
   "source": [
    "## Importing libraries"
   ]
  },
  {
   "cell_type": "code",
   "execution_count": 1,
   "metadata": {},
   "outputs": [],
   "source": [
    "import sys\n",
    "sys.path.append('../') \n",
    "from imports import *"
   ]
  },
  {
   "cell_type": "markdown",
   "metadata": {},
   "source": [
    "## Loading pre-processed saved datasets"
   ]
  },
  {
   "cell_type": "code",
   "execution_count": 2,
   "metadata": {},
   "outputs": [],
   "source": [
    "# loading processed data\n",
    "df_train = pd.read_csv('./uci-adult-processed-data/train.csv')\n",
    "df_val = pd.read_csv('./uci-adult-processed-data/val.csv')\n",
    "df_test = pd.read_csv('./uci-adult-processed-data/test.csv')\n",
    "\n",
    "# Define your features and target variable\n",
    "target_column = 'target' \n",
    "features = df_train.columns.drop(target_column)\n",
    "\n",
    "# Separate features and target and convert to NumPy arrays\n",
    "X_train = df_train[features].to_numpy()\n",
    "y_train = df_train[target_column].to_numpy()\n",
    "X_val = df_val[features].to_numpy()\n",
    "y_val = df_val[target_column].to_numpy()\n",
    "X_test = df_test[features].to_numpy()\n",
    "y_test = df_test[target_column].to_numpy()"
   ]
  },
  {
   "cell_type": "code",
   "execution_count": 3,
   "metadata": {},
   "outputs": [
    {
     "name": "stdout",
     "output_type": "stream",
     "text": [
      "Validation Accuracy: 0.7535\n",
      "[[4507  595]\n",
      " [1077  604]]\n",
      "              precision    recall  f1-score   support\n",
      "\n",
      "           0       0.81      0.88      0.84      5102\n",
      "           1       0.50      0.36      0.42      1681\n",
      "\n",
      "    accuracy                           0.75      6783\n",
      "   macro avg       0.66      0.62      0.63      6783\n",
      "weighted avg       0.73      0.75      0.74      6783\n",
      "\n"
     ]
    }
   ],
   "source": [
    "# Step 1: Apply PCA\n",
    "# Choose the number of components, e.g., 2 for visualization\n",
    "pca = PCA(n_components=2)\n",
    "X_train_pca = pca.fit_transform(X_train)\n",
    "X_val_pca = pca.transform(X_val)\n",
    "X_test_pca = pca.transform(X_test)\n",
    "\n",
    "# Step 2: Train KNN Classifier\n",
    "# Choose the number of neighbors, e.g., 3\n",
    "knn = KNeighborsClassifier(n_neighbors=3)\n",
    "knn.fit(X_train_pca, y_train)\n",
    "\n",
    "# Step 3: Predict and Evaluate the model\n",
    "y_val_pred = knn.predict(X_val_pca)\n",
    "val_accuracy = accuracy_score(y_val, y_val_pred)\n",
    "\n",
    "print(f\"Validation Accuracy: {val_accuracy:.4f}\")\n",
    "\n",
    "print(confusion_matrix(y_val, y_val_pred))\n",
    "print(classification_report(y_val, y_val_pred))"
   ]
  },
  {
   "cell_type": "code",
   "execution_count": 4,
   "metadata": {},
   "outputs": [
    {
     "name": "stdout",
     "output_type": "stream",
     "text": [
      "Best parameters: {'pca_n_components': 3, 'knn_n_neighbors': 15}\n",
      "Best score: 0.798171900339083\n"
     ]
    }
   ],
   "source": [
    "# Hyperparameters to try\n",
    "n_components_options = [1, 3, 5, 10]  # PCA components\n",
    "n_neighbors_options = [1, 5, 10, 15, 20]      # KNN neighbors\n",
    "\n",
    "best_score = 0\n",
    "best_params = {}\n",
    "\n",
    "for n_components in n_components_options:\n",
    "    # Apply PCA\n",
    "    pca = PCA(n_components=n_components)\n",
    "    X_train_pca = pca.fit_transform(X_train)\n",
    "    X_val_pca = pca.transform(X_val)\n",
    "\n",
    "    for n_neighbors in n_neighbors_options:\n",
    "        # Apply KNN\n",
    "        knn = KNeighborsClassifier(n_neighbors=n_neighbors)\n",
    "        knn.fit(X_train_pca, y_train)\n",
    "\n",
    "        # Evaluate the model on the validation set\n",
    "        score = knn.score(X_val_pca, y_val)\n",
    "\n",
    "        # Update best score and parameters if current score is better\n",
    "        if score > best_score:\n",
    "            best_score = score\n",
    "            best_params = {'pca_n_components': n_components, 'knn_n_neighbors': n_neighbors}\n",
    "\n",
    "# Print the best parameters and the corresponding score\n",
    "print(\"Best parameters:\", best_params)\n",
    "print(\"Best score:\", best_score)"
   ]
  },
  {
   "cell_type": "markdown",
   "metadata": {},
   "source": [
    "### now training model with best hyperparameters and run on test data"
   ]
  },
  {
   "cell_type": "code",
   "execution_count": 5,
   "metadata": {},
   "outputs": [
    {
     "name": "stdout",
     "output_type": "stream",
     "text": [
      "Test score: 0.7910\n"
     ]
    }
   ],
   "source": [
    "# Assuming you have your best parameters from the grid search\n",
    "n_components, n_neighbors = 3, 15\n",
    "best_params = {'pca_n_components': n_components, 'knn_n_neighbors': n_neighbors}\n",
    "best_n_components = best_params['pca_n_components']\n",
    "best_n_neighbors = best_params['knn_n_neighbors']\n",
    "\n",
    "# Apply PCA with the best number of components\n",
    "pca = PCA(n_components=best_n_components)\n",
    "X_train_pca = pca.fit_transform(X_train)\n",
    "X_test_pca = pca.transform(X_test)\n",
    "\n",
    "# Train KNN with the best number of neighbors\n",
    "knn = KNeighborsClassifier(n_neighbors=best_n_neighbors)\n",
    "knn.fit(X_train, y_train)\n",
    "\n",
    "# Evaluate the model on the test set\n",
    "test_score = knn.score(X_test, y_test)\n",
    "\n",
    "# Print the test score\n",
    "print(f\"Test score: {test_score:.4f}\")"
   ]
  },
  {
   "cell_type": "code",
   "execution_count": 6,
   "metadata": {},
   "outputs": [
    {
     "name": "stdout",
     "output_type": "stream",
     "text": [
      "Test Accuracy: 0.7910\n",
      "[[4981  122]\n",
      " [1296  385]]\n",
      "              precision    recall  f1-score   support\n",
      "\n",
      "           0       0.79      0.98      0.88      5103\n",
      "           1       0.76      0.23      0.35      1681\n",
      "\n",
      "    accuracy                           0.79      6784\n",
      "   macro avg       0.78      0.60      0.61      6784\n",
      "weighted avg       0.79      0.79      0.75      6784\n",
      "\n"
     ]
    }
   ],
   "source": [
    "# Use the KNN model to predict on the test set\n",
    "y_test_pred = knn.predict(X_test)\n",
    "\n",
    "# Generating the confusion matrix\n",
    "cm = confusion_matrix(y_test, y_test_pred)\n",
    "test_accuracy = accuracy_score(y_test, y_test_pred)\n",
    "print(f\"Test Accuracy: {test_accuracy:.4f}\")\n",
    "print(cm)\n",
    "print(classification_report(y_test, y_test_pred))"
   ]
  },
  {
   "cell_type": "code",
   "execution_count": 7,
   "metadata": {},
   "outputs": [
    {
     "data": {
      "image/png": "[encoded data removed]",
      "text/plain": [
       "<Figure size 500x400 with 2 Axes>"
      ]
     },
     "metadata": {},
     "output_type": "display_data"
    }
   ],
   "source": [
    "# Plotting the confusion matrix\n",
    "plt.figure(figsize=(5, 4))\n",
    "sns.heatmap(cm, annot=True, fmt=\"d\", cmap='Blues', \n",
    "            xticklabels=['Predicted Negative', 'Predicted Positive'],\n",
    "            yticklabels=['Actual Negative', 'Actual Positive'])\n",
    "plt.ylabel('Actual')\n",
    "plt.xlabel('Predicted')\n",
    "plt.title('Confusion Matrix')\n",
    "plt.show()"
   ]
  },
  {
   "cell_type": "markdown",
   "metadata": {},
   "source": [
    "#### The K-Nearest Neighbors (KNN) classifier in its standard form does not provide probability estimates for the classes; it typically outputs only the class predictions. However, you can approximate the probability scores based on the voting of the neighbors in KNN. For each instance, the probability can be estimated as the proportion of neighbors voting for the positive class. \n",
    "\n",
    "#### so no auroc and pr curves"
   ]
  }
 ],
 "metadata": {
  "kernelspec": {
   "display_name": "rapids",
   "language": "python",
   "name": "python3"
  },
  "language_info": {
   "codemirror_mode": {
    "name": "ipython",
    "version": 3
   },
   "file_extension": ".py",
   "mimetype": "text/x-python",
   "name": "python",
   "nbconvert_exporter": "python",
   "pygments_lexer": "ipython3",
   "version": "3.10.13"
  }
 },
 "nbformat": 4,
 "nbformat_minor": 2
}
