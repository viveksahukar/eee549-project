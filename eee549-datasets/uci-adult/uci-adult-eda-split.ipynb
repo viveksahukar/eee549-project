{
 "cells": [
  {
   "cell_type": "markdown",
   "metadata": {},
   "source": [
    "# Wisconsin Breast Cancer"
   ]
  },
  {
   "cell_type": "markdown",
   "metadata": {},
   "source": [
    "## Importing libraries"
   ]
  },
  {
   "cell_type": "code",
   "execution_count": 1,
   "metadata": {
    "ExecuteTime": {
     "end_time": "2023-11-16T05:02:29.850763721Z",
     "start_time": "2023-11-16T05:02:29.843511027Z"
    }
   },
   "outputs": [],
   "source": [
    "import sys\n",
    "sys.path.append('../') \n",
    "from imports import *"
   ]
  },
  {
   "cell_type": "markdown",
   "metadata": {},
   "source": [
    "## Loading dataset"
   ]
  },
  {
   "cell_type": "code",
   "execution_count": 2,
   "metadata": {
    "ExecuteTime": {
     "end_time": "2023-11-16T05:02:30.292858650Z",
     "start_time": "2023-11-16T05:02:29.850013408Z"
    }
   },
   "outputs": [
    {
     "name": "stderr",
     "output_type": "stream",
     "text": [
      "/home/vs/.virtualenvs/torch/lib/python3.8/site-packages/sklearn/datasets/_openml.py:1022: FutureWarning: The default value of `parser` will change from `'liac-arff'` to `'auto'` in 1.4. You can set `parser='auto'` to silence this warning. Therefore, an `ImportError` will be raised from 1.4 if the dataset is dense and pandas is not installed. Note that the pandas parser may return different data types. See the Notes Section in fetch_openml's API doc for details.\n",
      "  warn(\n"
     ]
    },
    {
     "data": {
      "text/html": [
       "<div>\n",
       "<style scoped>\n",
       "    .dataframe tbody tr th:only-of-type {\n",
       "        vertical-align: middle;\n",
       "    }\n",
       "\n",
       "    .dataframe tbody tr th {\n",
       "        vertical-align: top;\n",
       "    }\n",
       "\n",
       "    .dataframe thead th {\n",
       "        text-align: right;\n",
       "    }\n",
       "</style>\n",
       "<table border=\"1\" class=\"dataframe\">\n",
       "  <thead>\n",
       "    <tr style=\"text-align: right;\">\n",
       "      <th></th>\n",
       "      <th>age</th>\n",
       "      <th>workclass</th>\n",
       "      <th>fnlwgt</th>\n",
       "      <th>education</th>\n",
       "      <th>education-num</th>\n",
       "      <th>marital-status</th>\n",
       "      <th>occupation</th>\n",
       "      <th>relationship</th>\n",
       "      <th>race</th>\n",
       "      <th>sex</th>\n",
       "      <th>capital-gain</th>\n",
       "      <th>capital-loss</th>\n",
       "      <th>hours-per-week</th>\n",
       "      <th>native-country</th>\n",
       "      <th>target</th>\n",
       "    </tr>\n",
       "  </thead>\n",
       "  <tbody>\n",
       "    <tr>\n",
       "      <th>0</th>\n",
       "      <td>25.0</td>\n",
       "      <td>Private</td>\n",
       "      <td>226802.0</td>\n",
       "      <td>11th</td>\n",
       "      <td>7.0</td>\n",
       "      <td>Never-married</td>\n",
       "      <td>Machine-op-inspct</td>\n",
       "      <td>Own-child</td>\n",
       "      <td>Black</td>\n",
       "      <td>Male</td>\n",
       "      <td>0.0</td>\n",
       "      <td>0.0</td>\n",
       "      <td>40.0</td>\n",
       "      <td>United-States</td>\n",
       "      <td>0</td>\n",
       "    </tr>\n",
       "    <tr>\n",
       "      <th>1</th>\n",
       "      <td>38.0</td>\n",
       "      <td>Private</td>\n",
       "      <td>89814.0</td>\n",
       "      <td>HS-grad</td>\n",
       "      <td>9.0</td>\n",
       "      <td>Married-civ-spouse</td>\n",
       "      <td>Farming-fishing</td>\n",
       "      <td>Husband</td>\n",
       "      <td>White</td>\n",
       "      <td>Male</td>\n",
       "      <td>0.0</td>\n",
       "      <td>0.0</td>\n",
       "      <td>50.0</td>\n",
       "      <td>United-States</td>\n",
       "      <td>0</td>\n",
       "    </tr>\n",
       "    <tr>\n",
       "      <th>2</th>\n",
       "      <td>28.0</td>\n",
       "      <td>Local-gov</td>\n",
       "      <td>336951.0</td>\n",
       "      <td>Assoc-acdm</td>\n",
       "      <td>12.0</td>\n",
       "      <td>Married-civ-spouse</td>\n",
       "      <td>Protective-serv</td>\n",
       "      <td>Husband</td>\n",
       "      <td>White</td>\n",
       "      <td>Male</td>\n",
       "      <td>0.0</td>\n",
       "      <td>0.0</td>\n",
       "      <td>40.0</td>\n",
       "      <td>United-States</td>\n",
       "      <td>1</td>\n",
       "    </tr>\n",
       "    <tr>\n",
       "      <th>3</th>\n",
       "      <td>44.0</td>\n",
       "      <td>Private</td>\n",
       "      <td>160323.0</td>\n",
       "      <td>Some-college</td>\n",
       "      <td>10.0</td>\n",
       "      <td>Married-civ-spouse</td>\n",
       "      <td>Machine-op-inspct</td>\n",
       "      <td>Husband</td>\n",
       "      <td>Black</td>\n",
       "      <td>Male</td>\n",
       "      <td>7688.0</td>\n",
       "      <td>0.0</td>\n",
       "      <td>40.0</td>\n",
       "      <td>United-States</td>\n",
       "      <td>1</td>\n",
       "    </tr>\n",
       "    <tr>\n",
       "      <th>4</th>\n",
       "      <td>18.0</td>\n",
       "      <td>NaN</td>\n",
       "      <td>103497.0</td>\n",
       "      <td>Some-college</td>\n",
       "      <td>10.0</td>\n",
       "      <td>Never-married</td>\n",
       "      <td>NaN</td>\n",
       "      <td>Own-child</td>\n",
       "      <td>White</td>\n",
       "      <td>Female</td>\n",
       "      <td>0.0</td>\n",
       "      <td>0.0</td>\n",
       "      <td>30.0</td>\n",
       "      <td>United-States</td>\n",
       "      <td>0</td>\n",
       "    </tr>\n",
       "  </tbody>\n",
       "</table>\n",
       "</div>"
      ],
      "text/plain": [
       "    age  workclass    fnlwgt     education  education-num      marital-status  \\\n",
       "0  25.0    Private  226802.0          11th            7.0       Never-married   \n",
       "1  38.0    Private   89814.0       HS-grad            9.0  Married-civ-spouse   \n",
       "2  28.0  Local-gov  336951.0    Assoc-acdm           12.0  Married-civ-spouse   \n",
       "3  44.0    Private  160323.0  Some-college           10.0  Married-civ-spouse   \n",
       "4  18.0        NaN  103497.0  Some-college           10.0       Never-married   \n",
       "\n",
       "          occupation relationship   race     sex  capital-gain  capital-loss  \\\n",
       "0  Machine-op-inspct    Own-child  Black    Male           0.0           0.0   \n",
       "1    Farming-fishing      Husband  White    Male           0.0           0.0   \n",
       "2    Protective-serv      Husband  White    Male           0.0           0.0   \n",
       "3  Machine-op-inspct      Husband  Black    Male        7688.0           0.0   \n",
       "4                NaN    Own-child  White  Female           0.0           0.0   \n",
       "\n",
       "   hours-per-week native-country target  \n",
       "0            40.0  United-States      0  \n",
       "1            50.0  United-States      0  \n",
       "2            40.0  United-States      1  \n",
       "3            40.0  United-States      1  \n",
       "4            30.0  United-States      0  "
      ]
     },
     "execution_count": 2,
     "metadata": {},
     "output_type": "execute_result"
    }
   ],
   "source": [
    "# Fetch the Adult dataset with as_frame=True to get a DataFrame\n",
    "adult_dataset = fetch_openml(name='adult', version=2, as_frame=True)\n",
    "\n",
    "# The dataset is now a DataFrame with feature names as columns\n",
    "X = adult_dataset['data']  # Features as a DataFrame\n",
    "y = adult_dataset['target'].apply(lambda x: 0 if x == '<=50K' else 1)  # Labels as a Series\n",
    "\n",
    "# Combine the features and target into a single DataFrame\n",
    "df = pd.concat([X, y], axis=1)\n",
    "\n",
    "# Rename the target series to have a meaningful column name\n",
    "df.rename(columns={ df.columns[-1]: \"target\" }, inplace = True)\n",
    "df.head()"
   ]
  },
  {
   "cell_type": "markdown",
   "metadata": {},
   "source": [
    "## EDA: Exploratory Data analysis"
   ]
  },
  {
   "cell_type": "markdown",
   "metadata": {},
   "source": [
    "### Missing values"
   ]
  },
  {
   "cell_type": "code",
   "execution_count": 3,
   "metadata": {
    "ExecuteTime": {
     "end_time": "2023-11-16T05:02:30.296019603Z",
     "start_time": "2023-11-16T05:02:30.292738931Z"
    }
   },
   "outputs": [
    {
     "data": {
      "text/plain": [
       "age                  0\n",
       "workclass         2799\n",
       "fnlwgt               0\n",
       "education            0\n",
       "education-num        0\n",
       "marital-status       0\n",
       "occupation        2809\n",
       "relationship         0\n",
       "race                 0\n",
       "sex                  0\n",
       "capital-gain         0\n",
       "capital-loss         0\n",
       "hours-per-week       0\n",
       "native-country     857\n",
       "target               0\n",
       "dtype: int64"
      ]
     },
     "execution_count": 3,
     "metadata": {},
     "output_type": "execute_result"
    }
   ],
   "source": [
    "# missing values in 3 categorical columns: workclass, occupation, native-country\n",
    "df.isna().sum()"
   ]
  },
  {
   "cell_type": "markdown",
   "metadata": {},
   "source": [
    "Ways to handle missing values:\n",
    "1. Imputation with placeholder category: 'Missing' or 'Not available NA'\n",
    "2. Removal of rows with missing values (throwing the information) - doing this as instructed\n",
    "3. Removal of features with missing values (throwing the information)"
   ]
  },
  {
   "cell_type": "code",
   "execution_count": 4,
   "metadata": {
    "ExecuteTime": {
     "end_time": "2023-11-16T05:02:30.296550722Z",
     "start_time": "2023-11-16T05:02:30.295825894Z"
    }
   },
   "outputs": [
    {
     "data": {
      "text/plain": [
       "age               0\n",
       "workclass         0\n",
       "fnlwgt            0\n",
       "education         0\n",
       "education-num     0\n",
       "marital-status    0\n",
       "occupation        0\n",
       "relationship      0\n",
       "race              0\n",
       "sex               0\n",
       "capital-gain      0\n",
       "capital-loss      0\n",
       "hours-per-week    0\n",
       "native-country    0\n",
       "target            0\n",
       "dtype: int64"
      ]
     },
     "execution_count": 4,
     "metadata": {},
     "output_type": "execute_result"
    }
   ],
   "source": [
    "df_cleaned = df.dropna(subset=['workclass', 'occupation', 'native-country'])\n",
    "df_cleaned.isna().sum()"
   ]
  },
  {
   "cell_type": "code",
   "execution_count": 5,
   "metadata": {},
   "outputs": [
    {
     "name": "stdout",
     "output_type": "stream",
     "text": [
      "<class 'pandas.core.frame.DataFrame'>\n",
      "Index: 45222 entries, 0 to 48841\n",
      "Data columns (total 15 columns):\n",
      " #   Column          Non-Null Count  Dtype   \n",
      "---  ------          --------------  -----   \n",
      " 0   age             45222 non-null  float64 \n",
      " 1   workclass       45222 non-null  category\n",
      " 2   fnlwgt          45222 non-null  float64 \n",
      " 3   education       45222 non-null  category\n",
      " 4   education-num   45222 non-null  float64 \n",
      " 5   marital-status  45222 non-null  category\n",
      " 6   occupation      45222 non-null  category\n",
      " 7   relationship    45222 non-null  category\n",
      " 8   race            45222 non-null  category\n",
      " 9   sex             45222 non-null  category\n",
      " 10  capital-gain    45222 non-null  float64 \n",
      " 11  capital-loss    45222 non-null  float64 \n",
      " 12  hours-per-week  45222 non-null  float64 \n",
      " 13  native-country  45222 non-null  category\n",
      " 14  target          45222 non-null  category\n",
      "dtypes: category(9), float64(6)\n",
      "memory usage: 2.8 MB\n"
     ]
    }
   ],
   "source": [
    "df_cleaned.info()"
   ]
  },
  {
   "cell_type": "code",
   "execution_count": 6,
   "metadata": {},
   "outputs": [
    {
     "data": {
      "text/plain": [
       "target\n",
       "0    34014\n",
       "1    11208\n",
       "Name: count, dtype: int64"
      ]
     },
     "execution_count": 6,
     "metadata": {},
     "output_type": "execute_result"
    }
   ],
   "source": [
    "df_cleaned['target'].value_counts()"
   ]
  },
  {
   "cell_type": "markdown",
   "metadata": {},
   "source": [
    "## encoding categorical columns"
   ]
  },
  {
   "cell_type": "code",
   "execution_count": 7,
   "metadata": {},
   "outputs": [
    {
     "data": {
      "text/plain": [
       "['workclass',\n",
       " 'education',\n",
       " 'marital-status',\n",
       " 'occupation',\n",
       " 'relationship',\n",
       " 'race',\n",
       " 'sex',\n",
       " 'native-country']"
      ]
     },
     "execution_count": 7,
     "metadata": {},
     "output_type": "execute_result"
    }
   ],
   "source": [
    "categorical_columns = df_cleaned.select_dtypes(include=['object', 'category']).columns.tolist()\n",
    "if 'target' in categorical_columns:\n",
    "    categorical_columns.remove('target')\n",
    "categorical_columns"
   ]
  },
  {
   "cell_type": "code",
   "execution_count": 8,
   "metadata": {},
   "outputs": [
    {
     "data": {
      "text/plain": [
       "workclass\n",
       "Private             33906\n",
       "Self-emp-not-inc     3862\n",
       "Local-gov            3136\n",
       "State-gov            1981\n",
       "Self-emp-inc         1695\n",
       "Federal-gov          1432\n",
       "Without-pay            21\n",
       "Never-worked           10\n",
       "Name: count, dtype: int64"
      ]
     },
     "execution_count": 8,
     "metadata": {},
     "output_type": "execute_result"
    }
   ],
   "source": [
    "df['workclass'].value_counts()"
   ]
  },
  {
   "cell_type": "markdown",
   "metadata": {},
   "source": [
    "### doing label encoding makes sense for columns: 'workclass', 'education', since there are so many categories the dataset would become wider and sparse, so doing label encoding instead of one-hot encoding"
   ]
  },
  {
   "cell_type": "code",
   "execution_count": 9,
   "metadata": {},
   "outputs": [
    {
     "data": {
      "text/html": [
       "<div>\n",
       "<style scoped>\n",
       "    .dataframe tbody tr th:only-of-type {\n",
       "        vertical-align: middle;\n",
       "    }\n",
       "\n",
       "    .dataframe tbody tr th {\n",
       "        vertical-align: top;\n",
       "    }\n",
       "\n",
       "    .dataframe thead th {\n",
       "        text-align: right;\n",
       "    }\n",
       "</style>\n",
       "<table border=\"1\" class=\"dataframe\">\n",
       "  <thead>\n",
       "    <tr style=\"text-align: right;\">\n",
       "      <th></th>\n",
       "      <th>age</th>\n",
       "      <th>workclass</th>\n",
       "      <th>fnlwgt</th>\n",
       "      <th>education</th>\n",
       "      <th>education-num</th>\n",
       "      <th>marital-status</th>\n",
       "      <th>occupation</th>\n",
       "      <th>relationship</th>\n",
       "      <th>race</th>\n",
       "      <th>sex</th>\n",
       "      <th>capital-gain</th>\n",
       "      <th>capital-loss</th>\n",
       "      <th>hours-per-week</th>\n",
       "      <th>native-country</th>\n",
       "      <th>target</th>\n",
       "    </tr>\n",
       "  </thead>\n",
       "  <tbody>\n",
       "    <tr>\n",
       "      <th>0</th>\n",
       "      <td>25.0</td>\n",
       "      <td>2</td>\n",
       "      <td>226802.0</td>\n",
       "      <td>1</td>\n",
       "      <td>7.0</td>\n",
       "      <td>4</td>\n",
       "      <td>6</td>\n",
       "      <td>3</td>\n",
       "      <td>2</td>\n",
       "      <td>1</td>\n",
       "      <td>0.0</td>\n",
       "      <td>0.0</td>\n",
       "      <td>40.0</td>\n",
       "      <td>38</td>\n",
       "      <td>0</td>\n",
       "    </tr>\n",
       "    <tr>\n",
       "      <th>1</th>\n",
       "      <td>38.0</td>\n",
       "      <td>2</td>\n",
       "      <td>89814.0</td>\n",
       "      <td>11</td>\n",
       "      <td>9.0</td>\n",
       "      <td>2</td>\n",
       "      <td>4</td>\n",
       "      <td>0</td>\n",
       "      <td>4</td>\n",
       "      <td>1</td>\n",
       "      <td>0.0</td>\n",
       "      <td>0.0</td>\n",
       "      <td>50.0</td>\n",
       "      <td>38</td>\n",
       "      <td>0</td>\n",
       "    </tr>\n",
       "    <tr>\n",
       "      <th>2</th>\n",
       "      <td>28.0</td>\n",
       "      <td>1</td>\n",
       "      <td>336951.0</td>\n",
       "      <td>7</td>\n",
       "      <td>12.0</td>\n",
       "      <td>2</td>\n",
       "      <td>10</td>\n",
       "      <td>0</td>\n",
       "      <td>4</td>\n",
       "      <td>1</td>\n",
       "      <td>0.0</td>\n",
       "      <td>0.0</td>\n",
       "      <td>40.0</td>\n",
       "      <td>38</td>\n",
       "      <td>1</td>\n",
       "    </tr>\n",
       "    <tr>\n",
       "      <th>3</th>\n",
       "      <td>44.0</td>\n",
       "      <td>2</td>\n",
       "      <td>160323.0</td>\n",
       "      <td>15</td>\n",
       "      <td>10.0</td>\n",
       "      <td>2</td>\n",
       "      <td>6</td>\n",
       "      <td>0</td>\n",
       "      <td>2</td>\n",
       "      <td>1</td>\n",
       "      <td>7688.0</td>\n",
       "      <td>0.0</td>\n",
       "      <td>40.0</td>\n",
       "      <td>38</td>\n",
       "      <td>1</td>\n",
       "    </tr>\n",
       "    <tr>\n",
       "      <th>5</th>\n",
       "      <td>34.0</td>\n",
       "      <td>2</td>\n",
       "      <td>198693.0</td>\n",
       "      <td>0</td>\n",
       "      <td>6.0</td>\n",
       "      <td>4</td>\n",
       "      <td>7</td>\n",
       "      <td>1</td>\n",
       "      <td>4</td>\n",
       "      <td>1</td>\n",
       "      <td>0.0</td>\n",
       "      <td>0.0</td>\n",
       "      <td>30.0</td>\n",
       "      <td>38</td>\n",
       "      <td>0</td>\n",
       "    </tr>\n",
       "  </tbody>\n",
       "</table>\n",
       "</div>"
      ],
      "text/plain": [
       "    age  workclass    fnlwgt  education  education-num  marital-status  \\\n",
       "0  25.0          2  226802.0          1            7.0               4   \n",
       "1  38.0          2   89814.0         11            9.0               2   \n",
       "2  28.0          1  336951.0          7           12.0               2   \n",
       "3  44.0          2  160323.0         15           10.0               2   \n",
       "5  34.0          2  198693.0          0            6.0               4   \n",
       "\n",
       "   occupation  relationship  race  sex  capital-gain  capital-loss  \\\n",
       "0           6             3     2    1           0.0           0.0   \n",
       "1           4             0     4    1           0.0           0.0   \n",
       "2          10             0     4    1           0.0           0.0   \n",
       "3           6             0     2    1        7688.0           0.0   \n",
       "5           7             1     4    1           0.0           0.0   \n",
       "\n",
       "   hours-per-week  native-country target  \n",
       "0            40.0              38      0  \n",
       "1            50.0              38      0  \n",
       "2            40.0              38      1  \n",
       "3            40.0              38      1  \n",
       "5            30.0              38      0  "
      ]
     },
     "execution_count": 9,
     "metadata": {},
     "output_type": "execute_result"
    }
   ],
   "source": [
    "label_encoder = LabelEncoder()\n",
    "# Dictionary to store mappings\n",
    "label_mappings = {}\n",
    "\n",
    "# Apply label encoding and store mappings\n",
    "for col in categorical_columns:\n",
    "    df_cleaned.loc[:, col] = label_encoder.fit_transform(df_cleaned[col])\n",
    "    label_mappings[col] = {i: label for i, label in enumerate(label_encoder.classes_)}\n",
    "\n",
    "df_cleaned.head()"
   ]
  },
  {
   "cell_type": "code",
   "execution_count": 10,
   "metadata": {},
   "outputs": [
    {
     "data": {
      "text/plain": [
       "{'workclass': {0: 'Federal-gov',\n",
       "  1: 'Local-gov',\n",
       "  2: 'Private',\n",
       "  3: 'Self-emp-inc',\n",
       "  4: 'Self-emp-not-inc',\n",
       "  5: 'State-gov',\n",
       "  6: 'Without-pay'},\n",
       " 'education': {0: '10th',\n",
       "  1: '11th',\n",
       "  2: '12th',\n",
       "  3: '1st-4th',\n",
       "  4: '5th-6th',\n",
       "  5: '7th-8th',\n",
       "  6: '9th',\n",
       "  7: 'Assoc-acdm',\n",
       "  8: 'Assoc-voc',\n",
       "  9: 'Bachelors',\n",
       "  10: 'Doctorate',\n",
       "  11: 'HS-grad',\n",
       "  12: 'Masters',\n",
       "  13: 'Preschool',\n",
       "  14: 'Prof-school',\n",
       "  15: 'Some-college'},\n",
       " 'marital-status': {0: 'Divorced',\n",
       "  1: 'Married-AF-spouse',\n",
       "  2: 'Married-civ-spouse',\n",
       "  3: 'Married-spouse-absent',\n",
       "  4: 'Never-married',\n",
       "  5: 'Separated',\n",
       "  6: 'Widowed'},\n",
       " 'occupation': {0: 'Adm-clerical',\n",
       "  1: 'Armed-Forces',\n",
       "  2: 'Craft-repair',\n",
       "  3: 'Exec-managerial',\n",
       "  4: 'Farming-fishing',\n",
       "  5: 'Handlers-cleaners',\n",
       "  6: 'Machine-op-inspct',\n",
       "  7: 'Other-service',\n",
       "  8: 'Priv-house-serv',\n",
       "  9: 'Prof-specialty',\n",
       "  10: 'Protective-serv',\n",
       "  11: 'Sales',\n",
       "  12: 'Tech-support',\n",
       "  13: 'Transport-moving'},\n",
       " 'relationship': {0: 'Husband',\n",
       "  1: 'Not-in-family',\n",
       "  2: 'Other-relative',\n",
       "  3: 'Own-child',\n",
       "  4: 'Unmarried',\n",
       "  5: 'Wife'},\n",
       " 'race': {0: 'Amer-Indian-Eskimo',\n",
       "  1: 'Asian-Pac-Islander',\n",
       "  2: 'Black',\n",
       "  3: 'Other',\n",
       "  4: 'White'},\n",
       " 'sex': {0: 'Female', 1: 'Male'},\n",
       " 'native-country': {0: 'Cambodia',\n",
       "  1: 'Canada',\n",
       "  2: 'China',\n",
       "  3: 'Columbia',\n",
       "  4: 'Cuba',\n",
       "  5: 'Dominican-Republic',\n",
       "  6: 'Ecuador',\n",
       "  7: 'El-Salvador',\n",
       "  8: 'England',\n",
       "  9: 'France',\n",
       "  10: 'Germany',\n",
       "  11: 'Greece',\n",
       "  12: 'Guatemala',\n",
       "  13: 'Haiti',\n",
       "  14: 'Holand-Netherlands',\n",
       "  15: 'Honduras',\n",
       "  16: 'Hong',\n",
       "  17: 'Hungary',\n",
       "  18: 'India',\n",
       "  19: 'Iran',\n",
       "  20: 'Ireland',\n",
       "  21: 'Italy',\n",
       "  22: 'Jamaica',\n",
       "  23: 'Japan',\n",
       "  24: 'Laos',\n",
       "  25: 'Mexico',\n",
       "  26: 'Nicaragua',\n",
       "  27: 'Outlying-US(Guam-USVI-etc)',\n",
       "  28: 'Peru',\n",
       "  29: 'Philippines',\n",
       "  30: 'Poland',\n",
       "  31: 'Portugal',\n",
       "  32: 'Puerto-Rico',\n",
       "  33: 'Scotland',\n",
       "  34: 'South',\n",
       "  35: 'Taiwan',\n",
       "  36: 'Thailand',\n",
       "  37: 'Trinadad&Tobago',\n",
       "  38: 'United-States',\n",
       "  39: 'Vietnam',\n",
       "  40: 'Yugoslavia'}}"
      ]
     },
     "execution_count": 10,
     "metadata": {},
     "output_type": "execute_result"
    }
   ],
   "source": [
    "label_mappings"
   ]
  },
  {
   "cell_type": "markdown",
   "metadata": {},
   "source": [
    "### Class imbalance"
   ]
  },
  {
   "cell_type": "code",
   "execution_count": 11,
   "metadata": {
    "ExecuteTime": {
     "end_time": "2023-11-16T05:02:30.366420416Z",
     "start_time": "2023-11-16T05:02:30.297248308Z"
    }
   },
   "outputs": [
    {
     "data": {
      "text/plain": [
       "target\n",
       "0    34014\n",
       "1    11208\n",
       "Name: count, dtype: int64"
      ]
     },
     "execution_count": 11,
     "metadata": {},
     "output_type": "execute_result"
    }
   ],
   "source": [
    "# Too much class imbalance, how to handle this?\n",
    "df_cleaned.target.value_counts()"
   ]
  },
  {
   "cell_type": "code",
   "execution_count": 12,
   "metadata": {
    "ExecuteTime": {
     "end_time": "2023-11-16T05:02:30.366645996Z",
     "start_time": "2023-11-16T05:02:30.342771505Z"
    }
   },
   "outputs": [
    {
     "name": "stdout",
     "output_type": "stream",
     "text": [
      "Class 0: 69.64%\n",
      "Class 1: 22.95%\n"
     ]
    }
   ],
   "source": [
    "# Count the occurrences of each class (1 and 0)\n",
    "class_counts = df_cleaned['target'].value_counts()\n",
    "class_percentages = class_counts / len(df) * 100\n",
    "\n",
    "# print(f\"Class Percentages: {class_percentages:.2f}\")\n",
    "for class_label, percentage in class_percentages.items():\n",
    "    print(f\"Class {class_label}: {percentage:.2f}%\")"
   ]
  },
  {
   "cell_type": "code",
   "execution_count": 13,
   "metadata": {
    "ExecuteTime": {
     "end_time": "2023-11-16T05:02:30.409414137Z",
     "start_time": "2023-11-16T05:02:30.342973944Z"
    }
   },
   "outputs": [
    {
     "data": {
      "image/png": "[encoded data removed]",
      "text/plain": [
       "<Figure size 640x480 with 1 Axes>"
      ]
     },
     "metadata": {},
     "output_type": "display_data"
    }
   ],
   "source": [
    "# Plotting histogram with different colors for each class\n",
    "plt.bar(0, class_counts[0], color='green', edgecolor='black', alpha=0.7)\n",
    "plt.bar(1, class_counts[1], color='red', edgecolor='black', alpha=0.7)\n",
    "plt.xticks([0, 1])\n",
    "plt.title('Histogram of Class Distribution')\n",
    "plt.xlabel('Class')\n",
    "plt.ylabel('Count')\n",
    "\n",
    "# Annotating the histogram with class percentages\n",
    "plt.text(0, class_counts[0], f'{class_percentages[0]:.2f}%', ha='center', va='bottom')\n",
    "plt.text(1, class_counts[1], f'{class_percentages[1]:.2f}%', ha='center', va='bottom')\n",
    "\n",
    "plt.show()"
   ]
  },
  {
   "cell_type": "markdown",
   "metadata": {},
   "source": [
    "### Correlation matrix"
   ]
  },
  {
   "cell_type": "code",
   "execution_count": 14,
   "metadata": {
    "ExecuteTime": {
     "end_time": "2023-11-16T05:02:30.506128617Z",
     "start_time": "2023-11-16T05:02:30.391282756Z"
    }
   },
   "outputs": [
    {
     "name": "stdout",
     "output_type": "stream",
     "text": [
      "<class 'pandas.core.frame.DataFrame'>\n",
      "Index: 45222 entries, 0 to 48841\n",
      "Data columns (total 15 columns):\n",
      " #   Column          Non-Null Count  Dtype   \n",
      "---  ------          --------------  -----   \n",
      " 0   age             45222 non-null  float64 \n",
      " 1   workclass       45222 non-null  int64   \n",
      " 2   fnlwgt          45222 non-null  float64 \n",
      " 3   education       45222 non-null  int64   \n",
      " 4   education-num   45222 non-null  float64 \n",
      " 5   marital-status  45222 non-null  int64   \n",
      " 6   occupation      45222 non-null  int64   \n",
      " 7   relationship    45222 non-null  int64   \n",
      " 8   race            45222 non-null  int64   \n",
      " 9   sex             45222 non-null  int64   \n",
      " 10  capital-gain    45222 non-null  float64 \n",
      " 11  capital-loss    45222 non-null  float64 \n",
      " 12  hours-per-week  45222 non-null  float64 \n",
      " 13  native-country  45222 non-null  int64   \n",
      " 14  target          45222 non-null  category\n",
      "dtypes: category(1), float64(6), int64(8)\n",
      "memory usage: 5.2 MB\n"
     ]
    }
   ],
   "source": [
    "df_cleaned.info()"
   ]
  },
  {
   "cell_type": "code",
   "execution_count": 15,
   "metadata": {
    "ExecuteTime": {
     "end_time": "2023-11-16T05:02:30.513782081Z",
     "start_time": "2023-11-16T05:02:30.434371427Z"
    }
   },
   "outputs": [
    {
     "data": {
      "image/png": "[encoded data removed]",
      "text/plain": [
       "<Figure size 1200x800 with 2 Axes>"
      ]
     },
     "metadata": {},
     "output_type": "display_data"
    }
   ],
   "source": [
    "# Select only the numerical columns from the DataFrame\n",
    "numerical_df = df_cleaned.select_dtypes(include=['float64'])\n",
    "\n",
    "# Calculate the correlation matrix for the numerical features\n",
    "correlation_matrix_numerical = numerical_df.corr()\n",
    "\n",
    "plt.figure(figsize=(12, 8))\n",
    "sns.heatmap(correlation_matrix_numerical, annot=True, fmt='.2f', cmap='coolwarm', linewidths=.5, cbar_kws={\"shrink\": .5})\n",
    "plt.title('Correlation Matrix for Numerical Features')\n",
    "plt.show()"
   ]
  },
  {
   "cell_type": "markdown",
   "metadata": {},
   "source": [
    "## now divide the data into train, val, test sets while maintaining the class imbalance"
   ]
  },
  {
   "cell_type": "code",
   "execution_count": 16,
   "metadata": {},
   "outputs": [],
   "source": [
    "target_column = 'target'\n",
    "\n",
    "# First, split into training and a temporary test set\n",
    "df_train, df_temp = train_test_split(df_cleaned, test_size=0.3, random_state=1, stratify=df_cleaned[target_column])\n",
    "\n",
    "# Then split the temporary test set into validation and test sets\n",
    "df_val, df_test = train_test_split(df_temp, test_size=0.5, random_state=1, stratify=df_temp[target_column])\n"
   ]
  },
  {
   "cell_type": "code",
   "execution_count": 17,
   "metadata": {},
   "outputs": [
    {
     "data": {
      "text/plain": [
       "target\n",
       "0    23809\n",
       "1     7846\n",
       "Name: count, dtype: int64"
      ]
     },
     "execution_count": 17,
     "metadata": {},
     "output_type": "execute_result"
    }
   ],
   "source": [
    "df_train.target.value_counts()"
   ]
  },
  {
   "cell_type": "code",
   "execution_count": 18,
   "metadata": {},
   "outputs": [
    {
     "name": "stdout",
     "output_type": "stream",
     "text": [
      "Training Set Class Percentages:\n",
      " target\n",
      "0    75.214026\n",
      "1    24.785974\n",
      "Name: proportion, dtype: float64\n",
      "\n",
      "Validation Set Class Percentages:\n",
      " target\n",
      "0    75.217455\n",
      "1    24.782545\n",
      "Name: proportion, dtype: float64\n",
      "\n",
      "Test Set Class Percentages:\n",
      " target\n",
      "0    75.221108\n",
      "1    24.778892\n",
      "Name: proportion, dtype: float64\n"
     ]
    }
   ],
   "source": [
    "def calculate_class_percentages(df, target_column):\n",
    "    class_counts = df[target_column].value_counts(normalize=True) * 100\n",
    "    return class_counts\n",
    "\n",
    "# Calculate class percentages in each set\n",
    "train_class_percentages = calculate_class_percentages(df_train, target_column)\n",
    "val_class_percentages = calculate_class_percentages(df_val, target_column)\n",
    "test_class_percentages = calculate_class_percentages(df_test, target_column)\n",
    "\n",
    "# Display the percentages\n",
    "print(\"Training Set Class Percentages:\\n\", train_class_percentages)\n",
    "print(\"\\nValidation Set Class Percentages:\\n\", val_class_percentages)\n",
    "print(\"\\nTest Set Class Percentages:\\n\", test_class_percentages)\n"
   ]
  },
  {
   "cell_type": "markdown",
   "metadata": {},
   "source": [
    "## now saving datasets for future use"
   ]
  },
  {
   "cell_type": "code",
   "execution_count": 19,
   "metadata": {},
   "outputs": [],
   "source": [
    "df_train.to_csv('./uci-adult-processed-data/train.csv', index=False)\n",
    "df_val.to_csv('./uci-adult-processed-data/val.csv', index=False)\n",
    "df_test.to_csv('./uci-adult-processed-data/test.csv', index=False)\n"
   ]
  },
  {
   "cell_type": "markdown",
   "metadata": {},
   "source": []
  }
 ],
 "metadata": {
  "kernelspec": {
   "display_name": "torch",
   "language": "python",
   "name": "python3"
  },
  "language_info": {
   "codemirror_mode": {
    "name": "ipython",
    "version": 3
   },
   "file_extension": ".py",
   "mimetype": "text/x-python",
   "name": "python",
   "nbconvert_exporter": "python",
   "pygments_lexer": "ipython3",
   "version": "3.8.10"
  }
 },
 "nbformat": 4,
 "nbformat_minor": 2
}
