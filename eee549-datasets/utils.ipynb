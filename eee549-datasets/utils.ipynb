{
 "cells": [
  {
   "cell_type": "code",
   "execution_count": 2,
   "metadata": {},
   "outputs": [],
   "source": [
    "import numpy as np\n",
    "import pandas as pd\n",
    "import matplotlib.pyplot as plt\n",
    "import seaborn as sns\n",
    "from sklearn.svm import SVC\n",
    "from sklearn.model_selection import GridSearchCV\n",
    "from sklearn.metrics import accuracy_score, make_scorer, roc_auc_score, roc_curve, average_precision_score, precision_recall_curve, classification_report, confusion_matrix\n",
    "from sklearn.utils import resample\n"
   ]
  },
  {
   "cell_type": "code",
   "execution_count": 3,
   "metadata": {},
   "outputs": [],
   "source": [
    "def plot_roc_pr_curves(y_true, y_probs, n_bootstraps=1000):\n",
    "    # Perform bootstrapping to calculate the confidence intervals\n",
    "    bootstrap_auroc_scores = []\n",
    "    bootstrap_average_precision_scores = []\n",
    "\n",
    "    for _ in range(n_bootstraps):\n",
    "        # Bootstrap sample (with replacement)\n",
    "        indices = resample(np.arange(len(y_true)), replace=True)\n",
    "        y_true_boot = y_true.iloc[indices]\n",
    "        y_probs_boot = y_probs[indices]\n",
    "\n",
    "        # Compute metrics for bootstrap sample\n",
    "        bootstrap_auroc_scores.append(roc_auc_score(y_true_boot, y_probs_boot))\n",
    "        bootstrap_average_precision_scores.append(average_precision_score(y_true_boot, y_probs_boot))\n",
    "\n",
    "    # Compute confidence intervals\n",
    "    auroc_lower = np.percentile(bootstrap_auroc_scores, 2.5)\n",
    "    auroc_upper = np.percentile(bootstrap_auroc_scores, 97.5)\n",
    "    ap_lower = np.percentile(bootstrap_average_precision_scores, 2.5)\n",
    "    ap_upper = np.percentile(bootstrap_average_precision_scores, 97.5)\n",
    "\n",
    "    # Calculate original ROC and PR curves\n",
    "    fpr, tpr, _ = roc_curve(y_true, y_probs)\n",
    "    precision, recall, _ = precision_recall_curve(y_true, y_probs)\n",
    "    auroc = roc_auc_score(y_true, y_probs)\n",
    "    average_precision = average_precision_score(y_true, y_probs)\n",
    "\n",
    "    # Plotting\n",
    "    fig, (ax1, ax2) = plt.subplots(1, 2, figsize=(16, 6))\n",
    "\n",
    "    # ROC Curve\n",
    "    ax1.plot(fpr, tpr, color='darkorange', lw=2, label=f'ROC curve (area = {auroc:.2f})')\n",
    "    ax1.plot([0, 1], [0, 1], color='navy', lw=2, linestyle='--')\n",
    "    ax1.set_xlabel('False Positive Rate')\n",
    "    ax1.set_ylabel('True Positive Rate')\n",
    "    ax1.set_title('Receiver Operating Characteristic')\n",
    "    ax1.legend(loc=\"lower right\", title=f'95% CI: [{auroc_lower:.2f}, {auroc_upper:.2f}]')\n",
    "\n",
    "    # Precision-Recall Curve\n",
    "    ax2.plot(recall, precision, color='blue', lw=2, label=f'PR curve (area = {average_precision:.2f})')\n",
    "    ax2.set_xlabel('Recall')\n",
    "    ax2.set_ylabel('Precision')\n",
    "    ax2.set_title('Precision-Recall Curve')\n",
    "    ax2.legend(loc=\"lower left\", title=f'95% CI: [{ap_lower:.2f}, {ap_upper:.2f}]')\n",
    "\n",
    "    plt.show()\n",
    "\n",
    "    # Return the confidence intervals\n",
    "    return (auroc_lower, auroc_upper), (ap_lower, ap_upper)\n",
    "\n",
    "\n"
   ]
  },
  {
   "cell_type": "code",
   "execution_count": null,
   "metadata": {},
   "outputs": [],
   "source": []
  }
 ],
 "metadata": {
  "kernelspec": {
   "display_name": "torch",
   "language": "python",
   "name": "python3"
  },
  "language_info": {
   "codemirror_mode": {
    "name": "ipython",
    "version": 3
   },
   "file_extension": ".py",
   "mimetype": "text/x-python",
   "name": "python",
   "nbconvert_exporter": "python",
   "pygments_lexer": "ipython3",
   "version": "3.11.4"
  }
 },
 "nbformat": 4,
 "nbformat_minor": 2
}
