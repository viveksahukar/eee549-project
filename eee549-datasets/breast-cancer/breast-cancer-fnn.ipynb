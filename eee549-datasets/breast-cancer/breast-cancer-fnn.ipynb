{
 "cells": [
  {
   "cell_type": "code",
   "execution_count": null,
   "id": "initial_id",
   "metadata": {
    "collapsed": true
   },
   "outputs": [],
   "source": []
  },
  {
   "cell_type": "code",
   "execution_count": 38,
   "outputs": [],
   "source": [
    "import sys\n",
    "sys.path.append('../') \n",
    "from imports import *\n",
    "import torch\n",
    "import torch.nn as nn\n",
    "import torch.optim as optim\n",
    "from torch.utils.data import TensorDataset, DataLoader\n",
    "from sklearn.model_selection import ParameterGrid\n",
    "\n"
   ],
   "metadata": {
    "collapsed": false,
    "ExecuteTime": {
     "end_time": "2023-12-04T01:20:33.079159574Z",
     "start_time": "2023-12-04T01:20:33.076087206Z"
    }
   },
   "id": "b218f6aea8a972e3"
  },
  {
   "cell_type": "code",
   "execution_count": 39,
   "outputs": [
    {
     "name": "stdout",
     "output_type": "stream",
     "text": [
      "Using device: cuda\n"
     ]
    }
   ],
   "source": [
    "device = torch.device(\"cuda\" if torch.cuda.is_available() else \"cpu\")\n",
    "print(\"Using device:\", device)"
   ],
   "metadata": {
    "collapsed": false,
    "ExecuteTime": {
     "end_time": "2023-12-04T01:20:33.333766640Z",
     "start_time": "2023-12-04T01:20:33.328867530Z"
    }
   },
   "id": "8d2ad3c83c9e47a3"
  },
  {
   "cell_type": "code",
   "execution_count": 40,
   "outputs": [
    {
     "data": {
      "text/plain": "True"
     },
     "execution_count": 40,
     "metadata": {},
     "output_type": "execute_result"
    }
   ],
   "source": [
    "torch.cuda.is_available()"
   ],
   "metadata": {
    "collapsed": false,
    "ExecuteTime": {
     "end_time": "2023-12-04T01:20:33.550348604Z",
     "start_time": "2023-12-04T01:20:33.507943472Z"
    }
   },
   "id": "88daa3a7c12fe2c4"
  },
  {
   "cell_type": "code",
   "execution_count": 41,
   "outputs": [],
   "source": [
    "X_train = pd.read_csv('./breast-cancer-processed-data/X_train.csv').values\n",
    "y_train = pd.read_csv('./breast-cancer-processed-data/y_train.csv').values\n",
    "X_val = pd.read_csv('./breast-cancer-processed-data/X_val.csv').values\n",
    "y_val = pd.read_csv('./breast-cancer-processed-data/y_val.csv').values\n",
    "X_test = pd.read_csv('./breast-cancer-processed-data/X_test.csv').values\n",
    "y_test = pd.read_csv('./breast-cancer-processed-data/y_test.csv').values"
   ],
   "metadata": {
    "collapsed": false,
    "ExecuteTime": {
     "end_time": "2023-12-04T01:20:34.547081388Z",
     "start_time": "2023-12-04T01:20:34.533541408Z"
    }
   },
   "id": "a7ac2232263d86df"
  },
  {
   "cell_type": "code",
   "execution_count": 42,
   "outputs": [],
   "source": [
    "# Convert Numpy arrays to PyTorch tensors\n",
    "X_train, y_train = torch.tensor(X_train, dtype=torch.float32), torch.tensor(y_train, dtype=torch.float32)\n",
    "X_val, y_val = torch.tensor(X_val, dtype=torch.float32), torch.tensor(y_val, dtype=torch.float32)\n",
    "X_test, y_test = torch.tensor(X_test, dtype=torch.float32), torch.tensor(y_test, dtype=torch.float32)\n",
    "\n",
    "# Create dataloaders\n",
    "train_loader = DataLoader(TensorDataset(X_train, y_train), batch_size=32, shuffle=True)\n",
    "val_loader = DataLoader(TensorDataset(X_val, y_val), batch_size=32)\n",
    "test_loader = DataLoader(TensorDataset(X_test, y_test), batch_size=32)"
   ],
   "metadata": {
    "collapsed": false,
    "ExecuteTime": {
     "end_time": "2023-12-04T01:20:34.936171196Z",
     "start_time": "2023-12-04T01:20:34.933025691Z"
    }
   },
   "id": "d6f4f619fce9688e"
  },
  {
   "cell_type": "code",
   "execution_count": 42,
   "outputs": [],
   "source": [],
   "metadata": {
    "collapsed": false,
    "ExecuteTime": {
     "end_time": "2023-12-04T01:20:35.551692647Z",
     "start_time": "2023-12-04T01:20:35.549799731Z"
    }
   },
   "id": "60af736bf37d7953"
  },
  {
   "cell_type": "code",
   "execution_count": 42,
   "outputs": [],
   "source": [],
   "metadata": {
    "collapsed": false,
    "ExecuteTime": {
     "end_time": "2023-12-04T01:20:35.826500544Z",
     "start_time": "2023-12-04T01:20:35.823716304Z"
    }
   },
   "id": "8a02f2f6b6d55590"
  },
  {
   "cell_type": "code",
   "execution_count": 42,
   "outputs": [],
   "source": [],
   "metadata": {
    "collapsed": false,
    "ExecuteTime": {
     "end_time": "2023-12-04T01:20:36.134570316Z",
     "start_time": "2023-12-04T01:20:36.127071611Z"
    }
   },
   "id": "721be6b39c3c476a"
  },
  {
   "cell_type": "code",
   "execution_count": 43,
   "outputs": [],
   "source": [
    "class FNN(nn.Module):\n",
    "    def __init__(self, input_size):\n",
    "        super(FNN, self).__init__()\n",
    "        self.fc1 = nn.Linear(input_size, 64)\n",
    "        self.relu = nn.ReLU()\n",
    "        self.fc2 = nn.Linear(64, 1)\n",
    "        self.sigmoid = nn.Sigmoid()\n",
    "\n",
    "    def forward(self, x):\n",
    "        x = self.fc1(x)\n",
    "        x = self.relu(x)\n",
    "        x = self.fc2(x)\n",
    "        x = self.sigmoid(x)\n",
    "        return x"
   ],
   "metadata": {
    "collapsed": false,
    "ExecuteTime": {
     "end_time": "2023-12-04T01:20:36.606596262Z",
     "start_time": "2023-12-04T01:20:36.593893055Z"
    }
   },
   "id": "19bcab98c2a2e923"
  },
  {
   "cell_type": "code",
   "execution_count": 44,
   "outputs": [
    {
     "ename": "RuntimeError",
     "evalue": "CUDA error: device-side assert triggered\nCUDA kernel errors might be asynchronously reported at some other API call, so the stacktrace below might be incorrect.\nFor debugging consider passing CUDA_LAUNCH_BLOCKING=1.\nCompile with `TORCH_USE_CUDA_DSA` to enable device-side assertions.\n",
     "output_type": "error",
     "traceback": [
      "\u001B[0;31m---------------------------------------------------------------------------\u001B[0m",
      "\u001B[0;31mRuntimeError\u001B[0m                              Traceback (most recent call last)",
      "Cell \u001B[0;32mIn[44], line 1\u001B[0m\n\u001B[0;32m----> 1\u001B[0m model \u001B[38;5;241m=\u001B[39m \u001B[43mFNN\u001B[49m\u001B[43m(\u001B[49m\u001B[43mX_train\u001B[49m\u001B[38;5;241;43m.\u001B[39;49m\u001B[43mshape\u001B[49m\u001B[43m[\u001B[49m\u001B[38;5;241;43m1\u001B[39;49m\u001B[43m]\u001B[49m\u001B[43m)\u001B[49m\u001B[38;5;241;43m.\u001B[39;49m\u001B[43mto\u001B[49m\u001B[43m(\u001B[49m\u001B[43mdevice\u001B[49m\u001B[43m)\u001B[49m\n\u001B[1;32m      2\u001B[0m criterion \u001B[38;5;241m=\u001B[39m nn\u001B[38;5;241m.\u001B[39mBCELoss()  \n\u001B[1;32m      3\u001B[0m optimizer \u001B[38;5;241m=\u001B[39m optim\u001B[38;5;241m.\u001B[39mAdam(model\u001B[38;5;241m.\u001B[39mparameters(), lr\u001B[38;5;241m=\u001B[39m\u001B[38;5;241m0.001\u001B[39m)\n",
      "File \u001B[0;32m~/anaconda3/envs/eee549-project/lib/python3.10/site-packages/torch/nn/modules/module.py:1160\u001B[0m, in \u001B[0;36mModule.to\u001B[0;34m(self, *args, **kwargs)\u001B[0m\n\u001B[1;32m   1156\u001B[0m         \u001B[38;5;28;01mreturn\u001B[39;00m t\u001B[38;5;241m.\u001B[39mto(device, dtype \u001B[38;5;28;01mif\u001B[39;00m t\u001B[38;5;241m.\u001B[39mis_floating_point() \u001B[38;5;129;01mor\u001B[39;00m t\u001B[38;5;241m.\u001B[39mis_complex() \u001B[38;5;28;01melse\u001B[39;00m \u001B[38;5;28;01mNone\u001B[39;00m,\n\u001B[1;32m   1157\u001B[0m                     non_blocking, memory_format\u001B[38;5;241m=\u001B[39mconvert_to_format)\n\u001B[1;32m   1158\u001B[0m     \u001B[38;5;28;01mreturn\u001B[39;00m t\u001B[38;5;241m.\u001B[39mto(device, dtype \u001B[38;5;28;01mif\u001B[39;00m t\u001B[38;5;241m.\u001B[39mis_floating_point() \u001B[38;5;129;01mor\u001B[39;00m t\u001B[38;5;241m.\u001B[39mis_complex() \u001B[38;5;28;01melse\u001B[39;00m \u001B[38;5;28;01mNone\u001B[39;00m, non_blocking)\n\u001B[0;32m-> 1160\u001B[0m \u001B[38;5;28;01mreturn\u001B[39;00m \u001B[38;5;28;43mself\u001B[39;49m\u001B[38;5;241;43m.\u001B[39;49m\u001B[43m_apply\u001B[49m\u001B[43m(\u001B[49m\u001B[43mconvert\u001B[49m\u001B[43m)\u001B[49m\n",
      "File \u001B[0;32m~/anaconda3/envs/eee549-project/lib/python3.10/site-packages/torch/nn/modules/module.py:810\u001B[0m, in \u001B[0;36mModule._apply\u001B[0;34m(self, fn, recurse)\u001B[0m\n\u001B[1;32m    808\u001B[0m \u001B[38;5;28;01mif\u001B[39;00m recurse:\n\u001B[1;32m    809\u001B[0m     \u001B[38;5;28;01mfor\u001B[39;00m module \u001B[38;5;129;01min\u001B[39;00m \u001B[38;5;28mself\u001B[39m\u001B[38;5;241m.\u001B[39mchildren():\n\u001B[0;32m--> 810\u001B[0m         \u001B[43mmodule\u001B[49m\u001B[38;5;241;43m.\u001B[39;49m\u001B[43m_apply\u001B[49m\u001B[43m(\u001B[49m\u001B[43mfn\u001B[49m\u001B[43m)\u001B[49m\n\u001B[1;32m    812\u001B[0m \u001B[38;5;28;01mdef\u001B[39;00m \u001B[38;5;21mcompute_should_use_set_data\u001B[39m(tensor, tensor_applied):\n\u001B[1;32m    813\u001B[0m     \u001B[38;5;28;01mif\u001B[39;00m torch\u001B[38;5;241m.\u001B[39m_has_compatible_shallow_copy_type(tensor, tensor_applied):\n\u001B[1;32m    814\u001B[0m         \u001B[38;5;66;03m# If the new tensor has compatible tensor type as the existing tensor,\u001B[39;00m\n\u001B[1;32m    815\u001B[0m         \u001B[38;5;66;03m# the current behavior is to change the tensor in-place using `.data =`,\u001B[39;00m\n\u001B[0;32m   (...)\u001B[0m\n\u001B[1;32m    820\u001B[0m         \u001B[38;5;66;03m# global flag to let the user control whether they want the future\u001B[39;00m\n\u001B[1;32m    821\u001B[0m         \u001B[38;5;66;03m# behavior of overwriting the existing tensor or not.\u001B[39;00m\n",
      "File \u001B[0;32m~/anaconda3/envs/eee549-project/lib/python3.10/site-packages/torch/nn/modules/module.py:833\u001B[0m, in \u001B[0;36mModule._apply\u001B[0;34m(self, fn, recurse)\u001B[0m\n\u001B[1;32m    829\u001B[0m \u001B[38;5;66;03m# Tensors stored in modules are graph leaves, and we don't want to\u001B[39;00m\n\u001B[1;32m    830\u001B[0m \u001B[38;5;66;03m# track autograd history of `param_applied`, so we have to use\u001B[39;00m\n\u001B[1;32m    831\u001B[0m \u001B[38;5;66;03m# `with torch.no_grad():`\u001B[39;00m\n\u001B[1;32m    832\u001B[0m \u001B[38;5;28;01mwith\u001B[39;00m torch\u001B[38;5;241m.\u001B[39mno_grad():\n\u001B[0;32m--> 833\u001B[0m     param_applied \u001B[38;5;241m=\u001B[39m \u001B[43mfn\u001B[49m\u001B[43m(\u001B[49m\u001B[43mparam\u001B[49m\u001B[43m)\u001B[49m\n\u001B[1;32m    834\u001B[0m should_use_set_data \u001B[38;5;241m=\u001B[39m compute_should_use_set_data(param, param_applied)\n\u001B[1;32m    835\u001B[0m \u001B[38;5;28;01mif\u001B[39;00m should_use_set_data:\n",
      "File \u001B[0;32m~/anaconda3/envs/eee549-project/lib/python3.10/site-packages/torch/nn/modules/module.py:1158\u001B[0m, in \u001B[0;36mModule.to.<locals>.convert\u001B[0;34m(t)\u001B[0m\n\u001B[1;32m   1155\u001B[0m \u001B[38;5;28;01mif\u001B[39;00m convert_to_format \u001B[38;5;129;01mis\u001B[39;00m \u001B[38;5;129;01mnot\u001B[39;00m \u001B[38;5;28;01mNone\u001B[39;00m \u001B[38;5;129;01mand\u001B[39;00m t\u001B[38;5;241m.\u001B[39mdim() \u001B[38;5;129;01min\u001B[39;00m (\u001B[38;5;241m4\u001B[39m, \u001B[38;5;241m5\u001B[39m):\n\u001B[1;32m   1156\u001B[0m     \u001B[38;5;28;01mreturn\u001B[39;00m t\u001B[38;5;241m.\u001B[39mto(device, dtype \u001B[38;5;28;01mif\u001B[39;00m t\u001B[38;5;241m.\u001B[39mis_floating_point() \u001B[38;5;129;01mor\u001B[39;00m t\u001B[38;5;241m.\u001B[39mis_complex() \u001B[38;5;28;01melse\u001B[39;00m \u001B[38;5;28;01mNone\u001B[39;00m,\n\u001B[1;32m   1157\u001B[0m                 non_blocking, memory_format\u001B[38;5;241m=\u001B[39mconvert_to_format)\n\u001B[0;32m-> 1158\u001B[0m \u001B[38;5;28;01mreturn\u001B[39;00m \u001B[43mt\u001B[49m\u001B[38;5;241;43m.\u001B[39;49m\u001B[43mto\u001B[49m\u001B[43m(\u001B[49m\u001B[43mdevice\u001B[49m\u001B[43m,\u001B[49m\u001B[43m \u001B[49m\u001B[43mdtype\u001B[49m\u001B[43m \u001B[49m\u001B[38;5;28;43;01mif\u001B[39;49;00m\u001B[43m \u001B[49m\u001B[43mt\u001B[49m\u001B[38;5;241;43m.\u001B[39;49m\u001B[43mis_floating_point\u001B[49m\u001B[43m(\u001B[49m\u001B[43m)\u001B[49m\u001B[43m \u001B[49m\u001B[38;5;129;43;01mor\u001B[39;49;00m\u001B[43m \u001B[49m\u001B[43mt\u001B[49m\u001B[38;5;241;43m.\u001B[39;49m\u001B[43mis_complex\u001B[49m\u001B[43m(\u001B[49m\u001B[43m)\u001B[49m\u001B[43m \u001B[49m\u001B[38;5;28;43;01melse\u001B[39;49;00m\u001B[43m \u001B[49m\u001B[38;5;28;43;01mNone\u001B[39;49;00m\u001B[43m,\u001B[49m\u001B[43m \u001B[49m\u001B[43mnon_blocking\u001B[49m\u001B[43m)\u001B[49m\n",
      "\u001B[0;31mRuntimeError\u001B[0m: CUDA error: device-side assert triggered\nCUDA kernel errors might be asynchronously reported at some other API call, so the stacktrace below might be incorrect.\nFor debugging consider passing CUDA_LAUNCH_BLOCKING=1.\nCompile with `TORCH_USE_CUDA_DSA` to enable device-side assertions.\n"
     ]
    }
   ],
   "source": [
    "model = FNN(X_train.shape[1]).to(device)\n",
    "criterion = nn.BCELoss()  \n",
    "optimizer = optim.Adam(model.parameters(), lr=0.001)\n"
   ],
   "metadata": {
    "collapsed": false,
    "ExecuteTime": {
     "end_time": "2023-12-04T01:20:41.942852434Z",
     "start_time": "2023-12-04T01:20:41.887723787Z"
    }
   },
   "id": "1c0f8d1b70934b5"
  },
  {
   "cell_type": "code",
   "execution_count": null,
   "outputs": [],
   "source": [
    "def calculate_accuracy(y_pred, y_true):\n",
    "    # Convert predictions to binary values (0 or 1)\n",
    "    predicted = torch.round(y_pred).view(-1)\n",
    "    return (predicted == y_true).sum().float() / len(y_true)\n",
    "\n",
    "train_losses, val_losses = [], []\n",
    "train_accuracies, val_accuracies = [], []\n",
    "# Training and validation for certain epochs\n",
    "epochs = 100\n",
    "for epoch in range(epochs):  # number of epochs\n",
    "    model.train()\n",
    "    total_loss, total_acc = 0, 0\n",
    "    for data, target in train_loader:\n",
    "        data, target = data.to(device), target.to(device)\n",
    "        optimizer.zero_grad()\n",
    "        output = model(data)\n",
    "        loss = criterion(output, target)\n",
    "        loss.backward()\n",
    "        optimizer.step()\n",
    "        total_loss += loss.item()\n",
    "        total_acc += calculate_accuracy(output, target)\n",
    "        \n",
    "    avg_train_loss = total_loss / len(train_loader)\n",
    "    avg_train_acc = total_acc / len(train_loader)\n",
    "    train_losses.append(avg_train_loss)\n",
    "    train_accuracies.append(avg_train_acc)\n",
    "    \n",
    "    # Validation\n",
    "    model.eval()\n",
    "    val_loss, val_acc = 0, 0\n",
    "    with torch.no_grad():\n",
    "        for data, target in val_loader:\n",
    "            data, target = data.to(device), target.to(device)\n",
    "            output = model(data)\n",
    "            val_loss += criterion(output, target).item()\n",
    "            val_acc += calculate_accuracy(output, target)\n",
    "            \n",
    "    avg_val_loss = val_loss / len(val_loader)\n",
    "    avg_val_acc = val_acc / len(val_loader)\n",
    "    val_losses.append(avg_val_loss)\n",
    "    val_accuracies.append(avg_val_acc)\n",
    "    print(f'Epoch {epoch+1}, Training Loss: {avg_train_loss:.4f}, Training Accuracy: {avg_train_acc:.4f}, Validation Loss: {avg_val_loss:.4f}, Validation Accuracy: {avg_val_acc:.4f}')\n",
    "\n"
   ],
   "metadata": {
    "collapsed": false,
    "ExecuteTime": {
     "end_time": "2023-12-04T01:20:05.298974928Z",
     "start_time": "2023-12-04T01:20:05.297518898Z"
    }
   },
   "id": "8a55aef2dac5bcbf"
  },
  {
   "cell_type": "code",
   "execution_count": 34,
   "outputs": [],
   "source": [],
   "metadata": {
    "collapsed": false,
    "ExecuteTime": {
     "end_time": "2023-12-04T01:20:06.698171934Z",
     "start_time": "2023-12-04T01:20:06.692959519Z"
    }
   },
   "id": "83419ceeb9a146c6"
  },
  {
   "cell_type": "code",
   "execution_count": 35,
   "outputs": [
    {
     "data": {
      "text/plain": "<Figure size 1200x400 with 2 Axes>",
      "image/png": "[encoded data removed]"
     },
     "metadata": {},
     "output_type": "display_data"
    }
   ],
   "source": [
    "import matplotlib.pyplot as plt\n",
    "\n",
    "# Plotting training and validation losses\n",
    "plt.figure(figsize=(12, 4))\n",
    "plt.subplot(1, 2, 1)\n",
    "plt.plot(train_losses, label='Training Loss')\n",
    "plt.plot(val_losses, label='Validation Loss')\n",
    "plt.title('Training & Validation Loss')\n",
    "plt.xlabel('Epochs')\n",
    "plt.ylabel('Loss')\n",
    "plt.legend()\n",
    "train_accuracies = [acc.cpu().numpy() for acc in train_accuracies]\n",
    "val_accuracies = [acc.cpu().numpy() for acc in val_accuracies]\n",
    "\n",
    "# Plotting training and validation accuracies\n",
    "plt.subplot(1, 2, 2)\n",
    "plt.plot(train_accuracies, label='Training Accuracy')\n",
    "plt.plot(val_accuracies, label='Validation Accuracy')\n",
    "plt.title('Training & Validation Accuracy')\n",
    "plt.xlabel('Epochs')\n",
    "plt.ylabel('Accuracy')\n",
    "plt.legend()\n",
    "\n",
    "plt.show()\n"
   ],
   "metadata": {
    "collapsed": false,
    "ExecuteTime": {
     "end_time": "2023-12-04T01:20:07.428977195Z",
     "start_time": "2023-12-04T01:20:07.174230225Z"
    }
   },
   "id": "70cb55e4e9486c2"
  },
  {
   "cell_type": "code",
   "execution_count": 13,
   "outputs": [
    {
     "name": "stdout",
     "output_type": "stream",
     "text": [
      "Test Loss: 0.05450681410729885\n"
     ]
    }
   ],
   "source": [
    "# Testing the model\n",
    "model.eval()\n",
    "test_loss = 0\n",
    "with torch.no_grad():\n",
    "    for data, target in test_loader:\n",
    "        data, target = data.to(device), target.to(device)\n",
    "        output = model(data)\n",
    "        test_loss += criterion(output, target).item()\n",
    "print(f'Test Loss: {test_loss / len(test_loader)}')"
   ],
   "metadata": {
    "collapsed": false,
    "ExecuteTime": {
     "end_time": "2023-12-04T01:04:39.133890664Z",
     "start_time": "2023-12-04T01:04:39.093110422Z"
    }
   },
   "id": "95a3ed4d7026226f"
  },
  {
   "cell_type": "code",
   "execution_count": 26,
   "outputs": [],
   "source": [
    "# Now let us perform hyperparamter tuning to find optimal parameters and replace them where needed!\n",
    "# Defining the parametr grid for hyperparameter tuning\n",
    "param_grid = {\n",
    "    'lr': [0.001, 0.01],\n",
    "    'batch_size': [32, 64],\n",
    "    'epochs': [50, 100]\n",
    "}"
   ],
   "metadata": {
    "collapsed": false
   },
   "id": "d863789f9db839e3"
  },
  {
   "cell_type": "code",
   "execution_count": 27,
   "outputs": [],
   "source": [
    "# Function to train and evaluate the model\n",
    "def train_val_evaluate(model, train_loader, val_loader, criterion, optimizer, epochs=3):\n",
    "    \n",
    "    for epoch in range(epochs):\n",
    "        model.train()\n",
    "        for inputs, labels in train_loader:\n",
    "            inputs, labels = inputs.to(device), labels.to(device)\n",
    "            optimizer.zero_grad()\n",
    "            outputs = model(inputs)\n",
    "            loss = criterion(outputs, labels)\n",
    "            loss.backward()\n",
    "            optimizer.step()\n",
    "\n",
    "    model.eval()\n",
    "    correct_val = 0\n",
    "    total_val = 0\n",
    "    with torch.no_grad():\n",
    "        for images, labels in val_loader:\n",
    "            images, labels = images.to(device), labels.to(device)\n",
    "            outputs = model(images)\n",
    "            _, predicted = torch.max(outputs.data, 1)\n",
    "            total_val += labels.size(0)\n",
    "            correct_val += (predicted == labels).sum().item()\n",
    "\n",
    "    val_accuracy = 100 * correct_val / total_val\n",
    "    return val_accuracy"
   ],
   "metadata": {
    "collapsed": false
   },
   "id": "ee27f6a2e02e19c1"
  },
  {
   "cell_type": "code",
   "execution_count": 28,
   "outputs": [
    {
     "name": "stdout",
     "output_type": "stream",
     "text": [
      "Params: {'batch_size': 32, 'epochs': 50, 'lr': 0.001}, Validation Accuracy: 89.57%\n",
      "Params: {'batch_size': 32, 'epochs': 50, 'lr': 0.01}, Validation Accuracy: 85.95%\n",
      "Params: {'batch_size': 32, 'epochs': 100, 'lr': 0.001}, Validation Accuracy: 89.33%\n",
      "Params: {'batch_size': 32, 'epochs': 100, 'lr': 0.01}, Validation Accuracy: 85.05%\n",
      "Params: {'batch_size': 64, 'epochs': 50, 'lr': 0.001}, Validation Accuracy: 89.43%\n",
      "Params: {'batch_size': 64, 'epochs': 50, 'lr': 0.01}, Validation Accuracy: 86.43%\n",
      "Params: {'batch_size': 64, 'epochs': 100, 'lr': 0.001}, Validation Accuracy: 89.75%\n",
      "Params: {'batch_size': 64, 'epochs': 100, 'lr': 0.01}, Validation Accuracy: 86.27%\n",
      "Best Params: {'batch_size': 64, 'epochs': 100, 'lr': 0.001}, Best Accuracy: 89.75%\n"
     ]
    }
   ],
   "source": [
    "# Let us begin Hyperparameter tuning\n",
    "best_accuracy = 0\n",
    "best_params = None\n",
    "\n",
    "for params in ParameterGrid(param_grid):\n",
    "    # Update batch size for data loaders\n",
    "    train_loader = DataLoader(TensorDataset(train_data, train_targets), batch_size=params['batch_size'], shuffle=True)\n",
    "    val_loader = DataLoader(TensorDataset(val_data, val_targets), batch_size=params['batch_size'], shuffle=False)\n",
    "    model = SingleLayerCNN().to(device)\n",
    "\n",
    "    criterion = nn.CrossEntropyLoss()\n",
    "    optimizer = optim.Adam(model.parameters(), lr=params['lr'])\n",
    "\n",
    "    # Training and evaluating the model\n",
    "    accuracy = train_val_evaluate(model, train_loader, val_loader, criterion, optimizer, params['epochs'])\n",
    "    \n",
    "    if accuracy > best_accuracy:\n",
    "        best_accuracy = accuracy\n",
    "        best_params = params\n",
    "\n",
    "    print(f\"Params: {params}, Validation Accuracy: {accuracy:.2f}%\")\n",
    "\n",
    "print(f\"Best Params: {best_params}, Best Accuracy: {best_accuracy:.2f}%\")"
   ],
   "metadata": {
    "collapsed": false
   },
   "id": "641a001899a4b4cf"
  },
  {
   "cell_type": "code",
   "execution_count": 33,
   "outputs": [],
   "source": [
    "\n",
    "model = SingleLayerCNN().to(device)\n",
    "criterion = nn.CrossEntropyLoss()\n",
    "optimizer = optim.Adam(model.parameters(), lr=0.001)\n"
   ],
   "metadata": {
    "collapsed": false
   },
   "id": "75bb10487730709f"
  },
  {
   "cell_type": "code",
   "execution_count": 36,
   "outputs": [
    {
     "name": "stdout",
     "output_type": "stream",
     "text": [
      "Epoch [1/100], Training accuracy: 93.53%, Validation Accuracy: 90.28%\n",
      "Epoch [2/100], Training accuracy: 94.20%, Validation Accuracy: 90.03%\n",
      "Epoch [3/100], Training accuracy: 94.68%, Validation Accuracy: 90.53%\n",
      "Epoch [4/100], Training accuracy: 95.13%, Validation Accuracy: 90.32%\n",
      "Epoch [5/100], Training accuracy: 95.55%, Validation Accuracy: 90.68%\n",
      "Epoch [6/100], Training accuracy: 95.84%, Validation Accuracy: 90.87%\n",
      "Epoch [7/100], Training accuracy: 96.30%, Validation Accuracy: 90.37%\n",
      "Epoch [8/100], Training accuracy: 96.43%, Validation Accuracy: 90.28%\n",
      "Epoch [9/100], Training accuracy: 96.80%, Validation Accuracy: 90.27%\n",
      "Epoch [10/100], Training accuracy: 97.04%, Validation Accuracy: 90.08%\n",
      "Epoch [11/100], Training accuracy: 97.27%, Validation Accuracy: 90.55%\n",
      "Epoch [12/100], Training accuracy: 97.41%, Validation Accuracy: 90.28%\n",
      "Epoch [13/100], Training accuracy: 97.69%, Validation Accuracy: 90.25%\n",
      "Epoch [14/100], Training accuracy: 97.73%, Validation Accuracy: 90.15%\n",
      "Epoch [15/100], Training accuracy: 97.97%, Validation Accuracy: 90.40%\n",
      "Epoch [16/100], Training accuracy: 98.11%, Validation Accuracy: 90.13%\n",
      "Epoch [17/100], Training accuracy: 98.32%, Validation Accuracy: 90.42%\n",
      "Epoch [18/100], Training accuracy: 98.42%, Validation Accuracy: 90.12%\n",
      "Epoch [19/100], Training accuracy: 98.44%, Validation Accuracy: 90.42%\n",
      "Epoch [20/100], Training accuracy: 98.68%, Validation Accuracy: 90.33%\n",
      "Epoch [21/100], Training accuracy: 98.69%, Validation Accuracy: 90.17%\n",
      "Epoch [22/100], Training accuracy: 98.88%, Validation Accuracy: 90.20%\n",
      "Epoch [23/100], Training accuracy: 98.82%, Validation Accuracy: 90.20%\n",
      "Epoch [24/100], Training accuracy: 98.95%, Validation Accuracy: 90.48%\n",
      "Epoch [25/100], Training accuracy: 99.02%, Validation Accuracy: 89.77%\n",
      "Epoch [26/100], Training accuracy: 99.05%, Validation Accuracy: 90.40%\n",
      "Epoch [27/100], Training accuracy: 99.17%, Validation Accuracy: 89.83%\n",
      "Epoch [28/100], Training accuracy: 99.19%, Validation Accuracy: 90.33%\n",
      "Epoch [29/100], Training accuracy: 99.29%, Validation Accuracy: 89.68%\n",
      "Epoch [30/100], Training accuracy: 99.31%, Validation Accuracy: 89.85%\n",
      "Epoch [31/100], Training accuracy: 99.28%, Validation Accuracy: 90.13%\n",
      "Epoch [32/100], Training accuracy: 99.48%, Validation Accuracy: 90.30%\n",
      "Epoch [33/100], Training accuracy: 99.47%, Validation Accuracy: 89.82%\n",
      "Epoch [34/100], Training accuracy: 99.45%, Validation Accuracy: 90.17%\n",
      "Epoch [35/100], Training accuracy: 99.52%, Validation Accuracy: 89.48%\n",
      "Epoch [36/100], Training accuracy: 99.50%, Validation Accuracy: 89.52%\n",
      "Epoch [37/100], Training accuracy: 99.62%, Validation Accuracy: 89.63%\n",
      "Epoch [38/100], Training accuracy: 99.59%, Validation Accuracy: 89.83%\n",
      "Epoch [39/100], Training accuracy: 99.64%, Validation Accuracy: 89.50%\n",
      "Epoch [40/100], Training accuracy: 99.68%, Validation Accuracy: 89.37%\n",
      "Epoch [41/100], Training accuracy: 99.70%, Validation Accuracy: 89.70%\n",
      "Epoch [42/100], Training accuracy: 99.68%, Validation Accuracy: 89.47%\n",
      "Epoch [43/100], Training accuracy: 99.68%, Validation Accuracy: 89.58%\n",
      "Epoch [44/100], Training accuracy: 99.73%, Validation Accuracy: 89.65%\n",
      "Epoch [45/100], Training accuracy: 99.72%, Validation Accuracy: 89.53%\n",
      "Epoch [46/100], Training accuracy: 99.78%, Validation Accuracy: 89.83%\n",
      "Epoch [47/100], Training accuracy: 99.76%, Validation Accuracy: 89.57%\n",
      "Epoch [48/100], Training accuracy: 99.72%, Validation Accuracy: 89.58%\n",
      "Epoch [49/100], Training accuracy: 99.81%, Validation Accuracy: 89.73%\n",
      "Epoch [50/100], Training accuracy: 99.79%, Validation Accuracy: 89.52%\n",
      "Epoch [51/100], Training accuracy: 99.68%, Validation Accuracy: 89.00%\n",
      "Epoch [52/100], Training accuracy: 99.81%, Validation Accuracy: 89.15%\n",
      "Epoch [53/100], Training accuracy: 99.86%, Validation Accuracy: 89.43%\n",
      "Epoch [54/100], Training accuracy: 99.92%, Validation Accuracy: 89.87%\n",
      "Epoch [55/100], Training accuracy: 99.85%, Validation Accuracy: 89.38%\n",
      "Epoch [56/100], Training accuracy: 99.76%, Validation Accuracy: 89.42%\n",
      "Epoch [57/100], Training accuracy: 99.89%, Validation Accuracy: 89.93%\n",
      "Epoch [58/100], Training accuracy: 99.84%, Validation Accuracy: 89.52%\n",
      "Epoch [59/100], Training accuracy: 99.89%, Validation Accuracy: 89.83%\n",
      "Epoch [60/100], Training accuracy: 99.83%, Validation Accuracy: 89.60%\n",
      "Epoch [61/100], Training accuracy: 99.92%, Validation Accuracy: 89.17%\n",
      "Epoch [62/100], Training accuracy: 99.79%, Validation Accuracy: 89.42%\n",
      "Epoch [63/100], Training accuracy: 99.81%, Validation Accuracy: 89.43%\n",
      "Epoch [64/100], Training accuracy: 99.94%, Validation Accuracy: 89.85%\n",
      "Epoch [65/100], Training accuracy: 99.89%, Validation Accuracy: 89.77%\n",
      "Epoch [66/100], Training accuracy: 99.76%, Validation Accuracy: 89.87%\n",
      "Epoch [67/100], Training accuracy: 99.93%, Validation Accuracy: 89.50%\n",
      "Epoch [68/100], Training accuracy: 99.79%, Validation Accuracy: 89.67%\n",
      "Epoch [69/100], Training accuracy: 99.98%, Validation Accuracy: 89.85%\n",
      "Epoch [70/100], Training accuracy: 99.68%, Validation Accuracy: 89.75%\n",
      "Epoch [71/100], Training accuracy: 99.96%, Validation Accuracy: 89.45%\n",
      "Epoch [72/100], Training accuracy: 99.94%, Validation Accuracy: 89.63%\n",
      "Epoch [73/100], Training accuracy: 99.77%, Validation Accuracy: 89.63%\n",
      "Epoch [74/100], Training accuracy: 99.98%, Validation Accuracy: 89.65%\n",
      "Epoch [75/100], Training accuracy: 99.99%, Validation Accuracy: 89.63%\n",
      "Epoch [76/100], Training accuracy: 99.67%, Validation Accuracy: 89.73%\n",
      "Epoch [77/100], Training accuracy: 99.98%, Validation Accuracy: 89.92%\n",
      "Epoch [78/100], Training accuracy: 99.97%, Validation Accuracy: 89.30%\n",
      "Epoch [79/100], Training accuracy: 99.68%, Validation Accuracy: 89.33%\n",
      "Epoch [80/100], Training accuracy: 99.98%, Validation Accuracy: 89.85%\n",
      "Epoch [81/100], Training accuracy: 100.00%, Validation Accuracy: 89.72%\n",
      "Epoch [82/100], Training accuracy: 99.70%, Validation Accuracy: 89.28%\n",
      "Epoch [83/100], Training accuracy: 99.87%, Validation Accuracy: 89.42%\n",
      "Epoch [84/100], Training accuracy: 99.91%, Validation Accuracy: 89.88%\n",
      "Epoch [85/100], Training accuracy: 99.84%, Validation Accuracy: 89.05%\n",
      "Epoch [86/100], Training accuracy: 99.93%, Validation Accuracy: 89.75%\n",
      "Epoch [87/100], Training accuracy: 100.00%, Validation Accuracy: 89.78%\n",
      "Epoch [88/100], Training accuracy: 99.94%, Validation Accuracy: 89.05%\n",
      "Epoch [89/100], Training accuracy: 99.55%, Validation Accuracy: 89.35%\n",
      "Epoch [90/100], Training accuracy: 99.99%, Validation Accuracy: 89.72%\n",
      "Epoch [91/100], Training accuracy: 100.00%, Validation Accuracy: 89.75%\n",
      "Epoch [92/100], Training accuracy: 100.00%, Validation Accuracy: 89.72%\n",
      "Epoch [93/100], Training accuracy: 99.62%, Validation Accuracy: 88.92%\n",
      "Epoch [94/100], Training accuracy: 99.87%, Validation Accuracy: 89.70%\n",
      "Epoch [95/100], Training accuracy: 100.00%, Validation Accuracy: 89.73%\n",
      "Epoch [96/100], Training accuracy: 100.00%, Validation Accuracy: 89.50%\n",
      "Epoch [97/100], Training accuracy: 100.00%, Validation Accuracy: 89.85%\n",
      "Epoch [98/100], Training accuracy: 99.78%, Validation Accuracy: 88.68%\n",
      "Epoch [99/100], Training accuracy: 99.82%, Validation Accuracy: 89.60%\n",
      "Epoch [100/100], Training accuracy: 99.92%, Validation Accuracy: 89.50%\n"
     ]
    }
   ],
   "source": [
    "import matplotlib.pyplot as plt\n",
    "\n",
    "train_accuracies = []\n",
    "val_accuracies = []\n",
    "# Data loaders and set batch size for training, validation, testing\n",
    "batch_size = 64\n",
    "train_loader = DataLoader(TensorDataset(train_data, train_targets), batch_size=batch_size, shuffle=True)\n",
    "val_loader = DataLoader(TensorDataset(val_data, val_targets), batch_size=batch_size, shuffle=False)\n",
    "test_loader = DataLoader(TensorDataset(test_data, test_targets), batch_size=batch_size, shuffle=False)\n",
    "# Training and validation for certain epochs\n",
    "epochs = 100\n",
    "for epoch in range(epochs):\n",
    "    model.train()\n",
    "    total_train = 0\n",
    "    correct_train = 0\n",
    "    for i, (inputs, labels) in enumerate(train_loader):\n",
    "        inputs, labels = inputs.to(device), labels.to(device)\n",
    "\n",
    "        outputs = model(inputs)\n",
    "        loss = criterion(outputs, labels)\n",
    "        optimizer.zero_grad()\n",
    "        loss.backward()\n",
    "        optimizer.step()\n",
    "\n",
    "        # Calculate training accuracy\n",
    "        _, predicted_train = torch.max(outputs.data, 1)\n",
    "        total_train += labels.size(0)\n",
    "        correct_train += (predicted_train == labels).sum().item()\n",
    "\n",
    "    train_accuracy = 100 * correct_train / total_train\n",
    "    train_accuracies.append(train_accuracy)\n",
    "\n",
    "    # Validation phase\n",
    "    model.eval()\n",
    "    correct_val = 0\n",
    "    total_val = 0\n",
    "    with torch.no_grad():\n",
    "        for images, labels in val_loader:\n",
    "            images, labels = images.to(device), labels.to(device)\n",
    "            outputs = model(images)\n",
    "            _, predicted = torch.max(outputs.data, 1)\n",
    "            total_val += labels.size(0)\n",
    "            correct_val += (predicted == labels).sum().item()\n",
    "\n",
    "    val_accuracy = 100 * correct_val / total_val\n",
    "    val_accuracies.append(val_accuracy)\n",
    "\n",
    "    print(f'Epoch [{epoch+1}/{epochs}], Training accuracy: {train_accuracy:.2f}%, Validation Accuracy: {val_accuracy:.2f}%')\n",
    "\n"
   ],
   "metadata": {
    "collapsed": false
   },
   "id": "d25ae65dee54190f"
  },
  {
   "cell_type": "code",
   "execution_count": 38,
   "outputs": [
    {
     "data": {
      "text/plain": "<Figure size 1000x600 with 1 Axes>",
      "image/png": "[encoded data removed]"
     },
     "metadata": {},
     "output_type": "display_data"
    }
   ],
   "source": [
    "\n",
    "# Plotting the learning curves\n",
    "plt.figure(figsize=(10, 6))\n",
    "plt.plot(train_accuracies, label='Training Accuracy')\n",
    "plt.plot(val_accuracies, label='Validation Accuracy')\n",
    "plt.title('Learning Curves')\n",
    "plt.xlabel('Epochs')\n",
    "plt.ylabel('Accuracy')\n",
    "plt.ylim([0,120])\n",
    "plt.legend()\n",
    "plt.grid(True)\n",
    "plt.show()"
   ],
   "metadata": {
    "collapsed": false
   },
   "id": "e6425c35ba788ca2"
  }
 ],
 "metadata": {
  "kernelspec": {
   "display_name": "Python 3",
   "language": "python",
   "name": "python3"
  },
  "language_info": {
   "codemirror_mode": {
    "name": "ipython",
    "version": 2
   },
   "file_extension": ".py",
   "mimetype": "text/x-python",
   "name": "python",
   "nbconvert_exporter": "python",
   "pygments_lexer": "ipython2",
   "version": "2.7.6"
  }
 },
 "nbformat": 4,
 "nbformat_minor": 5
}
