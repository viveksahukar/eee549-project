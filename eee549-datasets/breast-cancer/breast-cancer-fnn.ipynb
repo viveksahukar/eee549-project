{
 "cells": [
  {
   "cell_type": "code",
   "execution_count": null,
   "id": "initial_id",
   "metadata": {
    "collapsed": true
   },
   "outputs": [],
   "source": []
  },
  {
   "cell_type": "code",
   "execution_count": 10,
   "outputs": [],
   "source": [
    "import sys\n",
    "sys.path.append('../') \n",
    "from imports import *\n",
    "import torch\n",
    "import torch.nn as nn\n",
    "import torch.optim as optim\n",
    "from torch.utils.data import TensorDataset, DataLoader\n",
    "from sklearn.model_selection import ParameterGrid\n",
    "\n"
   ],
   "metadata": {
    "collapsed": false,
    "ExecuteTime": {
     "end_time": "2023-12-04T01:24:52.045835679Z",
     "start_time": "2023-12-04T01:24:52.038716882Z"
    }
   },
   "id": "b218f6aea8a972e3"
  },
  {
   "cell_type": "code",
   "execution_count": 11,
   "outputs": [
    {
     "name": "stdout",
     "output_type": "stream",
     "text": [
      "Using device: cuda\n"
     ]
    }
   ],
   "source": [
    "device = torch.device(\"cuda\" if torch.cuda.is_available() else \"cpu\")\n",
    "print(\"Using device:\", device)"
   ],
   "metadata": {
    "collapsed": false,
    "ExecuteTime": {
     "end_time": "2023-12-04T01:24:52.514412102Z",
     "start_time": "2023-12-04T01:24:52.489802092Z"
    }
   },
   "id": "8d2ad3c83c9e47a3"
  },
  {
   "cell_type": "code",
   "execution_count": 12,
   "outputs": [
    {
     "data": {
      "text/plain": "True"
     },
     "execution_count": 12,
     "metadata": {},
     "output_type": "execute_result"
    }
   ],
   "source": [
    "torch.cuda.is_available()"
   ],
   "metadata": {
    "collapsed": false,
    "ExecuteTime": {
     "end_time": "2023-12-04T01:24:52.802944733Z",
     "start_time": "2023-12-04T01:24:52.780957803Z"
    }
   },
   "id": "88daa3a7c12fe2c4"
  },
  {
   "cell_type": "code",
   "execution_count": 13,
   "outputs": [],
   "source": [
    "X_train = pd.read_csv('./breast-cancer-processed-data/X_train.csv').values\n",
    "y_train = pd.read_csv('./breast-cancer-processed-data/y_train.csv').values\n",
    "X_val = pd.read_csv('./breast-cancer-processed-data/X_val.csv').values\n",
    "y_val = pd.read_csv('./breast-cancer-processed-data/y_val.csv').values\n",
    "X_test = pd.read_csv('./breast-cancer-processed-data/X_test.csv').values\n",
    "y_test = pd.read_csv('./breast-cancer-processed-data/y_test.csv').values"
   ],
   "metadata": {
    "collapsed": false,
    "ExecuteTime": {
     "end_time": "2023-12-04T01:24:53.864292637Z",
     "start_time": "2023-12-04T01:24:53.805212970Z"
    }
   },
   "id": "a7ac2232263d86df"
  },
  {
   "cell_type": "code",
   "execution_count": 16,
   "outputs": [
    {
     "data": {
      "text/plain": "array([1])"
     },
     "execution_count": 16,
     "metadata": {},
     "output_type": "execute_result"
    }
   ],
   "source": [],
   "metadata": {
    "collapsed": false,
    "ExecuteTime": {
     "end_time": "2023-12-04T01:25:15.349584530Z",
     "start_time": "2023-12-04T01:25:15.264074702Z"
    }
   },
   "id": "ca80c1a0f861060b"
  },
  {
   "cell_type": "code",
   "execution_count": 32,
   "outputs": [
    {
     "name": "stderr",
     "output_type": "stream",
     "text": [
      "/tmp/ipykernel_5647/1444445010.py:2: UserWarning: To copy construct from a tensor, it is recommended to use sourceTensor.clone().detach() or sourceTensor.clone().detach().requires_grad_(True), rather than torch.tensor(sourceTensor).\n",
      "  X_train, y_train = torch.tensor(X_train, dtype=torch.float32), torch.tensor(y_train, dtype=torch.float32)\n",
      "/tmp/ipykernel_5647/1444445010.py:3: UserWarning: To copy construct from a tensor, it is recommended to use sourceTensor.clone().detach() or sourceTensor.clone().detach().requires_grad_(True), rather than torch.tensor(sourceTensor).\n",
      "  X_val, y_val = torch.tensor(X_val, dtype=torch.float32), torch.tensor(y_val, dtype=torch.float32)\n",
      "/tmp/ipykernel_5647/1444445010.py:4: UserWarning: To copy construct from a tensor, it is recommended to use sourceTensor.clone().detach() or sourceTensor.clone().detach().requires_grad_(True), rather than torch.tensor(sourceTensor).\n",
      "  X_test, y_test = torch.tensor(X_test, dtype=torch.float32), torch.tensor(y_test, dtype=torch.float32)\n"
     ]
    }
   ],
   "source": [
    "# Convert Numpy arrays to PyTorch tensors\n",
    "X_train, y_train = torch.tensor(X_train, dtype=torch.float32), torch.tensor(y_train, dtype=torch.float32)\n",
    "X_val, y_val = torch.tensor(X_val, dtype=torch.float32), torch.tensor(y_val, dtype=torch.float32)\n",
    "X_test, y_test = torch.tensor(X_test, dtype=torch.float32), torch.tensor(y_test, dtype=torch.float32)\n",
    "\n",
    "# Create dataloaders\n",
    "train_loader = DataLoader(TensorDataset(X_train, y_train), batch_size=32, shuffle=True)\n",
    "val_loader = DataLoader(TensorDataset(X_val, y_val), batch_size=32)\n",
    "test_loader = DataLoader(TensorDataset(X_test, y_test), batch_size=1)"
   ],
   "metadata": {
    "collapsed": false,
    "ExecuteTime": {
     "end_time": "2023-12-04T01:33:02.636015317Z",
     "start_time": "2023-12-04T01:33:02.621048644Z"
    }
   },
   "id": "d6f4f619fce9688e"
  },
  {
   "cell_type": "code",
   "execution_count": 17,
   "outputs": [],
   "source": [],
   "metadata": {
    "collapsed": false,
    "ExecuteTime": {
     "end_time": "2023-12-04T01:25:49.031563388Z",
     "start_time": "2023-12-04T01:25:49.018445975Z"
    }
   },
   "id": "60af736bf37d7953"
  },
  {
   "cell_type": "code",
   "execution_count": 17,
   "outputs": [],
   "source": [],
   "metadata": {
    "collapsed": false,
    "ExecuteTime": {
     "end_time": "2023-12-04T01:25:49.415887229Z",
     "start_time": "2023-12-04T01:25:49.397958418Z"
    }
   },
   "id": "8a02f2f6b6d55590"
  },
  {
   "cell_type": "code",
   "execution_count": 17,
   "outputs": [],
   "source": [],
   "metadata": {
    "collapsed": false,
    "ExecuteTime": {
     "end_time": "2023-12-04T01:25:49.671811996Z",
     "start_time": "2023-12-04T01:25:49.653433155Z"
    }
   },
   "id": "721be6b39c3c476a"
  },
  {
   "cell_type": "code",
   "execution_count": 18,
   "outputs": [],
   "source": [
    "class FNN(nn.Module):\n",
    "    def __init__(self, input_size):\n",
    "        super(FNN, self).__init__()\n",
    "        self.fc1 = nn.Linear(input_size, 64)\n",
    "        self.relu = nn.ReLU()\n",
    "        self.fc2 = nn.Linear(64, 1)\n",
    "        self.sigmoid = nn.Sigmoid()\n",
    "\n",
    "    def forward(self, x):\n",
    "        x = self.fc1(x)\n",
    "        x = self.relu(x)\n",
    "        x = self.fc2(x)\n",
    "        x = self.sigmoid(x)\n",
    "        return x"
   ],
   "metadata": {
    "collapsed": false,
    "ExecuteTime": {
     "end_time": "2023-12-04T01:25:49.895116229Z",
     "start_time": "2023-12-04T01:25:49.876366706Z"
    }
   },
   "id": "19bcab98c2a2e923"
  },
  {
   "cell_type": "code",
   "execution_count": 27,
   "outputs": [],
   "source": [
    "model = FNN(X_train.shape[1]).to(device)\n",
    "criterion = nn.BCELoss()  \n",
    "optimizer = optim.Adam(model.parameters(), lr=0.0005)\n"
   ],
   "metadata": {
    "collapsed": false,
    "ExecuteTime": {
     "end_time": "2023-12-04T01:30:49.028462721Z",
     "start_time": "2023-12-04T01:30:49.007516113Z"
    }
   },
   "id": "1c0f8d1b70934b5"
  },
  {
   "cell_type": "code",
   "execution_count": 28,
   "outputs": [
    {
     "name": "stdout",
     "output_type": "stream",
     "text": [
      "Epoch 1, Training Loss: 0.6741, Training Accuracy: 0.6328, Validation Loss: 0.6311, Validation Accuracy: 0.8360\n",
      "Epoch 2, Training Loss: 0.5906, Training Accuracy: 0.8976, Validation Loss: 0.5578, Validation Accuracy: 0.9109\n",
      "Epoch 3, Training Loss: 0.5207, Training Accuracy: 0.9280, Validation Loss: 0.4924, Validation Accuracy: 0.9460\n",
      "Epoch 4, Training Loss: 0.4502, Training Accuracy: 0.9349, Validation Loss: 0.4338, Validation Accuracy: 0.9460\n",
      "Epoch 5, Training Loss: 0.4019, Training Accuracy: 0.9288, Validation Loss: 0.3806, Validation Accuracy: 0.9564\n",
      "Epoch 6, Training Loss: 0.3531, Training Accuracy: 0.9358, Validation Loss: 0.3361, Validation Accuracy: 0.9564\n",
      "Epoch 7, Training Loss: 0.3103, Training Accuracy: 0.9384, Validation Loss: 0.2977, Validation Accuracy: 0.9564\n",
      "Epoch 8, Training Loss: 0.2817, Training Accuracy: 0.9427, Validation Loss: 0.2649, Validation Accuracy: 0.9564\n",
      "Epoch 9, Training Loss: 0.2500, Training Accuracy: 0.9453, Validation Loss: 0.2377, Validation Accuracy: 0.9564\n",
      "Epoch 10, Training Loss: 0.2289, Training Accuracy: 0.9505, Validation Loss: 0.2147, Validation Accuracy: 0.9564\n",
      "Epoch 11, Training Loss: 0.2110, Training Accuracy: 0.9557, Validation Loss: 0.1948, Validation Accuracy: 0.9668\n",
      "Epoch 12, Training Loss: 0.2000, Training Accuracy: 0.9540, Validation Loss: 0.1787, Validation Accuracy: 0.9668\n",
      "Epoch 13, Training Loss: 0.1803, Training Accuracy: 0.9557, Validation Loss: 0.1650, Validation Accuracy: 0.9668\n",
      "Epoch 14, Training Loss: 0.1734, Training Accuracy: 0.9540, Validation Loss: 0.1530, Validation Accuracy: 0.9668\n",
      "Epoch 15, Training Loss: 0.1607, Training Accuracy: 0.9583, Validation Loss: 0.1424, Validation Accuracy: 0.9668\n",
      "Epoch 16, Training Loss: 0.1502, Training Accuracy: 0.9609, Validation Loss: 0.1334, Validation Accuracy: 0.9668\n",
      "Epoch 17, Training Loss: 0.1423, Training Accuracy: 0.9635, Validation Loss: 0.1252, Validation Accuracy: 0.9668\n",
      "Epoch 18, Training Loss: 0.1344, Training Accuracy: 0.9661, Validation Loss: 0.1180, Validation Accuracy: 0.9772\n",
      "Epoch 19, Training Loss: 0.1390, Training Accuracy: 0.9618, Validation Loss: 0.1119, Validation Accuracy: 0.9772\n",
      "Epoch 20, Training Loss: 0.1283, Training Accuracy: 0.9618, Validation Loss: 0.1066, Validation Accuracy: 0.9772\n",
      "Epoch 21, Training Loss: 0.1186, Training Accuracy: 0.9618, Validation Loss: 0.1018, Validation Accuracy: 0.9772\n",
      "Epoch 22, Training Loss: 0.1141, Training Accuracy: 0.9714, Validation Loss: 0.0977, Validation Accuracy: 0.9772\n",
      "Epoch 23, Training Loss: 0.1080, Training Accuracy: 0.9714, Validation Loss: 0.0937, Validation Accuracy: 0.9772\n",
      "Epoch 24, Training Loss: 0.1075, Training Accuracy: 0.9766, Validation Loss: 0.0901, Validation Accuracy: 0.9772\n",
      "Epoch 25, Training Loss: 0.1010, Training Accuracy: 0.9766, Validation Loss: 0.0866, Validation Accuracy: 0.9896\n",
      "Epoch 26, Training Loss: 0.0996, Training Accuracy: 0.9766, Validation Loss: 0.0836, Validation Accuracy: 0.9896\n",
      "Epoch 27, Training Loss: 0.0996, Training Accuracy: 0.9774, Validation Loss: 0.0808, Validation Accuracy: 0.9896\n",
      "Epoch 28, Training Loss: 0.0930, Training Accuracy: 0.9818, Validation Loss: 0.0783, Validation Accuracy: 0.9896\n",
      "Epoch 29, Training Loss: 0.0950, Training Accuracy: 0.9800, Validation Loss: 0.0760, Validation Accuracy: 0.9896\n",
      "Epoch 30, Training Loss: 0.0865, Training Accuracy: 0.9870, Validation Loss: 0.0739, Validation Accuracy: 0.9896\n",
      "Epoch 31, Training Loss: 0.0863, Training Accuracy: 0.9870, Validation Loss: 0.0720, Validation Accuracy: 0.9896\n",
      "Epoch 32, Training Loss: 0.0844, Training Accuracy: 0.9870, Validation Loss: 0.0702, Validation Accuracy: 0.9896\n",
      "Epoch 33, Training Loss: 0.0849, Training Accuracy: 0.9826, Validation Loss: 0.0685, Validation Accuracy: 0.9896\n",
      "Epoch 34, Training Loss: 0.0805, Training Accuracy: 0.9870, Validation Loss: 0.0670, Validation Accuracy: 0.9896\n",
      "Epoch 35, Training Loss: 0.0767, Training Accuracy: 0.9870, Validation Loss: 0.0656, Validation Accuracy: 0.9896\n",
      "Epoch 36, Training Loss: 0.0759, Training Accuracy: 0.9870, Validation Loss: 0.0642, Validation Accuracy: 0.9896\n",
      "Epoch 37, Training Loss: 0.0910, Training Accuracy: 0.9783, Validation Loss: 0.0628, Validation Accuracy: 0.9896\n",
      "Epoch 38, Training Loss: 0.0787, Training Accuracy: 0.9826, Validation Loss: 0.0621, Validation Accuracy: 0.9896\n",
      "Epoch 39, Training Loss: 0.0771, Training Accuracy: 0.9826, Validation Loss: 0.0612, Validation Accuracy: 0.9896\n",
      "Epoch 40, Training Loss: 0.0751, Training Accuracy: 0.9826, Validation Loss: 0.0602, Validation Accuracy: 0.9896\n",
      "Epoch 41, Training Loss: 0.0686, Training Accuracy: 0.9870, Validation Loss: 0.0591, Validation Accuracy: 0.9896\n",
      "Epoch 42, Training Loss: 0.0689, Training Accuracy: 0.9870, Validation Loss: 0.0580, Validation Accuracy: 0.9896\n",
      "Epoch 43, Training Loss: 0.0678, Training Accuracy: 0.9870, Validation Loss: 0.0569, Validation Accuracy: 0.9896\n",
      "Epoch 44, Training Loss: 0.0670, Training Accuracy: 0.9870, Validation Loss: 0.0560, Validation Accuracy: 0.9896\n",
      "Epoch 45, Training Loss: 0.0652, Training Accuracy: 0.9870, Validation Loss: 0.0553, Validation Accuracy: 0.9896\n",
      "Epoch 46, Training Loss: 0.0741, Training Accuracy: 0.9826, Validation Loss: 0.0546, Validation Accuracy: 0.9896\n",
      "Epoch 47, Training Loss: 0.0613, Training Accuracy: 0.9870, Validation Loss: 0.0539, Validation Accuracy: 0.9896\n",
      "Epoch 48, Training Loss: 0.0603, Training Accuracy: 0.9870, Validation Loss: 0.0533, Validation Accuracy: 0.9896\n",
      "Epoch 49, Training Loss: 0.0606, Training Accuracy: 0.9870, Validation Loss: 0.0528, Validation Accuracy: 0.9896\n",
      "Epoch 50, Training Loss: 0.0609, Training Accuracy: 0.9870, Validation Loss: 0.0523, Validation Accuracy: 0.9896\n",
      "Epoch 51, Training Loss: 0.0614, Training Accuracy: 0.9870, Validation Loss: 0.0516, Validation Accuracy: 0.9896\n",
      "Epoch 52, Training Loss: 0.0683, Training Accuracy: 0.9826, Validation Loss: 0.0511, Validation Accuracy: 0.9896\n",
      "Epoch 53, Training Loss: 0.0554, Training Accuracy: 0.9870, Validation Loss: 0.0506, Validation Accuracy: 0.9896\n",
      "Epoch 54, Training Loss: 0.0589, Training Accuracy: 0.9870, Validation Loss: 0.0501, Validation Accuracy: 0.9896\n",
      "Epoch 55, Training Loss: 0.0551, Training Accuracy: 0.9870, Validation Loss: 0.0498, Validation Accuracy: 0.9896\n",
      "Epoch 56, Training Loss: 0.0546, Training Accuracy: 0.9896, Validation Loss: 0.0496, Validation Accuracy: 0.9896\n",
      "Epoch 57, Training Loss: 0.0560, Training Accuracy: 0.9896, Validation Loss: 0.0494, Validation Accuracy: 0.9896\n",
      "Epoch 58, Training Loss: 0.0529, Training Accuracy: 0.9896, Validation Loss: 0.0492, Validation Accuracy: 0.9896\n",
      "Epoch 59, Training Loss: 0.0513, Training Accuracy: 0.9896, Validation Loss: 0.0491, Validation Accuracy: 0.9896\n",
      "Epoch 60, Training Loss: 0.0508, Training Accuracy: 0.9896, Validation Loss: 0.0488, Validation Accuracy: 0.9896\n",
      "Epoch 61, Training Loss: 0.0508, Training Accuracy: 0.9896, Validation Loss: 0.0486, Validation Accuracy: 0.9896\n",
      "Epoch 62, Training Loss: 0.0499, Training Accuracy: 0.9896, Validation Loss: 0.0483, Validation Accuracy: 0.9896\n",
      "Epoch 63, Training Loss: 0.0533, Training Accuracy: 0.9852, Validation Loss: 0.0481, Validation Accuracy: 0.9896\n",
      "Epoch 64, Training Loss: 0.0496, Training Accuracy: 0.9896, Validation Loss: 0.0481, Validation Accuracy: 0.9896\n",
      "Epoch 65, Training Loss: 0.0478, Training Accuracy: 0.9922, Validation Loss: 0.0478, Validation Accuracy: 0.9896\n",
      "Epoch 66, Training Loss: 0.0471, Training Accuracy: 0.9922, Validation Loss: 0.0478, Validation Accuracy: 0.9896\n",
      "Epoch 67, Training Loss: 0.0470, Training Accuracy: 0.9922, Validation Loss: 0.0475, Validation Accuracy: 0.9896\n",
      "Epoch 68, Training Loss: 0.0471, Training Accuracy: 0.9922, Validation Loss: 0.0474, Validation Accuracy: 0.9896\n",
      "Epoch 69, Training Loss: 0.0471, Training Accuracy: 0.9922, Validation Loss: 0.0472, Validation Accuracy: 0.9896\n",
      "Epoch 70, Training Loss: 0.0456, Training Accuracy: 0.9922, Validation Loss: 0.0471, Validation Accuracy: 0.9896\n",
      "Epoch 71, Training Loss: 0.0462, Training Accuracy: 0.9922, Validation Loss: 0.0471, Validation Accuracy: 0.9896\n",
      "Epoch 72, Training Loss: 0.0440, Training Accuracy: 0.9948, Validation Loss: 0.0466, Validation Accuracy: 0.9896\n",
      "Epoch 73, Training Loss: 0.0440, Training Accuracy: 0.9948, Validation Loss: 0.0464, Validation Accuracy: 0.9896\n",
      "Epoch 74, Training Loss: 0.0433, Training Accuracy: 0.9948, Validation Loss: 0.0464, Validation Accuracy: 0.9896\n",
      "Epoch 75, Training Loss: 0.0420, Training Accuracy: 0.9948, Validation Loss: 0.0462, Validation Accuracy: 0.9896\n",
      "Epoch 76, Training Loss: 0.0417, Training Accuracy: 0.9948, Validation Loss: 0.0461, Validation Accuracy: 0.9896\n",
      "Epoch 77, Training Loss: 0.0416, Training Accuracy: 0.9948, Validation Loss: 0.0462, Validation Accuracy: 0.9896\n",
      "Epoch 78, Training Loss: 0.0414, Training Accuracy: 0.9948, Validation Loss: 0.0462, Validation Accuracy: 0.9896\n",
      "Epoch 79, Training Loss: 0.0421, Training Accuracy: 0.9948, Validation Loss: 0.0463, Validation Accuracy: 0.9896\n",
      "Epoch 80, Training Loss: 0.0407, Training Accuracy: 0.9948, Validation Loss: 0.0460, Validation Accuracy: 0.9896\n",
      "Epoch 81, Training Loss: 0.0409, Training Accuracy: 0.9948, Validation Loss: 0.0460, Validation Accuracy: 0.9896\n",
      "Epoch 82, Training Loss: 0.0510, Training Accuracy: 0.9905, Validation Loss: 0.0459, Validation Accuracy: 0.9896\n",
      "Epoch 83, Training Loss: 0.0383, Training Accuracy: 0.9948, Validation Loss: 0.0462, Validation Accuracy: 0.9896\n",
      "Epoch 84, Training Loss: 0.0502, Training Accuracy: 0.9905, Validation Loss: 0.0461, Validation Accuracy: 0.9896\n",
      "Epoch 85, Training Loss: 0.0386, Training Accuracy: 0.9948, Validation Loss: 0.0466, Validation Accuracy: 0.9896\n",
      "Epoch 86, Training Loss: 0.0374, Training Accuracy: 0.9948, Validation Loss: 0.0465, Validation Accuracy: 0.9896\n",
      "Epoch 87, Training Loss: 0.0375, Training Accuracy: 0.9948, Validation Loss: 0.0464, Validation Accuracy: 0.9896\n",
      "Epoch 88, Training Loss: 0.0362, Training Accuracy: 0.9948, Validation Loss: 0.0464, Validation Accuracy: 0.9896\n",
      "Epoch 89, Training Loss: 0.0364, Training Accuracy: 0.9948, Validation Loss: 0.0463, Validation Accuracy: 0.9896\n",
      "Epoch 90, Training Loss: 0.0441, Training Accuracy: 0.9905, Validation Loss: 0.0464, Validation Accuracy: 0.9896\n",
      "Epoch 91, Training Loss: 0.0351, Training Accuracy: 0.9948, Validation Loss: 0.0460, Validation Accuracy: 0.9896\n",
      "Epoch 92, Training Loss: 0.0363, Training Accuracy: 0.9948, Validation Loss: 0.0461, Validation Accuracy: 0.9896\n",
      "Epoch 93, Training Loss: 0.0361, Training Accuracy: 0.9948, Validation Loss: 0.0462, Validation Accuracy: 0.9896\n",
      "Epoch 94, Training Loss: 0.0345, Training Accuracy: 0.9948, Validation Loss: 0.0465, Validation Accuracy: 0.9896\n",
      "Epoch 95, Training Loss: 0.0346, Training Accuracy: 0.9948, Validation Loss: 0.0464, Validation Accuracy: 0.9896\n",
      "Epoch 96, Training Loss: 0.0350, Training Accuracy: 0.9948, Validation Loss: 0.0466, Validation Accuracy: 0.9896\n",
      "Epoch 97, Training Loss: 0.0335, Training Accuracy: 0.9948, Validation Loss: 0.0465, Validation Accuracy: 0.9896\n",
      "Epoch 98, Training Loss: 0.0340, Training Accuracy: 0.9948, Validation Loss: 0.0467, Validation Accuracy: 0.9896\n",
      "Epoch 99, Training Loss: 0.0320, Training Accuracy: 0.9948, Validation Loss: 0.0464, Validation Accuracy: 0.9896\n",
      "Epoch 100, Training Loss: 0.0316, Training Accuracy: 0.9948, Validation Loss: 0.0467, Validation Accuracy: 0.9896\n"
     ]
    }
   ],
   "source": [
    "def calculate_accuracy(y_pred, y_true):\n",
    "    # Convert predictions to binary values (0 or 1)\n",
    "    \n",
    "    predicted = torch.round(y_pred).view(-1)\n",
    "    y_true = y_true.squeeze()\n",
    "    return (predicted == y_true).sum().float() / len(y_true)\n",
    "\n",
    "train_losses, val_losses = [], []\n",
    "train_accuracies, val_accuracies = [], []\n",
    "# Training and validation for certain epochs\n",
    "epochs = 100\n",
    "for epoch in range(epochs):  # number of epochs\n",
    "    model.train()\n",
    "    total_loss, total_acc = 0, 0\n",
    "    for data, target in train_loader:\n",
    "        data, target = data.to(device), target.to(device)\n",
    "        optimizer.zero_grad()\n",
    "        output = model(data)\n",
    "        loss = criterion(output, target)\n",
    "        loss.backward()\n",
    "        optimizer.step()\n",
    "        total_loss += loss.item()\n",
    "        total_acc += calculate_accuracy(output, target)\n",
    "        \n",
    "    avg_train_loss = total_loss / len(train_loader)\n",
    "    avg_train_acc = total_acc / len(train_loader)\n",
    "    train_losses.append(avg_train_loss)\n",
    "    train_accuracies.append(avg_train_acc)\n",
    "    \n",
    "    # Validation\n",
    "    model.eval()\n",
    "    val_loss, val_acc = 0, 0\n",
    "    with torch.no_grad():\n",
    "        for data, target in val_loader:\n",
    "            data, target = data.to(device), target.to(device)\n",
    "            output = model(data)\n",
    "            val_loss += criterion(output, target).item()\n",
    "            val_acc += calculate_accuracy(output, target)\n",
    "            \n",
    "    avg_val_loss = val_loss / len(val_loader)\n",
    "    avg_val_acc = val_acc / len(val_loader)\n",
    "    val_losses.append(avg_val_loss)\n",
    "    val_accuracies.append(avg_val_acc)\n",
    "    print(f'Epoch {epoch+1}, Training Loss: {avg_train_loss:.4f}, Training Accuracy: {avg_train_acc:.4f}, Validation Loss: {avg_val_loss:.4f}, Validation Accuracy: {avg_val_acc:.4f}')\n",
    "\n"
   ],
   "metadata": {
    "collapsed": false,
    "ExecuteTime": {
     "end_time": "2023-12-04T01:30:50.696024179Z",
     "start_time": "2023-12-04T01:30:49.204073598Z"
    }
   },
   "id": "8a55aef2dac5bcbf"
  },
  {
   "cell_type": "code",
   "execution_count": 28,
   "outputs": [],
   "source": [],
   "metadata": {
    "collapsed": false,
    "ExecuteTime": {
     "end_time": "2023-12-04T01:30:58.817332771Z",
     "start_time": "2023-12-04T01:30:58.810129Z"
    }
   },
   "id": "83419ceeb9a146c6"
  },
  {
   "cell_type": "code",
   "execution_count": 29,
   "outputs": [
    {
     "data": {
      "text/plain": "<Figure size 1200x400 with 2 Axes>",
      "image/png": "[encoded data removed]"
     },
     "metadata": {},
     "output_type": "display_data"
    }
   ],
   "source": [
    "import matplotlib.pyplot as plt\n",
    "\n",
    "# Plotting training and validation losses\n",
    "plt.figure(figsize=(12, 4))\n",
    "plt.subplot(1, 2, 1)\n",
    "plt.plot(train_losses, label='Training Loss')\n",
    "plt.plot(val_losses, label='Validation Loss')\n",
    "plt.title('Training & Validation Loss')\n",
    "plt.xlabel('Epochs')\n",
    "plt.ylabel('Loss')\n",
    "plt.legend()\n",
    "train_accuracies = [acc.cpu().numpy() for acc in train_accuracies]\n",
    "val_accuracies = [acc.cpu().numpy() for acc in val_accuracies]\n",
    "\n",
    "# Plotting training and validation accuracies\n",
    "plt.subplot(1, 2, 2)\n",
    "plt.plot(train_accuracies, label='Training Accuracy')\n",
    "plt.plot(val_accuracies, label='Validation Accuracy')\n",
    "plt.title('Training & Validation Accuracy')\n",
    "plt.xlabel('Epochs')\n",
    "plt.ylabel('Accuracy')\n",
    "plt.legend()\n",
    "\n",
    "plt.show()\n"
   ],
   "metadata": {
    "collapsed": false,
    "ExecuteTime": {
     "end_time": "2023-12-04T01:30:59.280000376Z",
     "start_time": "2023-12-04T01:30:59.040584377Z"
    }
   },
   "id": "70cb55e4e9486c2"
  },
  {
   "cell_type": "code",
   "execution_count": 33,
   "outputs": [
    {
     "name": "stdout",
     "output_type": "stream",
     "text": [
      "Test Loss: 0.0567, Test Accuracy: 98.25%\n"
     ]
    }
   ],
   "source": [
    "# Testing the model\n",
    "model.eval()\n",
    "test_loss = 0\n",
    "correct = 0\n",
    "total = 0\n",
    "with torch.no_grad():\n",
    "    for data, target in test_loader:\n",
    "        data, target = data.to(device), target.to(device)\n",
    "        output = model(data)\n",
    "        test_loss += criterion(output, target).item()\n",
    "\n",
    "        # For accuracy calculation\n",
    "        predicted = torch.round(output).view(-1)  # Assuming binary classification\n",
    "        correct += (predicted == target).sum().item()\n",
    "        total += target.size(0)\n",
    "\n",
    "test_loss /= len(test_loader)\n",
    "test_accuracy = 100 * correct / total\n",
    "print(f'Test Loss: {test_loss:.4f}, Test Accuracy: {test_accuracy:.2f}%')\n"
   ],
   "metadata": {
    "collapsed": false,
    "ExecuteTime": {
     "end_time": "2023-12-04T01:33:22.921633295Z",
     "start_time": "2023-12-04T01:33:22.863626482Z"
    }
   },
   "id": "95a3ed4d7026226f"
  },
  {
   "cell_type": "code",
   "execution_count": 42,
   "outputs": [],
   "source": [
    "# Now let us perform hyperparamter tuning to find optimal parameters and replace them where needed!\n",
    "# Defining the parametr grid for hyperparameter tuning\n",
    "param_grid = {\n",
    "    'lr': [0.0001, 0.0005, 0.005, 0.001, 0.01],\n",
    "    'batch_size': [16, 32, 64],\n",
    "    'epochs': [50, 100]\n",
    "}"
   ],
   "metadata": {
    "collapsed": false,
    "ExecuteTime": {
     "end_time": "2023-12-04T01:40:05.038298549Z",
     "start_time": "2023-12-04T01:40:05.018695976Z"
    }
   },
   "id": "d863789f9db839e3"
  },
  {
   "cell_type": "code",
   "execution_count": 48,
   "outputs": [],
   "source": [
    "def calculate_accuracy(y_pred, y_true):\n",
    "    # Convert predictions to binary values (0 or 1)\n",
    "    y_pred, y_true = y_pred.squeeze(), y_true.squeeze()\n",
    "    predicted = torch.round(y_pred).view(-1)\n",
    "    return (predicted == y_true).sum().float() / len(y_true)"
   ],
   "metadata": {
    "collapsed": false,
    "ExecuteTime": {
     "end_time": "2023-12-04T01:41:29.218660863Z",
     "start_time": "2023-12-04T01:41:29.175555220Z"
    }
   },
   "id": "61c1aefb40162adf"
  },
  {
   "cell_type": "code",
   "execution_count": 49,
   "outputs": [],
   "source": [
    "def train_and_validate(model, train_loader, val_loader, criterion, optimizer, epochs):\n",
    "    train_losses, val_losses = [], []\n",
    "    train_accuracies, val_accuracies = [], []\n",
    "\n",
    "    for epoch in range(epochs):\n",
    "        model.train()\n",
    "        total_loss, total_acc = 0, 0\n",
    "        for data, target in train_loader:\n",
    "            data, target = data.to(device), target.to(device)\n",
    "            optimizer.zero_grad()\n",
    "            output = model(data)\n",
    "            loss = criterion(output, target)\n",
    "            loss.backward()\n",
    "            optimizer.step()\n",
    "            total_loss += loss.item()\n",
    "            total_acc += calculate_accuracy(output, target)\n",
    "            \n",
    "        avg_train_loss = total_loss / len(train_loader)\n",
    "        avg_train_acc = total_acc / len(train_loader)\n",
    "        train_losses.append(avg_train_loss)\n",
    "        train_accuracies.append(avg_train_acc)\n",
    "\n",
    "        model.eval()\n",
    "        val_loss, val_acc = 0, 0\n",
    "        with torch.no_grad():\n",
    "            for data, target in val_loader:\n",
    "                data, target = data.to(device), target.to(device)\n",
    "                output = model(data)\n",
    "                val_loss += criterion(output, target).item()\n",
    "                val_acc += calculate_accuracy(output, target)\n",
    "\n",
    "        avg_val_loss = val_loss / len(val_loader)\n",
    "        avg_val_acc = val_acc / len(val_loader)\n",
    "        val_losses.append(avg_val_loss)\n",
    "        val_accuracies.append(avg_val_acc)\n",
    "\n",
    "    return avg_val_loss, avg_val_acc\n"
   ],
   "metadata": {
    "collapsed": false,
    "ExecuteTime": {
     "end_time": "2023-12-04T01:41:29.394655200Z",
     "start_time": "2023-12-04T01:41:29.389558957Z"
    }
   },
   "id": "ee27f6a2e02e19c1"
  },
  {
   "cell_type": "code",
   "execution_count": 50,
   "outputs": [
    {
     "name": "stdout",
     "output_type": "stream",
     "text": [
      "Params: {'batch_size': 16, 'epochs': 50, 'lr': 0.0001}, Validation Loss: 0.1158, Validation Accuracy: 0.9792%\n",
      "Params: {'batch_size': 16, 'epochs': 50, 'lr': 0.0005}, Validation Loss: 0.0509, Validation Accuracy: 0.9896%\n",
      "Params: {'batch_size': 16, 'epochs': 50, 'lr': 0.005}, Validation Loss: 0.1198, Validation Accuracy: 0.9792%\n",
      "Params: {'batch_size': 16, 'epochs': 50, 'lr': 0.001}, Validation Loss: 0.0455, Validation Accuracy: 0.9896%\n",
      "Params: {'batch_size': 16, 'epochs': 50, 'lr': 0.01}, Validation Loss: 0.1371, Validation Accuracy: 0.9792%\n",
      "Params: {'batch_size': 16, 'epochs': 100, 'lr': 0.0001}, Validation Loss: 0.0616, Validation Accuracy: 0.9896%\n",
      "Params: {'batch_size': 16, 'epochs': 100, 'lr': 0.0005}, Validation Loss: 0.0477, Validation Accuracy: 0.9896%\n",
      "Params: {'batch_size': 16, 'epochs': 100, 'lr': 0.005}, Validation Loss: 0.1537, Validation Accuracy: 0.9792%\n",
      "Params: {'batch_size': 16, 'epochs': 100, 'lr': 0.001}, Validation Loss: 0.0669, Validation Accuracy: 0.9792%\n",
      "Params: {'batch_size': 16, 'epochs': 100, 'lr': 0.01}, Validation Loss: 0.1814, Validation Accuracy: 0.9792%\n",
      "Params: {'batch_size': 32, 'epochs': 50, 'lr': 0.0001}, Validation Loss: 0.2017, Validation Accuracy: 0.9668%\n",
      "Params: {'batch_size': 32, 'epochs': 50, 'lr': 0.0005}, Validation Loss: 0.0502, Validation Accuracy: 0.9896%\n",
      "Params: {'batch_size': 32, 'epochs': 50, 'lr': 0.005}, Validation Loss: 0.0878, Validation Accuracy: 0.9792%\n",
      "Params: {'batch_size': 32, 'epochs': 50, 'lr': 0.001}, Validation Loss: 0.0457, Validation Accuracy: 0.9896%\n",
      "Params: {'batch_size': 32, 'epochs': 50, 'lr': 0.01}, Validation Loss: 0.1343, Validation Accuracy: 0.9792%\n",
      "Params: {'batch_size': 32, 'epochs': 100, 'lr': 0.0001}, Validation Loss: 0.1122, Validation Accuracy: 0.9896%\n",
      "Params: {'batch_size': 32, 'epochs': 100, 'lr': 0.0005}, Validation Loss: 0.0445, Validation Accuracy: 0.9896%\n",
      "Params: {'batch_size': 32, 'epochs': 100, 'lr': 0.005}, Validation Loss: 0.1363, Validation Accuracy: 0.9792%\n",
      "Params: {'batch_size': 32, 'epochs': 100, 'lr': 0.001}, Validation Loss: 0.0558, Validation Accuracy: 0.9792%\n",
      "Params: {'batch_size': 32, 'epochs': 100, 'lr': 0.01}, Validation Loss: 0.1556, Validation Accuracy: 0.9792%\n",
      "Params: {'batch_size': 64, 'epochs': 50, 'lr': 0.0001}, Validation Loss: 0.3341, Validation Accuracy: 0.9659%\n",
      "Params: {'batch_size': 64, 'epochs': 50, 'lr': 0.0005}, Validation Loss: 0.0802, Validation Accuracy: 0.9922%\n",
      "Params: {'batch_size': 64, 'epochs': 50, 'lr': 0.005}, Validation Loss: 0.0579, Validation Accuracy: 0.9844%\n",
      "Params: {'batch_size': 64, 'epochs': 50, 'lr': 0.001}, Validation Loss: 0.0432, Validation Accuracy: 0.9922%\n",
      "Params: {'batch_size': 64, 'epochs': 50, 'lr': 0.01}, Validation Loss: 0.0771, Validation Accuracy: 0.9844%\n",
      "Params: {'batch_size': 64, 'epochs': 100, 'lr': 0.0001}, Validation Loss: 0.1702, Validation Accuracy: 0.9922%\n",
      "Params: {'batch_size': 64, 'epochs': 100, 'lr': 0.0005}, Validation Loss: 0.0445, Validation Accuracy: 0.9922%\n",
      "Params: {'batch_size': 64, 'epochs': 100, 'lr': 0.005}, Validation Loss: 0.0811, Validation Accuracy: 0.9844%\n",
      "Params: {'batch_size': 64, 'epochs': 100, 'lr': 0.001}, Validation Loss: 0.0379, Validation Accuracy: 0.9922%\n",
      "Params: {'batch_size': 64, 'epochs': 100, 'lr': 0.01}, Validation Loss: 0.1116, Validation Accuracy: 0.9844%\n",
      "Best Params: {'batch_size': 64, 'epochs': 50, 'lr': 0.0005}, Best Validation Accuracy: 0.9922%\n"
     ]
    }
   ],
   "source": [
    "best_val_acc = 0\n",
    "best_params = {}\n",
    "\n",
    "for params in ParameterGrid(param_grid):\n",
    "    train_loader = DataLoader(TensorDataset(X_train, y_train), batch_size=params['batch_size'], shuffle=True)\n",
    "    val_loader = DataLoader(TensorDataset(X_val, y_val), batch_size=params['batch_size'])\n",
    "\n",
    "    model = FNN(X_train.shape[1]).to(device)\n",
    "    criterion = nn.BCELoss()\n",
    "    optimizer = optim.Adam(model.parameters(), lr=params['lr'])\n",
    "\n",
    "    val_loss, val_acc = train_and_validate(model, train_loader, val_loader, criterion, optimizer, params['epochs'])\n",
    "\n",
    "    if val_acc > best_val_acc:\n",
    "        best_val_acc = val_acc\n",
    "        best_params = params\n",
    "\n",
    "    print(f\"Params: {params}, Validation Loss: {val_loss:.4f}, Validation Accuracy: {val_acc:.4f}%\")\n",
    "\n",
    "print(f\"Best Params: {best_params}, Best Validation Accuracy: {best_val_acc:.4f}%\")\n"
   ],
   "metadata": {
    "collapsed": false,
    "ExecuteTime": {
     "end_time": "2023-12-04T01:42:03.728288930Z",
     "start_time": "2023-12-04T01:41:29.579995890Z"
    }
   },
   "id": "641a001899a4b4cf"
  },
  {
   "cell_type": "code",
   "execution_count": 39,
   "outputs": [],
   "source": [],
   "metadata": {
    "collapsed": false,
    "ExecuteTime": {
     "end_time": "2023-12-04T01:37:41.169747259Z",
     "start_time": "2023-12-04T01:37:41.169386845Z"
    }
   },
   "id": "75bb10487730709f"
  },
  {
   "cell_type": "code",
   "execution_count": 51,
   "outputs": [
    {
     "name": "stderr",
     "output_type": "stream",
     "text": [
      "/tmp/ipykernel_5647/1012127265.py:5: UserWarning: To copy construct from a tensor, it is recommended to use sourceTensor.clone().detach() or sourceTensor.clone().detach().requires_grad_(True), rather than torch.tensor(sourceTensor).\n",
      "  X_train, y_train = torch.tensor(X_train, dtype=torch.float32), torch.tensor(y_train, dtype=torch.float32)\n",
      "/tmp/ipykernel_5647/1012127265.py:6: UserWarning: To copy construct from a tensor, it is recommended to use sourceTensor.clone().detach() or sourceTensor.clone().detach().requires_grad_(True), rather than torch.tensor(sourceTensor).\n",
      "  X_val, y_val = torch.tensor(X_val, dtype=torch.float32), torch.tensor(y_val, dtype=torch.float32)\n",
      "/tmp/ipykernel_5647/1012127265.py:7: UserWarning: To copy construct from a tensor, it is recommended to use sourceTensor.clone().detach() or sourceTensor.clone().detach().requires_grad_(True), rather than torch.tensor(sourceTensor).\n",
      "  X_test, y_test = torch.tensor(X_test, dtype=torch.float32), torch.tensor(y_test, dtype=torch.float32)\n"
     ]
    },
    {
     "name": "stdout",
     "output_type": "stream",
     "text": [
      "Epoch 1, Training Loss: 0.6098, Training Accuracy: 0.8196, Validation Loss: 0.5834, Validation Accuracy: 0.9132\n",
      "Epoch 2, Training Loss: 0.5683, Training Accuracy: 0.8703, Validation Loss: 0.5444, Validation Accuracy: 0.9395\n",
      "Epoch 3, Training Loss: 0.5300, Training Accuracy: 0.9001, Validation Loss: 0.5074, Validation Accuracy: 0.9580\n",
      "Epoch 4, Training Loss: 0.4989, Training Accuracy: 0.9148, Validation Loss: 0.4725, Validation Accuracy: 0.9737\n",
      "Epoch 5, Training Loss: 0.4638, Training Accuracy: 0.9209, Validation Loss: 0.4401, Validation Accuracy: 0.9737\n",
      "Epoch 6, Training Loss: 0.4347, Training Accuracy: 0.9183, Validation Loss: 0.4094, Validation Accuracy: 0.9737\n",
      "Epoch 7, Training Loss: 0.4033, Training Accuracy: 0.9233, Validation Loss: 0.3809, Validation Accuracy: 0.9737\n",
      "Epoch 8, Training Loss: 0.3828, Training Accuracy: 0.9188, Validation Loss: 0.3540, Validation Accuracy: 0.9737\n",
      "Epoch 9, Training Loss: 0.3599, Training Accuracy: 0.9238, Validation Loss: 0.3292, Validation Accuracy: 0.9737\n",
      "Epoch 10, Training Loss: 0.3318, Training Accuracy: 0.9325, Validation Loss: 0.3066, Validation Accuracy: 0.9737\n",
      "Epoch 11, Training Loss: 0.3162, Training Accuracy: 0.9264, Validation Loss: 0.2857, Validation Accuracy: 0.9737\n",
      "Epoch 12, Training Loss: 0.2961, Training Accuracy: 0.9339, Validation Loss: 0.2668, Validation Accuracy: 0.9737\n",
      "Epoch 13, Training Loss: 0.2791, Training Accuracy: 0.9363, Validation Loss: 0.2496, Validation Accuracy: 0.9737\n",
      "Epoch 14, Training Loss: 0.2653, Training Accuracy: 0.9304, Validation Loss: 0.2338, Validation Accuracy: 0.9737\n",
      "Epoch 15, Training Loss: 0.2477, Training Accuracy: 0.9363, Validation Loss: 0.2196, Validation Accuracy: 0.9737\n",
      "Epoch 16, Training Loss: 0.2419, Training Accuracy: 0.9316, Validation Loss: 0.2065, Validation Accuracy: 0.9552\n",
      "Epoch 17, Training Loss: 0.2287, Training Accuracy: 0.9304, Validation Loss: 0.1949, Validation Accuracy: 0.9552\n",
      "Epoch 18, Training Loss: 0.2123, Training Accuracy: 0.9375, Validation Loss: 0.1846, Validation Accuracy: 0.9552\n",
      "Epoch 19, Training Loss: 0.2078, Training Accuracy: 0.9368, Validation Loss: 0.1750, Validation Accuracy: 0.9737\n",
      "Epoch 20, Training Loss: 0.1958, Training Accuracy: 0.9429, Validation Loss: 0.1665, Validation Accuracy: 0.9737\n",
      "Epoch 21, Training Loss: 0.1873, Training Accuracy: 0.9467, Validation Loss: 0.1587, Validation Accuracy: 0.9737\n",
      "Epoch 22, Training Loss: 0.1800, Training Accuracy: 0.9519, Validation Loss: 0.1515, Validation Accuracy: 0.9737\n",
      "Epoch 23, Training Loss: 0.1722, Training Accuracy: 0.9557, Validation Loss: 0.1449, Validation Accuracy: 0.9737\n",
      "Epoch 24, Training Loss: 0.1728, Training Accuracy: 0.9536, Validation Loss: 0.1388, Validation Accuracy: 0.9737\n",
      "Epoch 25, Training Loss: 0.1604, Training Accuracy: 0.9571, Validation Loss: 0.1335, Validation Accuracy: 0.9737\n",
      "Epoch 26, Training Loss: 0.1564, Training Accuracy: 0.9624, Validation Loss: 0.1284, Validation Accuracy: 0.9737\n",
      "Epoch 27, Training Loss: 0.1542, Training Accuracy: 0.9678, Validation Loss: 0.1238, Validation Accuracy: 0.9737\n",
      "Epoch 28, Training Loss: 0.1505, Training Accuracy: 0.9678, Validation Loss: 0.1195, Validation Accuracy: 0.9737\n",
      "Epoch 29, Training Loss: 0.1422, Training Accuracy: 0.9702, Validation Loss: 0.1155, Validation Accuracy: 0.9737\n",
      "Epoch 30, Training Loss: 0.1403, Training Accuracy: 0.9702, Validation Loss: 0.1118, Validation Accuracy: 0.9737\n",
      "Epoch 31, Training Loss: 0.1355, Training Accuracy: 0.9690, Validation Loss: 0.1085, Validation Accuracy: 0.9737\n",
      "Epoch 32, Training Loss: 0.1316, Training Accuracy: 0.9714, Validation Loss: 0.1053, Validation Accuracy: 0.9737\n",
      "Epoch 33, Training Loss: 0.1287, Training Accuracy: 0.9702, Validation Loss: 0.1021, Validation Accuracy: 0.9922\n",
      "Epoch 34, Training Loss: 0.1257, Training Accuracy: 0.9678, Validation Loss: 0.0992, Validation Accuracy: 0.9922\n",
      "Epoch 35, Training Loss: 0.1245, Training Accuracy: 0.9678, Validation Loss: 0.0964, Validation Accuracy: 0.9922\n",
      "Epoch 36, Training Loss: 0.1171, Training Accuracy: 0.9714, Validation Loss: 0.0939, Validation Accuracy: 0.9922\n",
      "Epoch 37, Training Loss: 0.1155, Training Accuracy: 0.9702, Validation Loss: 0.0916, Validation Accuracy: 0.9922\n",
      "Epoch 38, Training Loss: 0.1114, Training Accuracy: 0.9740, Validation Loss: 0.0894, Validation Accuracy: 0.9922\n",
      "Epoch 39, Training Loss: 0.1101, Training Accuracy: 0.9740, Validation Loss: 0.0872, Validation Accuracy: 0.9922\n",
      "Epoch 40, Training Loss: 0.1085, Training Accuracy: 0.9766, Validation Loss: 0.0850, Validation Accuracy: 0.9922\n",
      "Epoch 41, Training Loss: 0.1072, Training Accuracy: 0.9742, Validation Loss: 0.0830, Validation Accuracy: 0.9922\n",
      "Epoch 42, Training Loss: 0.1051, Training Accuracy: 0.9754, Validation Loss: 0.0812, Validation Accuracy: 0.9922\n",
      "Epoch 43, Training Loss: 0.1025, Training Accuracy: 0.9766, Validation Loss: 0.0795, Validation Accuracy: 0.9922\n",
      "Epoch 44, Training Loss: 0.1007, Training Accuracy: 0.9754, Validation Loss: 0.0778, Validation Accuracy: 0.9922\n",
      "Epoch 45, Training Loss: 0.1005, Training Accuracy: 0.9754, Validation Loss: 0.0763, Validation Accuracy: 0.9922\n",
      "Epoch 46, Training Loss: 0.1045, Training Accuracy: 0.9794, Validation Loss: 0.0748, Validation Accuracy: 0.9922\n",
      "Epoch 47, Training Loss: 0.0993, Training Accuracy: 0.9794, Validation Loss: 0.0735, Validation Accuracy: 0.9922\n",
      "Epoch 48, Training Loss: 0.0962, Training Accuracy: 0.9806, Validation Loss: 0.0723, Validation Accuracy: 0.9922\n",
      "Epoch 49, Training Loss: 0.0951, Training Accuracy: 0.9806, Validation Loss: 0.0710, Validation Accuracy: 0.9922\n",
      "Epoch 50, Training Loss: 0.0931, Training Accuracy: 0.9806, Validation Loss: 0.0698, Validation Accuracy: 0.9922\n"
     ]
    }
   ],
   "source": [
    "model = FNN(X_train.shape[1]).to(device)\n",
    "criterion = nn.BCELoss()\n",
    "optimizer = optim.Adam(model.parameters(), lr=0.0005)\n",
    "# Convert Numpy arrays to PyTorch tensors\n",
    "X_train, y_train = torch.tensor(X_train, dtype=torch.float32), torch.tensor(y_train, dtype=torch.float32)\n",
    "X_val, y_val = torch.tensor(X_val, dtype=torch.float32), torch.tensor(y_val, dtype=torch.float32)\n",
    "X_test, y_test = torch.tensor(X_test, dtype=torch.float32), torch.tensor(y_test, dtype=torch.float32)\n",
    "\n",
    "# Create dataloaders\n",
    "train_loader = DataLoader(TensorDataset(X_train, y_train), batch_size=64, shuffle=True)\n",
    "val_loader = DataLoader(TensorDataset(X_val, y_val), batch_size=64)\n",
    "test_loader = DataLoader(TensorDataset(X_test, y_test), batch_size=1)\n",
    "\n",
    "def calculate_accuracy(y_pred, y_true):\n",
    "    # Convert predictions to binary values (0 or 1)\n",
    "\n",
    "    predicted = torch.round(y_pred).view(-1)\n",
    "    y_true = y_true.squeeze()\n",
    "    return (predicted == y_true).sum().float() / len(y_true)\n",
    "\n",
    "\n",
    "train_losses, val_losses = [], []\n",
    "train_accuracies, val_accuracies = [], []\n",
    "# Training and validation for certain epochs\n",
    "epochs = 50\n",
    "for epoch in range(epochs):  # number of epochs\n",
    "    model.train()\n",
    "    total_loss, total_acc = 0, 0\n",
    "    for data, target in train_loader:\n",
    "        data, target = data.to(device), target.to(device)\n",
    "        optimizer.zero_grad()\n",
    "        output = model(data)\n",
    "        loss = criterion(output, target)\n",
    "        loss.backward()\n",
    "        optimizer.step()\n",
    "        total_loss += loss.item()\n",
    "        total_acc += calculate_accuracy(output, target)\n",
    "\n",
    "    avg_train_loss = total_loss / len(train_loader)\n",
    "    avg_train_acc = total_acc / len(train_loader)\n",
    "    train_losses.append(avg_train_loss)\n",
    "    train_accuracies.append(avg_train_acc)\n",
    "\n",
    "    # Validation\n",
    "    model.eval()\n",
    "    val_loss, val_acc = 0, 0\n",
    "    with torch.no_grad():\n",
    "        for data, target in val_loader:\n",
    "            data, target = data.to(device), target.to(device)\n",
    "            output = model(data)\n",
    "            val_loss += criterion(output, target).item()\n",
    "            val_acc += calculate_accuracy(output, target)\n",
    "\n",
    "    avg_val_loss = val_loss / len(val_loader)\n",
    "    avg_val_acc = val_acc / len(val_loader)\n",
    "    val_losses.append(avg_val_loss)\n",
    "    val_accuracies.append(avg_val_acc)\n",
    "    print(\n",
    "        f'Epoch {epoch + 1}, Training Loss: {avg_train_loss:.4f}, Training Accuracy: {avg_train_acc:.4f}, Validation Loss: {avg_val_loss:.4f}, Validation Accuracy: {avg_val_acc:.4f}')\n",
    "\n"
   ],
   "metadata": {
    "collapsed": false,
    "ExecuteTime": {
     "end_time": "2023-12-04T01:43:22.671053779Z",
     "start_time": "2023-12-04T01:43:22.230041165Z"
    }
   },
   "id": "d25ae65dee54190f"
  },
  {
   "cell_type": "code",
   "execution_count": 52,
   "outputs": [
    {
     "data": {
      "text/plain": "<Figure size 1200x400 with 2 Axes>",
      "image/png": "[encoded data removed]"
     },
     "metadata": {},
     "output_type": "display_data"
    }
   ],
   "source": [
    "\n",
    "# Plotting training and validation losses\n",
    "plt.figure(figsize=(12, 4))\n",
    "plt.subplot(1, 2, 1)\n",
    "plt.plot(train_losses, label='Training Loss')\n",
    "plt.plot(val_losses, label='Validation Loss')\n",
    "plt.title('Training & Validation Loss')\n",
    "plt.xlabel('Epochs')\n",
    "plt.ylabel('Loss')\n",
    "plt.legend()\n",
    "train_accuracies = [acc.cpu().numpy() for acc in train_accuracies]\n",
    "val_accuracies = [acc.cpu().numpy() for acc in val_accuracies]\n",
    "\n",
    "# Plotting training and validation accuracies\n",
    "plt.subplot(1, 2, 2)\n",
    "plt.plot(train_accuracies, label='Training Accuracy')\n",
    "plt.plot(val_accuracies, label='Validation Accuracy')\n",
    "plt.title('Training & Validation Accuracy')\n",
    "plt.xlabel('Epochs')\n",
    "plt.ylabel('Accuracy')\n",
    "plt.legend()\n",
    "\n",
    "plt.show()\n",
    "\n",
    "\n"
   ],
   "metadata": {
    "collapsed": false,
    "ExecuteTime": {
     "end_time": "2023-12-04T01:43:44.655201067Z",
     "start_time": "2023-12-04T01:43:44.420954312Z"
    }
   },
   "id": "e6425c35ba788ca2"
  },
  {
   "cell_type": "code",
   "execution_count": 53,
   "outputs": [
    {
     "name": "stdout",
     "output_type": "stream",
     "text": [
      "Test Loss: 0.0793, Test Accuracy: 99.12%\n"
     ]
    }
   ],
   "source": [
    "# Testing the model\n",
    "model.eval()\n",
    "test_loss = 0\n",
    "correct = 0\n",
    "total = 0\n",
    "with torch.no_grad():\n",
    "    for data, target in test_loader:\n",
    "        data, target = data.to(device), target.to(device)\n",
    "        output = model(data)\n",
    "        test_loss += criterion(output, target).item()\n",
    "\n",
    "        # For accuracy calculation\n",
    "        predicted = torch.round(output).view(-1)  # Assuming binary classification\n",
    "        correct += (predicted == target).sum().item()\n",
    "        total += target.size(0)\n",
    "\n",
    "test_loss /= len(test_loader)\n",
    "test_accuracy = 100 * correct / total\n",
    "print(f'Test Loss: {test_loss:.4f}, Test Accuracy: {test_accuracy:.2f}%')"
   ],
   "metadata": {
    "collapsed": false,
    "ExecuteTime": {
     "end_time": "2023-12-04T01:43:47.461077153Z",
     "start_time": "2023-12-04T01:43:47.419937802Z"
    }
   },
   "id": "1bcfba58ce8fc602"
  },
  {
   "cell_type": "code",
   "execution_count": null,
   "outputs": [],
   "source": [],
   "metadata": {
    "collapsed": false
   },
   "id": "a5821fc51f01daa1"
  }
 ],
 "metadata": {
  "kernelspec": {
   "display_name": "Python 3",
   "language": "python",
   "name": "python3"
  },
  "language_info": {
   "codemirror_mode": {
    "name": "ipython",
    "version": 2
   },
   "file_extension": ".py",
   "mimetype": "text/x-python",
   "name": "python",
   "nbconvert_exporter": "python",
   "pygments_lexer": "ipython2",
   "version": "2.7.6"
  }
 },
 "nbformat": 4,
 "nbformat_minor": 5
}
