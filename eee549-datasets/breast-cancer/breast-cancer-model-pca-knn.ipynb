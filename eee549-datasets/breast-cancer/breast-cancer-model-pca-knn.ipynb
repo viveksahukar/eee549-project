{
 "cells": [
  {
   "cell_type": "code",
   "execution_count": 2,
   "id": "initial_id",
   "metadata": {
    "ExecuteTime": {
     "end_time": "2023-11-23T02:45:29.462114103Z",
     "start_time": "2023-11-23T02:45:29.415715329Z"
    },
    "collapsed": true
   },
   "outputs": [],
   "source": [
    "import numpy as np\n",
    "import pandas as pd\n",
    "import matplotlib.pyplot as plt\n",
    "import seaborn as sns\n",
    "from sklearn.svm import SVC\n",
    "from sklearn.model_selection import GridSearchCV\n",
    "from sklearn.metrics import accuracy_score, make_scorer, roc_auc_score, roc_curve, average_precision_score, precision_recall_curve, classification_report, confusion_matrix\n",
    "from sklearn.utils import resample\n",
    "from sklearn.pipeline import Pipeline\n",
    "\n",
    "from sklearn.decomposition import PCA\n",
    "from sklearn.neighbors import KNeighborsClassifier\n",
    "# import nbimporter, import_ipynb\n",
    "\n",
    "import sys\n",
    "import os\n",
    "\n",
    "# Add the parent directory to sys.path\n",
    "sys.path.append(os.path.abspath('../'))\n",
    "\n",
    "import utils"
   ]
  },
  {
   "cell_type": "code",
   "execution_count": 3,
   "id": "1c971e224eefc536",
   "metadata": {
    "ExecuteTime": {
     "end_time": "2023-11-23T02:38:13.129209742Z",
     "start_time": "2023-11-23T02:38:13.023599031Z"
    },
    "collapsed": false
   },
   "outputs": [
    {
     "name": "stdout",
     "output_type": "stream",
     "text": [
      "breast-cancer  fashion-mnist  __pycache__  uci-adult  utils.ipynb  utils.py\n"
     ]
    }
   ],
   "source": [
    "!ls ../"
   ]
  },
  {
   "cell_type": "code",
   "execution_count": 4,
   "id": "61f5e329f3e0ed3b",
   "metadata": {
    "ExecuteTime": {
     "end_time": "2023-11-23T02:38:13.175261463Z",
     "start_time": "2023-11-23T02:38:13.130553202Z"
    },
    "collapsed": false
   },
   "outputs": [],
   "source": [
    "# Loading the datasets\n",
    "X_train = pd.read_csv('./breast-cancer-processed-data/X_train.csv')\n",
    "y_train = pd.read_csv('./breast-cancer-processed-data/y_train.csv') \n",
    "X_val = pd.read_csv('./breast-cancer-processed-data/X_val.csv')\n",
    "y_val = pd.read_csv('./breast-cancer-processed-data/y_val.csv')\n",
    "X_test = pd.read_csv('./breast-cancer-processed-data/X_test.csv')\n",
    "y_test = pd.read_csv('./breast-cancer-processed-data/y_test.csv')"
   ]
  },
  {
   "cell_type": "code",
   "execution_count": 5,
   "id": "8f7898441d629074",
   "metadata": {
    "ExecuteTime": {
     "end_time": "2023-11-23T02:38:13.175417648Z",
     "start_time": "2023-11-23T02:38:13.175195498Z"
    },
    "collapsed": false
   },
   "outputs": [],
   "source": [
    "y_train = y_train.squeeze()\n",
    "y_val = y_val.squeeze()\n",
    "y_test = y_test.squeeze()"
   ]
  },
  {
   "cell_type": "code",
   "execution_count": 6,
   "id": "643921cab5ebfc8f",
   "metadata": {
    "ExecuteTime": {
     "end_time": "2023-11-23T02:43:08.326111035Z",
     "start_time": "2023-11-23T02:43:08.286406277Z"
    },
    "collapsed": false
   },
   "outputs": [
    {
     "name": "stdout",
     "output_type": "stream",
     "text": [
      "Validation Accuracy: 0.9560\n",
      "[[33  1]\n",
      " [ 3 54]]\n",
      "              precision    recall  f1-score   support\n",
      "\n",
      "           0       0.92      0.97      0.94        34\n",
      "           1       0.98      0.95      0.96        57\n",
      "\n",
      "    accuracy                           0.96        91\n",
      "   macro avg       0.95      0.96      0.95        91\n",
      "weighted avg       0.96      0.96      0.96        91\n",
      "\n"
     ]
    }
   ],
   "source": [
    "# X_train, X_val, X_test, y_train, y_val, y_test\n",
    "\n",
    "# Step 1: Apply PCA\n",
    "# Choose the number of components, e.g., 2 for visualization\n",
    "pca = PCA(n_components=2)\n",
    "X_train_pca = pca.fit_transform(X_train)\n",
    "X_val_pca = pca.transform(X_val)\n",
    "X_test_pca = pca.transform(X_test)\n",
    "\n",
    "# Step 2: Train KNN Classifier\n",
    "# Choose the number of neighbors, e.g., 3\n",
    "knn = KNeighborsClassifier(n_neighbors=3)\n",
    "knn.fit(X_train_pca, y_train)\n",
    "\n",
    "# Step 3: Predict and Evaluate the model\n",
    "y_val_pred = knn.predict(X_val_pca)\n",
    "val_accuracy = accuracy_score(y_val, y_val_pred)\n",
    "\n",
    "print(f\"Validation Accuracy: {val_accuracy:.4f}\")\n",
    "\n",
    "print(confusion_matrix(y_val, y_val_pred))\n",
    "print(classification_report(y_val, y_val_pred))"
   ]
  },
  {
   "cell_type": "code",
   "execution_count": 7,
   "id": "46d2ad6428a7df12",
   "metadata": {
    "ExecuteTime": {
     "end_time": "2023-11-23T02:38:13.176051828Z",
     "start_time": "2023-11-23T02:38:13.175381117Z"
    },
    "collapsed": false
   },
   "outputs": [
    {
     "name": "stdout",
     "output_type": "stream",
     "text": [
      "Fitting 5 folds for each of 49 candidates, totalling 245 fits\n",
      "[CV] END ............knn__n_neighbors=1, pca__n_components=2; total time=   0.0s\n",
      "[CV] END ............knn__n_neighbors=1, pca__n_components=2; total time=   0.0s\n",
      "[CV] END ............knn__n_neighbors=1, pca__n_components=2; total time=   0.0s\n",
      "[CV] END ............knn__n_neighbors=1, pca__n_components=2; total time=   0.0s\n",
      "[CV] END ............knn__n_neighbors=1, pca__n_components=2; total time=   0.0s\n",
      "[CV] END ............knn__n_neighbors=1, pca__n_components=5; total time=   0.0s\n",
      "[CV] END ............knn__n_neighbors=1, pca__n_components=5; total time=   0.0s\n",
      "[CV] END ............knn__n_neighbors=1, pca__n_components=5; total time=   0.0s\n",
      "[CV] END ............knn__n_neighbors=1, pca__n_components=5; total time=   0.0s\n",
      "[CV] END ............knn__n_neighbors=1, pca__n_components=5; total time=   0.0s\n",
      "[CV] END ...........knn__n_neighbors=1, pca__n_components=10; total time=   0.0s\n",
      "[CV] END ...........knn__n_neighbors=1, pca__n_components=10; total time=   0.0s\n",
      "[CV] END ...........knn__n_neighbors=1, pca__n_components=10; total time=   0.0s\n",
      "[CV] END ...........knn__n_neighbors=1, pca__n_components=10; total time=   0.0s\n",
      "[CV] END ...........knn__n_neighbors=1, pca__n_components=10; total time=   0.0s\n",
      "[CV] END ...........knn__n_neighbors=1, pca__n_components=15; total time=   0.0s\n",
      "[CV] END ...........knn__n_neighbors=1, pca__n_components=15; total time=   0.0s\n",
      "[CV] END ...........knn__n_neighbors=1, pca__n_components=15; total time=   0.0s\n",
      "[CV] END ...........knn__n_neighbors=1, pca__n_components=15; total time=   0.0s\n",
      "[CV] END ...........knn__n_neighbors=1, pca__n_components=15; total time=   0.0s\n",
      "[CV] END ...........knn__n_neighbors=1, pca__n_components=20; total time=   0.1s\n",
      "[CV] END ...........knn__n_neighbors=1, pca__n_components=20; total time=   0.1s\n",
      "[CV] END ...........knn__n_neighbors=1, pca__n_components=20; total time=   0.0s\n",
      "[CV] END ...........knn__n_neighbors=1, pca__n_components=20; total time=   0.0s\n",
      "[CV] END ...........knn__n_neighbors=1, pca__n_components=20; total time=   0.1s\n",
      "[CV] END ...........knn__n_neighbors=1, pca__n_components=25; total time=   0.0s\n",
      "[CV] END ...........knn__n_neighbors=1, pca__n_components=25; total time=   0.0s\n",
      "[CV] END ...........knn__n_neighbors=1, pca__n_components=25; total time=   0.0s\n",
      "[CV] END ...........knn__n_neighbors=1, pca__n_components=25; total time=   0.0s\n",
      "[CV] END ...........knn__n_neighbors=1, pca__n_components=25; total time=   0.1s\n",
      "[CV] END ...........knn__n_neighbors=1, pca__n_components=30; total time=   0.0s\n",
      "[CV] END ...........knn__n_neighbors=1, pca__n_components=30; total time=   0.0s\n",
      "[CV] END ...........knn__n_neighbors=1, pca__n_components=30; total time=   0.0s\n",
      "[CV] END ...........knn__n_neighbors=1, pca__n_components=30; total time=   0.0s\n",
      "[CV] END ...........knn__n_neighbors=1, pca__n_components=30; total time=   0.1s\n",
      "[CV] END ............knn__n_neighbors=3, pca__n_components=2; total time=   0.0s\n",
      "[CV] END ............knn__n_neighbors=3, pca__n_components=2; total time=   0.0s\n",
      "[CV] END ............knn__n_neighbors=3, pca__n_components=2; total time=   0.0s\n",
      "[CV] END ............knn__n_neighbors=3, pca__n_components=2; total time=   0.0s\n",
      "[CV] END ............knn__n_neighbors=3, pca__n_components=2; total time=   0.0s\n",
      "[CV] END ............knn__n_neighbors=3, pca__n_components=5; total time=   0.0s\n",
      "[CV] END ............knn__n_neighbors=3, pca__n_components=5; total time=   0.0s\n",
      "[CV] END ............knn__n_neighbors=3, pca__n_components=5; total time=   0.0s\n",
      "[CV] END ............knn__n_neighbors=3, pca__n_components=5; total time=   0.0s\n",
      "[CV] END ............knn__n_neighbors=3, pca__n_components=5; total time=   0.0s\n",
      "[CV] END ...........knn__n_neighbors=3, pca__n_components=10; total time=   0.0s\n",
      "[CV] END ...........knn__n_neighbors=3, pca__n_components=10; total time=   0.0s\n",
      "[CV] END ...........knn__n_neighbors=3, pca__n_components=10; total time=   0.0s\n",
      "[CV] END ...........knn__n_neighbors=3, pca__n_components=10; total time=   0.0s\n",
      "[CV] END ...........knn__n_neighbors=3, pca__n_components=10; total time=   0.0s\n",
      "[CV] END ...........knn__n_neighbors=3, pca__n_components=15; total time=   0.0s\n",
      "[CV] END ...........knn__n_neighbors=3, pca__n_components=15; total time=   0.0s\n",
      "[CV] END ...........knn__n_neighbors=3, pca__n_components=15; total time=   0.0s\n",
      "[CV] END ...........knn__n_neighbors=3, pca__n_components=15; total time=   0.0s\n",
      "[CV] END ...........knn__n_neighbors=3, pca__n_components=15; total time=   0.0s\n",
      "[CV] END ...........knn__n_neighbors=3, pca__n_components=20; total time=   0.1s\n",
      "[CV] END ...........knn__n_neighbors=3, pca__n_components=20; total time=   0.0s\n",
      "[CV] END ...........knn__n_neighbors=3, pca__n_components=20; total time=   0.0s\n",
      "[CV] END ...........knn__n_neighbors=3, pca__n_components=20; total time=   0.0s\n",
      "[CV] END ...........knn__n_neighbors=3, pca__n_components=20; total time=   0.1s\n",
      "[CV] END ...........knn__n_neighbors=3, pca__n_components=25; total time=   0.0s\n",
      "[CV] END ...........knn__n_neighbors=3, pca__n_components=25; total time=   0.0s\n",
      "[CV] END ...........knn__n_neighbors=3, pca__n_components=25; total time=   0.0s\n",
      "[CV] END ...........knn__n_neighbors=3, pca__n_components=25; total time=   0.0s\n",
      "[CV] END ...........knn__n_neighbors=3, pca__n_components=25; total time=   0.1s\n",
      "[CV] END ...........knn__n_neighbors=3, pca__n_components=30; total time=   0.0s\n",
      "[CV] END ...........knn__n_neighbors=3, pca__n_components=30; total time=   0.0s\n",
      "[CV] END ...........knn__n_neighbors=3, pca__n_components=30; total time=   0.1s\n",
      "[CV] END ...........knn__n_neighbors=3, pca__n_components=30; total time=   0.0s\n",
      "[CV] END ...........knn__n_neighbors=3, pca__n_components=30; total time=   0.1s\n",
      "[CV] END ............knn__n_neighbors=5, pca__n_components=2; total time=   0.0s\n",
      "[CV] END ............knn__n_neighbors=5, pca__n_components=2; total time=   0.0s\n",
      "[CV] END ............knn__n_neighbors=5, pca__n_components=2; total time=   0.0s\n",
      "[CV] END ............knn__n_neighbors=5, pca__n_components=2; total time=   0.0s\n",
      "[CV] END ............knn__n_neighbors=5, pca__n_components=2; total time=   0.0s\n",
      "[CV] END ............knn__n_neighbors=5, pca__n_components=5; total time=   0.0s\n",
      "[CV] END ............knn__n_neighbors=5, pca__n_components=5; total time=   0.0s\n",
      "[CV] END ............knn__n_neighbors=5, pca__n_components=5; total time=   0.0s\n",
      "[CV] END ............knn__n_neighbors=5, pca__n_components=5; total time=   0.0s\n",
      "[CV] END ............knn__n_neighbors=5, pca__n_components=5; total time=   0.0s\n",
      "[CV] END ...........knn__n_neighbors=5, pca__n_components=10; total time=   0.0s\n",
      "[CV] END ...........knn__n_neighbors=5, pca__n_components=10; total time=   0.0s\n",
      "[CV] END ...........knn__n_neighbors=5, pca__n_components=10; total time=   0.0s\n",
      "[CV] END ...........knn__n_neighbors=5, pca__n_components=10; total time=   0.0s\n",
      "[CV] END ...........knn__n_neighbors=5, pca__n_components=10; total time=   0.0s\n",
      "[CV] END ...........knn__n_neighbors=5, pca__n_components=15; total time=   0.0s\n",
      "[CV] END ...........knn__n_neighbors=5, pca__n_components=15; total time=   0.0s\n",
      "[CV] END ...........knn__n_neighbors=5, pca__n_components=15; total time=   0.0s\n",
      "[CV] END ...........knn__n_neighbors=5, pca__n_components=15; total time=   0.0s\n",
      "[CV] END ...........knn__n_neighbors=5, pca__n_components=15; total time=   0.0s\n",
      "[CV] END ...........knn__n_neighbors=5, pca__n_components=20; total time=   0.1s\n",
      "[CV] END ...........knn__n_neighbors=5, pca__n_components=20; total time=   0.0s\n",
      "[CV] END ...........knn__n_neighbors=5, pca__n_components=20; total time=   0.0s\n",
      "[CV] END ...........knn__n_neighbors=5, pca__n_components=20; total time=   0.0s\n",
      "[CV] END ...........knn__n_neighbors=5, pca__n_components=20; total time=   0.1s\n",
      "[CV] END ...........knn__n_neighbors=5, pca__n_components=25; total time=   0.0s\n",
      "[CV] END ...........knn__n_neighbors=5, pca__n_components=25; total time=   0.0s\n",
      "[CV] END ...........knn__n_neighbors=5, pca__n_components=25; total time=   0.0s\n",
      "[CV] END ...........knn__n_neighbors=5, pca__n_components=25; total time=   0.0s\n",
      "[CV] END ...........knn__n_neighbors=5, pca__n_components=25; total time=   0.1s\n",
      "[CV] END ...........knn__n_neighbors=5, pca__n_components=30; total time=   0.0s\n",
      "[CV] END ...........knn__n_neighbors=5, pca__n_components=30; total time=   0.0s\n",
      "[CV] END ...........knn__n_neighbors=5, pca__n_components=30; total time=   0.0s\n",
      "[CV] END ...........knn__n_neighbors=5, pca__n_components=30; total time=   0.0s\n",
      "[CV] END ...........knn__n_neighbors=5, pca__n_components=30; total time=   0.1s\n",
      "[CV] END ............knn__n_neighbors=7, pca__n_components=2; total time=   0.0s\n",
      "[CV] END ............knn__n_neighbors=7, pca__n_components=2; total time=   0.0s\n",
      "[CV] END ............knn__n_neighbors=7, pca__n_components=2; total time=   0.0s\n",
      "[CV] END ............knn__n_neighbors=7, pca__n_components=2; total time=   0.0s\n",
      "[CV] END ............knn__n_neighbors=7, pca__n_components=2; total time=   0.0s\n",
      "[CV] END ............knn__n_neighbors=7, pca__n_components=5; total time=   0.0s\n",
      "[CV] END ............knn__n_neighbors=7, pca__n_components=5; total time=   0.0s\n",
      "[CV] END ............knn__n_neighbors=7, pca__n_components=5; total time=   0.0s\n",
      "[CV] END ............knn__n_neighbors=7, pca__n_components=5; total time=   0.0s\n",
      "[CV] END ............knn__n_neighbors=7, pca__n_components=5; total time=   0.0s\n",
      "[CV] END ...........knn__n_neighbors=7, pca__n_components=10; total time=   0.0s\n",
      "[CV] END ...........knn__n_neighbors=7, pca__n_components=10; total time=   0.0s\n",
      "[CV] END ...........knn__n_neighbors=7, pca__n_components=10; total time=   0.0s\n",
      "[CV] END ...........knn__n_neighbors=7, pca__n_components=10; total time=   0.0s\n",
      "[CV] END ...........knn__n_neighbors=7, pca__n_components=10; total time=   0.0s\n",
      "[CV] END ...........knn__n_neighbors=7, pca__n_components=15; total time=   0.0s\n",
      "[CV] END ...........knn__n_neighbors=7, pca__n_components=15; total time=   0.0s\n",
      "[CV] END ...........knn__n_neighbors=7, pca__n_components=15; total time=   0.0s\n",
      "[CV] END ...........knn__n_neighbors=7, pca__n_components=15; total time=   0.0s\n",
      "[CV] END ...........knn__n_neighbors=7, pca__n_components=15; total time=   0.0s\n",
      "[CV] END ...........knn__n_neighbors=7, pca__n_components=20; total time=   0.1s\n",
      "[CV] END ...........knn__n_neighbors=7, pca__n_components=20; total time=   0.0s\n",
      "[CV] END ...........knn__n_neighbors=7, pca__n_components=20; total time=   0.0s\n",
      "[CV] END ...........knn__n_neighbors=7, pca__n_components=20; total time=   0.0s\n",
      "[CV] END ...........knn__n_neighbors=7, pca__n_components=20; total time=   0.1s\n",
      "[CV] END ...........knn__n_neighbors=7, pca__n_components=25; total time=   0.0s\n",
      "[CV] END ...........knn__n_neighbors=7, pca__n_components=25; total time=   0.0s\n",
      "[CV] END ...........knn__n_neighbors=7, pca__n_components=25; total time=   0.0s\n",
      "[CV] END ...........knn__n_neighbors=7, pca__n_components=25; total time=   0.0s\n",
      "[CV] END ...........knn__n_neighbors=7, pca__n_components=25; total time=   0.1s\n",
      "[CV] END ...........knn__n_neighbors=7, pca__n_components=30; total time=   0.0s\n",
      "[CV] END ...........knn__n_neighbors=7, pca__n_components=30; total time=   0.0s\n",
      "[CV] END ...........knn__n_neighbors=7, pca__n_components=30; total time=   0.0s\n",
      "[CV] END ...........knn__n_neighbors=7, pca__n_components=30; total time=   0.0s\n",
      "[CV] END ...........knn__n_neighbors=7, pca__n_components=30; total time=   0.1s\n",
      "[CV] END ............knn__n_neighbors=9, pca__n_components=2; total time=   0.0s\n",
      "[CV] END ............knn__n_neighbors=9, pca__n_components=2; total time=   0.0s\n",
      "[CV] END ............knn__n_neighbors=9, pca__n_components=2; total time=   0.0s\n",
      "[CV] END ............knn__n_neighbors=9, pca__n_components=2; total time=   0.0s\n",
      "[CV] END ............knn__n_neighbors=9, pca__n_components=2; total time=   0.0s\n",
      "[CV] END ............knn__n_neighbors=9, pca__n_components=5; total time=   0.0s\n",
      "[CV] END ............knn__n_neighbors=9, pca__n_components=5; total time=   0.0s\n",
      "[CV] END ............knn__n_neighbors=9, pca__n_components=5; total time=   0.0s\n",
      "[CV] END ............knn__n_neighbors=9, pca__n_components=5; total time=   0.0s\n",
      "[CV] END ............knn__n_neighbors=9, pca__n_components=5; total time=   0.0s\n",
      "[CV] END ...........knn__n_neighbors=9, pca__n_components=10; total time=   0.0s\n",
      "[CV] END ...........knn__n_neighbors=9, pca__n_components=10; total time=   0.0s\n",
      "[CV] END ...........knn__n_neighbors=9, pca__n_components=10; total time=   0.0s\n",
      "[CV] END ...........knn__n_neighbors=9, pca__n_components=10; total time=   0.0s\n",
      "[CV] END ...........knn__n_neighbors=9, pca__n_components=10; total time=   0.0s\n",
      "[CV] END ...........knn__n_neighbors=9, pca__n_components=15; total time=   0.0s\n",
      "[CV] END ...........knn__n_neighbors=9, pca__n_components=15; total time=   0.0s\n",
      "[CV] END ...........knn__n_neighbors=9, pca__n_components=15; total time=   0.0s\n",
      "[CV] END ...........knn__n_neighbors=9, pca__n_components=15; total time=   0.0s\n",
      "[CV] END ...........knn__n_neighbors=9, pca__n_components=15; total time=   0.0s\n",
      "[CV] END ...........knn__n_neighbors=9, pca__n_components=20; total time=   0.1s\n",
      "[CV] END ...........knn__n_neighbors=9, pca__n_components=20; total time=   0.0s\n",
      "[CV] END ...........knn__n_neighbors=9, pca__n_components=20; total time=   0.0s\n",
      "[CV] END ...........knn__n_neighbors=9, pca__n_components=20; total time=   0.0s\n",
      "[CV] END ...........knn__n_neighbors=9, pca__n_components=20; total time=   0.1s\n",
      "[CV] END ...........knn__n_neighbors=9, pca__n_components=25; total time=   0.0s\n",
      "[CV] END ...........knn__n_neighbors=9, pca__n_components=25; total time=   0.1s\n",
      "[CV] END ...........knn__n_neighbors=9, pca__n_components=25; total time=   0.0s\n",
      "[CV] END ...........knn__n_neighbors=9, pca__n_components=25; total time=   0.0s\n",
      "[CV] END ...........knn__n_neighbors=9, pca__n_components=25; total time=   0.1s\n",
      "[CV] END ...........knn__n_neighbors=9, pca__n_components=30; total time=   0.0s\n",
      "[CV] END ...........knn__n_neighbors=9, pca__n_components=30; total time=   0.0s\n",
      "[CV] END ...........knn__n_neighbors=9, pca__n_components=30; total time=   0.0s\n",
      "[CV] END ...........knn__n_neighbors=9, pca__n_components=30; total time=   0.0s\n",
      "[CV] END ...........knn__n_neighbors=9, pca__n_components=30; total time=   0.1s\n",
      "[CV] END ...........knn__n_neighbors=11, pca__n_components=2; total time=   0.0s\n",
      "[CV] END ...........knn__n_neighbors=11, pca__n_components=2; total time=   0.0s\n",
      "[CV] END ...........knn__n_neighbors=11, pca__n_components=2; total time=   0.0s\n",
      "[CV] END ...........knn__n_neighbors=11, pca__n_components=2; total time=   0.0s\n",
      "[CV] END ...........knn__n_neighbors=11, pca__n_components=2; total time=   0.0s\n",
      "[CV] END ...........knn__n_neighbors=11, pca__n_components=5; total time=   0.0s\n",
      "[CV] END ...........knn__n_neighbors=11, pca__n_components=5; total time=   0.0s\n",
      "[CV] END ...........knn__n_neighbors=11, pca__n_components=5; total time=   0.0s\n",
      "[CV] END ...........knn__n_neighbors=11, pca__n_components=5; total time=   0.0s\n",
      "[CV] END ...........knn__n_neighbors=11, pca__n_components=5; total time=   0.0s\n",
      "[CV] END ..........knn__n_neighbors=11, pca__n_components=10; total time=   0.0s\n",
      "[CV] END ..........knn__n_neighbors=11, pca__n_components=10; total time=   0.0s\n",
      "[CV] END ..........knn__n_neighbors=11, pca__n_components=10; total time=   0.0s\n",
      "[CV] END ..........knn__n_neighbors=11, pca__n_components=10; total time=   0.0s\n",
      "[CV] END ..........knn__n_neighbors=11, pca__n_components=10; total time=   0.0s\n",
      "[CV] END ..........knn__n_neighbors=11, pca__n_components=15; total time=   0.0s\n",
      "[CV] END ..........knn__n_neighbors=11, pca__n_components=15; total time=   0.0s\n",
      "[CV] END ..........knn__n_neighbors=11, pca__n_components=15; total time=   0.0s\n",
      "[CV] END ..........knn__n_neighbors=11, pca__n_components=15; total time=   0.0s\n",
      "[CV] END ..........knn__n_neighbors=11, pca__n_components=15; total time=   0.0s\n",
      "[CV] END ..........knn__n_neighbors=11, pca__n_components=20; total time=   0.1s\n",
      "[CV] END ..........knn__n_neighbors=11, pca__n_components=20; total time=   0.0s\n",
      "[CV] END ..........knn__n_neighbors=11, pca__n_components=20; total time=   0.0s\n",
      "[CV] END ..........knn__n_neighbors=11, pca__n_components=20; total time=   0.0s\n",
      "[CV] END ..........knn__n_neighbors=11, pca__n_components=20; total time=   0.1s\n",
      "[CV] END ..........knn__n_neighbors=11, pca__n_components=25; total time=   0.0s\n",
      "[CV] END ..........knn__n_neighbors=11, pca__n_components=25; total time=   0.0s\n",
      "[CV] END ..........knn__n_neighbors=11, pca__n_components=25; total time=   0.0s\n",
      "[CV] END ..........knn__n_neighbors=11, pca__n_components=25; total time=   0.0s\n",
      "[CV] END ..........knn__n_neighbors=11, pca__n_components=25; total time=   0.1s\n",
      "[CV] END ..........knn__n_neighbors=11, pca__n_components=30; total time=   0.1s\n",
      "[CV] END ..........knn__n_neighbors=11, pca__n_components=30; total time=   0.0s\n",
      "[CV] END ..........knn__n_neighbors=11, pca__n_components=30; total time=   0.0s\n",
      "[CV] END ..........knn__n_neighbors=11, pca__n_components=30; total time=   0.0s\n",
      "[CV] END ..........knn__n_neighbors=11, pca__n_components=30; total time=   0.1s\n",
      "[CV] END ...........knn__n_neighbors=13, pca__n_components=2; total time=   0.0s\n",
      "[CV] END ...........knn__n_neighbors=13, pca__n_components=2; total time=   0.0s\n",
      "[CV] END ...........knn__n_neighbors=13, pca__n_components=2; total time=   0.0s\n",
      "[CV] END ...........knn__n_neighbors=13, pca__n_components=2; total time=   0.0s\n",
      "[CV] END ...........knn__n_neighbors=13, pca__n_components=2; total time=   0.0s\n",
      "[CV] END ...........knn__n_neighbors=13, pca__n_components=5; total time=   0.0s\n",
      "[CV] END ...........knn__n_neighbors=13, pca__n_components=5; total time=   0.0s\n",
      "[CV] END ...........knn__n_neighbors=13, pca__n_components=5; total time=   0.0s\n",
      "[CV] END ...........knn__n_neighbors=13, pca__n_components=5; total time=   0.0s\n",
      "[CV] END ...........knn__n_neighbors=13, pca__n_components=5; total time=   0.0s\n",
      "[CV] END ..........knn__n_neighbors=13, pca__n_components=10; total time=   0.0s\n",
      "[CV] END ..........knn__n_neighbors=13, pca__n_components=10; total time=   0.0s\n",
      "[CV] END ..........knn__n_neighbors=13, pca__n_components=10; total time=   0.0s\n",
      "[CV] END ..........knn__n_neighbors=13, pca__n_components=10; total time=   0.0s\n",
      "[CV] END ..........knn__n_neighbors=13, pca__n_components=10; total time=   0.0s\n",
      "[CV] END ..........knn__n_neighbors=13, pca__n_components=15; total time=   0.0s\n",
      "[CV] END ..........knn__n_neighbors=13, pca__n_components=15; total time=   0.0s\n",
      "[CV] END ..........knn__n_neighbors=13, pca__n_components=15; total time=   0.0s\n",
      "[CV] END ..........knn__n_neighbors=13, pca__n_components=15; total time=   0.0s\n",
      "[CV] END ..........knn__n_neighbors=13, pca__n_components=15; total time=   0.0s\n",
      "[CV] END ..........knn__n_neighbors=13, pca__n_components=20; total time=   0.1s\n",
      "[CV] END ..........knn__n_neighbors=13, pca__n_components=20; total time=   0.0s\n",
      "[CV] END ..........knn__n_neighbors=13, pca__n_components=20; total time=   0.0s\n",
      "[CV] END ..........knn__n_neighbors=13, pca__n_components=20; total time=   0.0s\n",
      "[CV] END ..........knn__n_neighbors=13, pca__n_components=20; total time=   0.1s\n",
      "[CV] END ..........knn__n_neighbors=13, pca__n_components=25; total time=   0.0s\n",
      "[CV] END ..........knn__n_neighbors=13, pca__n_components=25; total time=   0.0s\n",
      "[CV] END ..........knn__n_neighbors=13, pca__n_components=25; total time=   0.0s\n",
      "[CV] END ..........knn__n_neighbors=13, pca__n_components=25; total time=   0.0s\n",
      "[CV] END ..........knn__n_neighbors=13, pca__n_components=25; total time=   0.1s\n",
      "[CV] END ..........knn__n_neighbors=13, pca__n_components=30; total time=   0.0s\n",
      "[CV] END ..........knn__n_neighbors=13, pca__n_components=30; total time=   0.0s\n",
      "[CV] END ..........knn__n_neighbors=13, pca__n_components=30; total time=   0.0s\n",
      "[CV] END ..........knn__n_neighbors=13, pca__n_components=30; total time=   0.0s\n",
      "[CV] END ..........knn__n_neighbors=13, pca__n_components=30; total time=   0.1s\n",
      "Best parameters: {'knn__n_neighbors': 9, 'pca__n_components': 20}\n",
      "Best cross-validation score: 0.9642694063926941\n"
     ]
    }
   ],
   "source": [
    "# Create a pipeline that first applies PCA and then KNN\n",
    "pipe = Pipeline([\n",
    "    ('pca', PCA()),\n",
    "    ('knn', KNeighborsClassifier())\n",
    "])\n",
    "\n",
    "# Define the parameter grid to search\n",
    "param_grid = {\n",
    "    'pca__n_components': [2, 5, 10, 15, 20, 25, 30],  # Example values\n",
    "    'knn__n_neighbors': [1, 3, 5, 7, 9, 11, 13]      # Example values\n",
    "}\n",
    "\n",
    "# Create a GridSearchCV object\n",
    "grid_search = GridSearchCV(pipe, param_grid, cv=5, verbose=2)\n",
    "\n",
    "# Fit the grid search to the data\n",
    "grid_search.fit(X_train, y_train)\n",
    "\n",
    "# Print the best parameters and the corresponding score\n",
    "print(\"Best parameters:\", grid_search.best_params_)\n",
    "print(\"Best cross-validation score:\", grid_search.best_score_)"
   ]
  },
  {
   "cell_type": "code",
   "execution_count": 10,
   "id": "50e6b3d345edca15",
   "metadata": {
    "ExecuteTime": {
     "end_time": "2023-11-23T02:38:13.176509392Z",
     "start_time": "2023-11-23T02:38:13.175442447Z"
    },
    "collapsed": false
   },
   "outputs": [
    {
     "name": "stdout",
     "output_type": "stream",
     "text": [
      "Validation Accuracy: 0.9890\n",
      "[[33  1]\n",
      " [ 0 57]]\n",
      "              precision    recall  f1-score   support\n",
      "\n",
      "           0       1.00      0.97      0.99        34\n",
      "           1       0.98      1.00      0.99        57\n",
      "\n",
      "    accuracy                           0.99        91\n",
      "   macro avg       0.99      0.99      0.99        91\n",
      "weighted avg       0.99      0.99      0.99        91\n",
      "\n"
     ]
    }
   ],
   "source": [
    "# now same pipeline with the best parameters\n",
    "pca = PCA(n_components=20)\n",
    "X_train_pca = pca.fit_transform(X_train)\n",
    "X_val_pca = pca.transform(X_val)\n",
    "X_test_pca = pca.transform(X_test)\n",
    "\n",
    "# Step 2: Train KNN Classifier\n",
    "# Choose the number of neighbors, e.g., 3\n",
    "knn = KNeighborsClassifier(n_neighbors=9)\n",
    "knn.fit(X_train_pca, y_train)\n",
    "\n",
    "# Step 3: Predict and Evaluate the model\n",
    "y_val_pred = knn.predict(X_val_pca)\n",
    "val_accuracy = accuracy_score(y_val, y_val_pred)\n",
    "\n",
    "print(f\"Validation Accuracy: {val_accuracy:.4f}\")\n",
    "\n",
    "print(confusion_matrix(y_val, y_val_pred))\n",
    "print(classification_report(y_val, y_val_pred))"
   ]
  },
  {
   "cell_type": "code",
   "execution_count": 13,
   "id": "ebd008676ab6d338",
   "metadata": {
    "ExecuteTime": {
     "end_time": "2023-11-23T02:38:13.176561930Z",
     "start_time": "2023-11-23T02:38:13.175476709Z"
    },
    "collapsed": false
   },
   "outputs": [
    {
     "name": "stdout",
     "output_type": "stream",
     "text": [
      "Test Accuracy: 0.9649\n",
      "[[38  4]\n",
      " [ 0 72]]\n",
      "              precision    recall  f1-score   support\n",
      "\n",
      "           0       1.00      0.90      0.95        42\n",
      "           1       0.95      1.00      0.97        72\n",
      "\n",
      "    accuracy                           0.96       114\n",
      "   macro avg       0.97      0.95      0.96       114\n",
      "weighted avg       0.97      0.96      0.96       114\n",
      "\n"
     ]
    },
    {
     "data": {
      "image/png": "[encoded data removed]",
      "text/plain": [
       "<Figure size 500x400 with 2 Axes>"
      ]
     },
     "metadata": {},
     "output_type": "display_data"
    }
   ],
   "source": [
    "# Step 4: Evaluate the model on test data\n",
    "# Use the KNN model to predict on the test set\n",
    "y_test_pred = knn.predict(X_test_pca)\n",
    "\n",
    "# Generating the confusion matrix\n",
    "cm = confusion_matrix(y_test, y_test_pred)\n",
    "test_accuracy = accuracy_score(y_test, y_test_pred)\n",
    "print(f\"Test Accuracy: {test_accuracy:.4f}\")\n",
    "print(cm)\n",
    "print(classification_report(y_test, y_test_pred))\n",
    "\n",
    "\n",
    "# Plotting the confusion matrix\n",
    "plt.figure(figsize=(5, 4))\n",
    "sns.heatmap(cm, annot=True, fmt=\"d\", cmap='Blues', \n",
    "            xticklabels=['Predicted Negative', 'Predicted Positive'],\n",
    "            yticklabels=['Actual Negative', 'Actual Positive'])\n",
    "plt.ylabel('Actual')\n",
    "plt.xlabel('Predicted')\n",
    "plt.title('Confusion Matrix')\n",
    "plt.show()"
   ]
  },
  {
   "cell_type": "code",
   "execution_count": null,
   "id": "648c123287915b8d",
   "metadata": {
    "ExecuteTime": {
     "end_time": "2023-11-23T02:38:13.176635953Z",
     "start_time": "2023-11-23T02:38:13.175513164Z"
    },
    "collapsed": false
   },
   "outputs": [],
   "source": []
  },
  {
   "cell_type": "code",
   "execution_count": null,
   "id": "517bce779a1579e",
   "metadata": {
    "ExecuteTime": {
     "end_time": "2023-11-23T02:38:13.176677521Z",
     "start_time": "2023-11-23T02:38:13.175582613Z"
    },
    "collapsed": false
   },
   "outputs": [],
   "source": []
  },
  {
   "cell_type": "code",
   "execution_count": null,
   "id": "8a5c849fbc104ecc",
   "metadata": {
    "ExecuteTime": {
     "end_time": "2023-11-23T02:38:13.176738566Z",
     "start_time": "2023-11-23T02:38:13.175614354Z"
    },
    "collapsed": false
   },
   "outputs": [],
   "source": []
  },
  {
   "cell_type": "code",
   "execution_count": null,
   "id": "9dc0efabb41d5fbc",
   "metadata": {
    "ExecuteTime": {
     "end_time": "2023-11-23T02:38:13.176775699Z",
     "start_time": "2023-11-23T02:38:13.175650988Z"
    },
    "collapsed": false
   },
   "outputs": [],
   "source": []
  }
 ],
 "metadata": {
  "kernelspec": {
   "display_name": "Python 3",
   "language": "python",
   "name": "python3"
  },
  "language_info": {
   "codemirror_mode": {
    "name": "ipython",
    "version": 3
   },
   "file_extension": ".py",
   "mimetype": "text/x-python",
   "name": "python",
   "nbconvert_exporter": "python",
   "pygments_lexer": "ipython3",
   "version": "3.10.12"
  }
 },
 "nbformat": 4,
 "nbformat_minor": 5
}
