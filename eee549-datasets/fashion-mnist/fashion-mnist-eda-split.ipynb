{
 "cells": [
  {
   "cell_type": "markdown",
   "metadata": {},
   "source": [
    "# Fashion MNIST"
   ]
  },
  {
   "cell_type": "markdown",
   "metadata": {},
   "source": [
    "## Importing libraries"
   ]
  },
  {
   "cell_type": "code",
   "execution_count": 1,
   "metadata": {
    "is_executing": true
   },
   "outputs": [],
   "source": [
    "import sys\n",
    "sys.path.append('../') \n",
    "from imports import *\n",
    "import torch, torchvision\n",
    "from torch.utils.data import DataLoader, Subset\n",
    "from torchvision import datasets, transforms"
   ]
  },
  {
   "cell_type": "markdown",
   "metadata": {},
   "source": [
    "## Loading dataset"
   ]
  },
  {
   "cell_type": "code",
   "execution_count": 2,
   "metadata": {
    "is_executing": true
   },
   "outputs": [],
   "source": [
    "# Define a transform to normalize the data\n",
    "transform = transforms.Compose([\n",
    "    transforms.ToTensor(),\n",
    "    transforms.Normalize((0.5,), (0.5,))\n",
    "])\n",
    "\n",
    "train_dataset = torchvision.datasets.FashionMNIST(root=\"./data\", download=False, train=True, transform=transform)\n",
    "test_dataset = torchvision.datasets.FashionMNIST(root=\"./data\", download=False, train=False, transform=transform)"
   ]
  },
  {
   "cell_type": "code",
   "execution_count": 3,
   "metadata": {},
   "outputs": [
    {
     "name": "stdout",
     "output_type": "stream",
     "text": [
      "Datasets saved successfully.\n"
     ]
    }
   ],
   "source": [
    "# Get targets from the dataset\n",
    "targets = train_dataset.targets.numpy()\n",
    "\n",
    "# Stratified split of indices\n",
    "train_idx, val_idx = train_test_split(\n",
    "    np.arange(len(targets)),\n",
    "    test_size=0.1,\n",
    "    shuffle=True,\n",
    "    stratify=targets\n",
    ")\n",
    "\n",
    "# Extracting training, validation and test data and targets\n",
    "train_data = train_dataset.data[train_idx].numpy()\n",
    "val_data = train_dataset.data[val_idx].numpy()\n",
    "test_data = test_dataset.data.numpy()\n",
    "\n",
    "train_targets = train_dataset.targets[train_idx].numpy()\n",
    "val_targets = train_dataset.targets[val_idx].numpy()\n",
    "test_targets = test_dataset.targets.numpy()\n",
    "\n",
    "# Save the datasets to disk\n",
    "np.save('./fashion-mnist-processed-data/train_data.npy', train_data)\n",
    "np.save('./fashion-mnist-processed-data/val_data.npy', val_data)\n",
    "np.save('./fashion-mnist-processed-data/test_data.npy', test_data)\n",
    "\n",
    "np.save('./fashion-mnist-processed-data/train_targets.npy', train_targets)\n",
    "np.save('./fashion-mnist-processed-data/val_targets.npy', val_targets)\n",
    "np.save('./fashion-mnist-processed-data/test_targets.npy', test_targets)\n",
    "\n",
    "print(\"Datasets saved successfully.\")"
   ]
  },
  {
   "cell_type": "markdown",
   "metadata": {},
   "source": [
    "## EDA"
   ]
  },
  {
   "cell_type": "code",
   "execution_count": 4,
   "metadata": {},
   "outputs": [
    {
     "data": {
      "text/plain": [
       "(array([5400, 5400, 5400, 5400, 5400, 5400, 5400, 5400, 5400, 5400]),\n",
       " array([600, 600, 600, 600, 600, 600, 600, 600, 600, 600]),\n",
       " array([1000, 1000, 1000, 1000, 1000, 1000, 1000, 1000, 1000, 1000]))"
      ]
     },
     "execution_count": 4,
     "metadata": {},
     "output_type": "execute_result"
    }
   ],
   "source": [
    "np.bincount(train_targets), np.bincount(val_targets), np.bincount(test_targets)\n",
    "\n",
    "# same count of each class in train, val and test sets, so no class imbalance"
   ]
  },
  {
   "cell_type": "code",
   "execution_count": null,
   "metadata": {
    "is_executing": true
   },
   "outputs": [],
   "source": []
  }
 ],
 "metadata": {
  "kernelspec": {
   "display_name": "torch",
   "language": "python",
   "name": "python3"
  },
  "language_info": {
   "codemirror_mode": {
    "name": "ipython",
    "version": 3
   },
   "file_extension": ".py",
   "mimetype": "text/x-python",
   "name": "python",
   "nbconvert_exporter": "python",
   "pygments_lexer": "ipython3",
   "version": "3.8.10"
  }
 },
 "nbformat": 4,
 "nbformat_minor": 2
}
