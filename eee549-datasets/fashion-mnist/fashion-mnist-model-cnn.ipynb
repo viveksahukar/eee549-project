{
 "cells": [
  {
   "cell_type": "code",
   "execution_count": null,
   "metadata": {},
   "outputs": [],
   "source": []
  },
  {
   "cell_type": "code",
   "execution_count": null,
   "metadata": {},
   "outputs": [],
   "source": [
    "# Load the saved datasets\n",
    "train_data = np.load('./data/splits/train_data.npy')\n",
    "val_data = np.load('./data/splits/val_data.npy')\n",
    "test_data = np.load('./data/splits/test_data.npy')\n",
    "\n",
    "train_targets = np.load('./data/splits/train_targets.npy')\n",
    "val_targets = np.load('./data/splits/val_targets.npy')\n",
    "test_targets = np.load('./data/splits/test_targets.npy')"
   ]
  }
 ],
 "metadata": {
  "language_info": {
   "name": "python"
  }
 },
 "nbformat": 4,
 "nbformat_minor": 2
}
