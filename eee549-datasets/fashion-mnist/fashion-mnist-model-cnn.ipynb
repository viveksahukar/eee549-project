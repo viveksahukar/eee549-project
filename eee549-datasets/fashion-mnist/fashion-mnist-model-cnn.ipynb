{
 "cells": [
  {
   "cell_type": "code",
   "execution_count": 1,
   "metadata": {
    "ExecuteTime": {
     "end_time": "2023-12-04T01:56:07.123004832Z",
     "start_time": "2023-12-04T01:56:05.542173843Z"
    }
   },
   "outputs": [],
   "source": [
    "import sys\n",
    "sys.path.append('../') \n",
    "from imports import *\n",
    "import torch\n",
    "import torch.nn as nn\n",
    "import torch.optim as optim\n",
    "from torch.utils.data import TensorDataset, DataLoader\n",
    "from sklearn.model_selection import ParameterGrid\n",
    "import concurrent.futures\n",
    "\n"
   ]
  },
  {
   "cell_type": "code",
   "execution_count": 2,
   "outputs": [
    {
     "name": "stdout",
     "output_type": "stream",
     "text": [
      "Using device: cuda\n"
     ]
    }
   ],
   "source": [
    "device = torch.device(\"cuda\" if torch.cuda.is_available() else \"cpu\")\n",
    "print(\"Using device:\", device)"
   ],
   "metadata": {
    "collapsed": false,
    "ExecuteTime": {
     "end_time": "2023-12-04T01:56:07.176675814Z",
     "start_time": "2023-12-04T01:56:07.133277525Z"
    }
   }
  },
  {
   "cell_type": "code",
   "execution_count": 3,
   "outputs": [
    {
     "data": {
      "text/plain": "True"
     },
     "execution_count": 3,
     "metadata": {},
     "output_type": "execute_result"
    }
   ],
   "source": [
    "torch.cuda.is_available()"
   ],
   "metadata": {
    "collapsed": false,
    "ExecuteTime": {
     "end_time": "2023-12-04T01:56:07.195162705Z",
     "start_time": "2023-12-04T01:56:07.177037931Z"
    }
   }
  },
  {
   "cell_type": "code",
   "execution_count": 4,
   "metadata": {
    "ExecuteTime": {
     "end_time": "2023-12-04T01:56:07.294775512Z",
     "start_time": "2023-12-04T01:56:07.182946908Z"
    }
   },
   "outputs": [],
   "source": [
    "# Load the saved datasets\n",
    "train_data = np.load('./fashion-mnist-processed-data/train_data.npy')\n",
    "val_data = np.load('./fashion-mnist-processed-data/val_data.npy')\n",
    "test_data = np.load('./fashion-mnist-processed-data/test_data.npy')\n",
    "\n",
    "train_targets = np.load('./fashion-mnist-processed-data/train_targets.npy')\n",
    "val_targets = np.load('./fashion-mnist-processed-data/val_targets.npy')\n",
    "test_targets = np.load('./fashion-mnist-processed-data/test_targets.npy')"
   ]
  },
  {
   "cell_type": "code",
   "execution_count": 5,
   "outputs": [],
   "source": [
    "train_data = np.expand_dims(train_data, axis=1)\n",
    "val_data = np.expand_dims(val_data, axis=1)\n",
    "test_data = np.expand_dims(test_data, axis=1)\n"
   ],
   "metadata": {
    "collapsed": false,
    "ExecuteTime": {
     "end_time": "2023-12-04T01:56:07.399559276Z",
     "start_time": "2023-12-04T01:56:07.291694252Z"
    }
   }
  },
  {
   "cell_type": "code",
   "execution_count": 6,
   "outputs": [],
   "source": [
    "# Converting to tensors\n",
    "train_data, train_targets = torch.tensor(train_data, dtype=torch.float32), torch.tensor(train_targets, dtype=torch.long)\n",
    "val_data, val_targets = torch.tensor(val_data, dtype=torch.float32), torch.tensor(val_targets, dtype=torch.long)\n",
    "test_data, test_targets = torch.tensor(test_data, dtype=torch.float32), torch.tensor(test_targets, dtype=torch.long)\n"
   ],
   "metadata": {
    "collapsed": false,
    "ExecuteTime": {
     "end_time": "2023-12-04T01:56:07.403430654Z",
     "start_time": "2023-12-04T01:56:07.334103913Z"
    }
   }
  },
  {
   "cell_type": "code",
   "execution_count": 7,
   "outputs": [],
   "source": [
    "# Normalizeing the data\n",
    "train_data = train_data/ 255.0\n",
    "val_data = val_data/255.0\n",
    "test_data = test_data/255.0"
   ],
   "metadata": {
    "collapsed": false,
    "ExecuteTime": {
     "end_time": "2023-12-04T01:56:07.458041995Z",
     "start_time": "2023-12-04T01:56:07.378034698Z"
    }
   }
  },
  {
   "cell_type": "code",
   "execution_count": 8,
   "outputs": [],
   "source": [
    "# Data loaders and set batch size for training, validation, testing\n",
    "batch_size = 64\n",
    "train_loader = DataLoader(TensorDataset(train_data, train_targets), batch_size=batch_size, shuffle=True)\n",
    "val_loader = DataLoader(TensorDataset(val_data, val_targets), batch_size=batch_size, shuffle=False)\n",
    "test_loader = DataLoader(TensorDataset(test_data, test_targets), batch_size=batch_size, shuffle=False)\n"
   ],
   "metadata": {
    "collapsed": false,
    "ExecuteTime": {
     "end_time": "2023-12-04T01:56:11.178249900Z",
     "start_time": "2023-12-04T01:56:11.171342096Z"
    }
   }
  },
  {
   "cell_type": "code",
   "execution_count": 9,
   "outputs": [],
   "source": [
    "#Single layer CNN model\n",
    "class SingleLayerCNN(nn.Module):\n",
    "    def __init__(self):\n",
    "        super(SingleLayerCNN, self).__init__()\n",
    "        self.conv1 = nn.Conv2d(1, 32, kernel_size=3, stride=1, padding=1)\n",
    "        self.fc = nn.Linear(32 * 28 * 28, 10)\n",
    "\n",
    "    def forward(self, x):\n",
    "        x = torch.relu(self.conv1(x))\n",
    "        x = x.view(x.size(0), -1)\n",
    "        x = self.fc(x)\n",
    "        return x\n"
   ],
   "metadata": {
    "collapsed": false,
    "ExecuteTime": {
     "end_time": "2023-12-03T22:12:10.979821830Z",
     "start_time": "2023-12-03T22:12:10.966656301Z"
    }
   }
  },
  {
   "cell_type": "code",
   "execution_count": 12,
   "outputs": [],
   "source": [
    "\n",
    "model = SingleLayerCNN().to(device)\n",
    "criterion = nn.CrossEntropyLoss()\n",
    "optimizer = optim.Adam(model.parameters(), lr=0.001)\n"
   ],
   "metadata": {
    "collapsed": false,
    "ExecuteTime": {
     "end_time": "2023-12-03T22:14:19.160384787Z",
     "start_time": "2023-12-03T22:14:19.131281685Z"
    }
   }
  },
  {
   "cell_type": "code",
   "execution_count": 13,
   "outputs": [
    {
     "name": "stdout",
     "output_type": "stream",
     "text": [
      "Epoch [1/10], Training accuracy: 89.52%, Validation Accuracy: 88.15%\n",
      "Epoch [2/10], Training accuracy: 91.62%, Validation Accuracy: 89.35%\n",
      "Epoch [3/10], Training accuracy: 92.96%, Validation Accuracy: 90.10%\n",
      "Epoch [4/10], Training accuracy: 93.74%, Validation Accuracy: 90.53%\n",
      "Epoch [5/10], Training accuracy: 93.81%, Validation Accuracy: 90.10%\n",
      "Epoch [6/10], Training accuracy: 94.17%, Validation Accuracy: 90.13%\n",
      "Epoch [7/10], Training accuracy: 95.34%, Validation Accuracy: 90.33%\n",
      "Epoch [8/10], Training accuracy: 95.08%, Validation Accuracy: 90.17%\n",
      "Epoch [9/10], Training accuracy: 96.20%, Validation Accuracy: 90.45%\n",
      "Epoch [10/10], Training accuracy: 95.92%, Validation Accuracy: 90.38%\n"
     ]
    }
   ],
   "source": [
    "# Training and validation for certain epochs\n",
    "epochs = 10\n",
    "for epoch in range(epochs):\n",
    "    model.train()\n",
    "    for i, (inputs, labels) in enumerate(train_loader):\n",
    "        inputs, labels = inputs.to(device), labels.to(device)\n",
    "\n",
    "        outputs = model(inputs)\n",
    "        loss = criterion(outputs, labels)\n",
    "        optimizer.zero_grad()\n",
    "        loss.backward()\n",
    "        optimizer.step()\n",
    "\n",
    "    # Validation phase\n",
    "    model.eval()\n",
    "    with torch.no_grad():\n",
    "        correct = 0\n",
    "        total = 0\n",
    "        total_train = 0\n",
    "        correct_train = 0\n",
    "    \n",
    "        for images_train, labels_train in train_loader:\n",
    "            images_train, labels_train = images_train.to(device), labels_train.to(device)\n",
    "            outputs_train = model(images_train)\n",
    "            _, predicted_train = torch.max(outputs_train.data, 1)\n",
    "            total_train += labels_train.size(0)\n",
    "            correct_train += (predicted_train == labels_train).sum().item()\n",
    "        for images, labels in val_loader:\n",
    "            images, labels = images.to(device), labels.to(device)\n",
    "            outputs = model(images)\n",
    "            _, predicted = torch.max(outputs.data, 1)\n",
    "            total += labels.size(0)\n",
    "            correct += (predicted == labels).sum().item()\n",
    "            \n",
    "        train_accuracy = 100 * correct_train / total_train\n",
    "        val_accuracy = 100 * correct / total\n",
    "        print(f'Epoch [{epoch+1}/{epochs}], Training accuracy: {train_accuracy:.2f}%, Validation Accuracy: {val_accuracy:.2f}%')\n"
   ],
   "metadata": {
    "collapsed": false,
    "ExecuteTime": {
     "end_time": "2023-12-03T22:14:37.118317651Z",
     "start_time": "2023-12-03T22:14:19.412351616Z"
    }
   }
  },
  {
   "cell_type": "code",
   "execution_count": 14,
   "outputs": [
    {
     "name": "stdout",
     "output_type": "stream",
     "text": [
      "Predicted label: 9, Actual label: 9\n"
     ]
    }
   ],
   "source": [
    "# Prediction on a single item from test set\n",
    "model.eval()\n",
    "with torch.no_grad():\n",
    "    images, labels = next(iter(test_loader))\n",
    "    images, labels = images.to(device), labels.to(device)\n",
    "    outputs = model(images)\n",
    "    _, predicted = torch.max(outputs.data, 1)\n",
    "    print(f'Predicted label: {predicted[0].item()}, Actual label: {labels[0].item()}')"
   ],
   "metadata": {
    "collapsed": false,
    "ExecuteTime": {
     "end_time": "2023-12-03T22:14:40.172776224Z",
     "start_time": "2023-12-03T22:14:40.162842627Z"
    }
   }
  },
  {
   "cell_type": "code",
   "execution_count": 15,
   "outputs": [
    {
     "name": "stdout",
     "output_type": "stream",
     "text": [
      "Test Accuracy: 89.85%\n"
     ]
    }
   ],
   "source": [
    "# Evaluation on test data\n",
    "model.eval()\n",
    "with torch.no_grad():\n",
    "    correct_test = 0\n",
    "    total_test = 0\n",
    "    for images, labels in test_loader:\n",
    "        images, labels = images.to(device), labels.to(device)\n",
    "        outputs = model(images)\n",
    "        _, predicted = torch.max(outputs.data, 1)\n",
    "        total_test += labels.size(0)\n",
    "        correct_test += (predicted == labels).sum().item()\n",
    "\n",
    "    test_accuracy = 100 * correct_test / total_test\n",
    "    print(f'Test Accuracy: {test_accuracy:.2f}%')\n"
   ],
   "metadata": {
    "collapsed": false,
    "ExecuteTime": {
     "end_time": "2023-12-03T22:14:57.394039802Z",
     "start_time": "2023-12-03T22:14:57.248640781Z"
    }
   }
  },
  {
   "cell_type": "code",
   "execution_count": 26,
   "outputs": [],
   "source": [
    "# Now let us perform hyperparamter tuning to find optimal parameters and replace them where needed!\n",
    "# Defining the parametr grid for hyperparameter tuning\n",
    "param_grid = {\n",
    "    'lr': [0.001, 0.01],\n",
    "    'batch_size': [32, 64],\n",
    "    'epochs': [50, 100]\n",
    "}"
   ],
   "metadata": {
    "collapsed": false,
    "ExecuteTime": {
     "end_time": "2023-12-03T22:34:48.544764520Z",
     "start_time": "2023-12-03T22:34:48.496690759Z"
    }
   }
  },
  {
   "cell_type": "code",
   "execution_count": 27,
   "outputs": [],
   "source": [
    "# Function to train and evaluate the model\n",
    "def train_val_evaluate(model, train_loader, val_loader, criterion, optimizer, epochs=3):\n",
    "    \n",
    "    for epoch in range(epochs):\n",
    "        model.train()\n",
    "        for inputs, labels in train_loader:\n",
    "            inputs, labels = inputs.to(device), labels.to(device)\n",
    "            optimizer.zero_grad()\n",
    "            outputs = model(inputs)\n",
    "            loss = criterion(outputs, labels)\n",
    "            loss.backward()\n",
    "            optimizer.step()\n",
    "\n",
    "    model.eval()\n",
    "    correct_val = 0\n",
    "    total_val = 0\n",
    "    with torch.no_grad():\n",
    "        for images, labels in val_loader:\n",
    "            images, labels = images.to(device), labels.to(device)\n",
    "            outputs = model(images)\n",
    "            _, predicted = torch.max(outputs.data, 1)\n",
    "            total_val += labels.size(0)\n",
    "            correct_val += (predicted == labels).sum().item()\n",
    "\n",
    "    val_accuracy = 100 * correct_val / total_val\n",
    "    return val_accuracy"
   ],
   "metadata": {
    "collapsed": false,
    "ExecuteTime": {
     "end_time": "2023-12-03T22:34:48.806049755Z",
     "start_time": "2023-12-03T22:34:48.791308627Z"
    }
   }
  },
  {
   "cell_type": "code",
   "execution_count": 28,
   "outputs": [
    {
     "name": "stdout",
     "output_type": "stream",
     "text": [
      "Params: {'batch_size': 32, 'epochs': 50, 'lr': 0.001}, Validation Accuracy: 89.57%\n",
      "Params: {'batch_size': 32, 'epochs': 50, 'lr': 0.01}, Validation Accuracy: 85.95%\n",
      "Params: {'batch_size': 32, 'epochs': 100, 'lr': 0.001}, Validation Accuracy: 89.33%\n",
      "Params: {'batch_size': 32, 'epochs': 100, 'lr': 0.01}, Validation Accuracy: 85.05%\n",
      "Params: {'batch_size': 64, 'epochs': 50, 'lr': 0.001}, Validation Accuracy: 89.43%\n",
      "Params: {'batch_size': 64, 'epochs': 50, 'lr': 0.01}, Validation Accuracy: 86.43%\n",
      "Params: {'batch_size': 64, 'epochs': 100, 'lr': 0.001}, Validation Accuracy: 89.75%\n",
      "Params: {'batch_size': 64, 'epochs': 100, 'lr': 0.01}, Validation Accuracy: 86.27%\n",
      "Best Params: {'batch_size': 64, 'epochs': 100, 'lr': 0.001}, Best Accuracy: 89.75%\n"
     ]
    }
   ],
   "source": [
    "# Let us begin Hyperparameter tuning\n",
    "best_accuracy = 0\n",
    "best_params = None\n",
    "\n",
    "for params in ParameterGrid(param_grid):\n",
    "    # Update batch size for data loaders\n",
    "    train_loader = DataLoader(TensorDataset(train_data, train_targets), batch_size=params['batch_size'], shuffle=True)\n",
    "    val_loader = DataLoader(TensorDataset(val_data, val_targets), batch_size=params['batch_size'], shuffle=False)\n",
    "    model = SingleLayerCNN().to(device)\n",
    "\n",
    "    criterion = nn.CrossEntropyLoss()\n",
    "    optimizer = optim.Adam(model.parameters(), lr=params['lr'])\n",
    "\n",
    "    # Training and evaluating the model\n",
    "    accuracy = train_val_evaluate(model, train_loader, val_loader, criterion, optimizer, params['epochs'])\n",
    "    \n",
    "    if accuracy > best_accuracy:\n",
    "        best_accuracy = accuracy\n",
    "        best_params = params\n",
    "\n",
    "    print(f\"Params: {params}, Validation Accuracy: {accuracy:.2f}%\")\n",
    "\n",
    "print(f\"Best Params: {best_params}, Best Accuracy: {best_accuracy:.2f}%\")"
   ],
   "metadata": {
    "collapsed": false,
    "ExecuteTime": {
     "end_time": "2023-12-03T22:49:20.223511881Z",
     "start_time": "2023-12-03T22:34:49.042985453Z"
    }
   }
  },
  {
   "cell_type": "code",
   "execution_count": 33,
   "outputs": [],
   "source": [
    "\n",
    "model = SingleLayerCNN().to(device)\n",
    "criterion = nn.CrossEntropyLoss()\n",
    "optimizer = optim.Adam(model.parameters(), lr=0.001)\n"
   ],
   "metadata": {
    "collapsed": false,
    "ExecuteTime": {
     "end_time": "2023-12-03T23:14:24.447679533Z",
     "start_time": "2023-12-03T23:14:24.420442413Z"
    }
   }
  },
  {
   "cell_type": "code",
   "execution_count": 36,
   "outputs": [
    {
     "name": "stdout",
     "output_type": "stream",
     "text": [
      "Epoch [1/100], Training accuracy: 93.53%, Validation Accuracy: 90.28%\n",
      "Epoch [2/100], Training accuracy: 94.20%, Validation Accuracy: 90.03%\n",
      "Epoch [3/100], Training accuracy: 94.68%, Validation Accuracy: 90.53%\n",
      "Epoch [4/100], Training accuracy: 95.13%, Validation Accuracy: 90.32%\n",
      "Epoch [5/100], Training accuracy: 95.55%, Validation Accuracy: 90.68%\n",
      "Epoch [6/100], Training accuracy: 95.84%, Validation Accuracy: 90.87%\n",
      "Epoch [7/100], Training accuracy: 96.30%, Validation Accuracy: 90.37%\n",
      "Epoch [8/100], Training accuracy: 96.43%, Validation Accuracy: 90.28%\n",
      "Epoch [9/100], Training accuracy: 96.80%, Validation Accuracy: 90.27%\n",
      "Epoch [10/100], Training accuracy: 97.04%, Validation Accuracy: 90.08%\n",
      "Epoch [11/100], Training accuracy: 97.27%, Validation Accuracy: 90.55%\n",
      "Epoch [12/100], Training accuracy: 97.41%, Validation Accuracy: 90.28%\n",
      "Epoch [13/100], Training accuracy: 97.69%, Validation Accuracy: 90.25%\n",
      "Epoch [14/100], Training accuracy: 97.73%, Validation Accuracy: 90.15%\n",
      "Epoch [15/100], Training accuracy: 97.97%, Validation Accuracy: 90.40%\n",
      "Epoch [16/100], Training accuracy: 98.11%, Validation Accuracy: 90.13%\n",
      "Epoch [17/100], Training accuracy: 98.32%, Validation Accuracy: 90.42%\n",
      "Epoch [18/100], Training accuracy: 98.42%, Validation Accuracy: 90.12%\n",
      "Epoch [19/100], Training accuracy: 98.44%, Validation Accuracy: 90.42%\n",
      "Epoch [20/100], Training accuracy: 98.68%, Validation Accuracy: 90.33%\n",
      "Epoch [21/100], Training accuracy: 98.69%, Validation Accuracy: 90.17%\n",
      "Epoch [22/100], Training accuracy: 98.88%, Validation Accuracy: 90.20%\n",
      "Epoch [23/100], Training accuracy: 98.82%, Validation Accuracy: 90.20%\n",
      "Epoch [24/100], Training accuracy: 98.95%, Validation Accuracy: 90.48%\n",
      "Epoch [25/100], Training accuracy: 99.02%, Validation Accuracy: 89.77%\n",
      "Epoch [26/100], Training accuracy: 99.05%, Validation Accuracy: 90.40%\n",
      "Epoch [27/100], Training accuracy: 99.17%, Validation Accuracy: 89.83%\n",
      "Epoch [28/100], Training accuracy: 99.19%, Validation Accuracy: 90.33%\n",
      "Epoch [29/100], Training accuracy: 99.29%, Validation Accuracy: 89.68%\n",
      "Epoch [30/100], Training accuracy: 99.31%, Validation Accuracy: 89.85%\n",
      "Epoch [31/100], Training accuracy: 99.28%, Validation Accuracy: 90.13%\n",
      "Epoch [32/100], Training accuracy: 99.48%, Validation Accuracy: 90.30%\n",
      "Epoch [33/100], Training accuracy: 99.47%, Validation Accuracy: 89.82%\n",
      "Epoch [34/100], Training accuracy: 99.45%, Validation Accuracy: 90.17%\n",
      "Epoch [35/100], Training accuracy: 99.52%, Validation Accuracy: 89.48%\n",
      "Epoch [36/100], Training accuracy: 99.50%, Validation Accuracy: 89.52%\n",
      "Epoch [37/100], Training accuracy: 99.62%, Validation Accuracy: 89.63%\n",
      "Epoch [38/100], Training accuracy: 99.59%, Validation Accuracy: 89.83%\n",
      "Epoch [39/100], Training accuracy: 99.64%, Validation Accuracy: 89.50%\n",
      "Epoch [40/100], Training accuracy: 99.68%, Validation Accuracy: 89.37%\n",
      "Epoch [41/100], Training accuracy: 99.70%, Validation Accuracy: 89.70%\n",
      "Epoch [42/100], Training accuracy: 99.68%, Validation Accuracy: 89.47%\n",
      "Epoch [43/100], Training accuracy: 99.68%, Validation Accuracy: 89.58%\n",
      "Epoch [44/100], Training accuracy: 99.73%, Validation Accuracy: 89.65%\n",
      "Epoch [45/100], Training accuracy: 99.72%, Validation Accuracy: 89.53%\n",
      "Epoch [46/100], Training accuracy: 99.78%, Validation Accuracy: 89.83%\n",
      "Epoch [47/100], Training accuracy: 99.76%, Validation Accuracy: 89.57%\n",
      "Epoch [48/100], Training accuracy: 99.72%, Validation Accuracy: 89.58%\n",
      "Epoch [49/100], Training accuracy: 99.81%, Validation Accuracy: 89.73%\n",
      "Epoch [50/100], Training accuracy: 99.79%, Validation Accuracy: 89.52%\n",
      "Epoch [51/100], Training accuracy: 99.68%, Validation Accuracy: 89.00%\n",
      "Epoch [52/100], Training accuracy: 99.81%, Validation Accuracy: 89.15%\n",
      "Epoch [53/100], Training accuracy: 99.86%, Validation Accuracy: 89.43%\n",
      "Epoch [54/100], Training accuracy: 99.92%, Validation Accuracy: 89.87%\n",
      "Epoch [55/100], Training accuracy: 99.85%, Validation Accuracy: 89.38%\n",
      "Epoch [56/100], Training accuracy: 99.76%, Validation Accuracy: 89.42%\n",
      "Epoch [57/100], Training accuracy: 99.89%, Validation Accuracy: 89.93%\n",
      "Epoch [58/100], Training accuracy: 99.84%, Validation Accuracy: 89.52%\n",
      "Epoch [59/100], Training accuracy: 99.89%, Validation Accuracy: 89.83%\n",
      "Epoch [60/100], Training accuracy: 99.83%, Validation Accuracy: 89.60%\n",
      "Epoch [61/100], Training accuracy: 99.92%, Validation Accuracy: 89.17%\n",
      "Epoch [62/100], Training accuracy: 99.79%, Validation Accuracy: 89.42%\n",
      "Epoch [63/100], Training accuracy: 99.81%, Validation Accuracy: 89.43%\n",
      "Epoch [64/100], Training accuracy: 99.94%, Validation Accuracy: 89.85%\n",
      "Epoch [65/100], Training accuracy: 99.89%, Validation Accuracy: 89.77%\n",
      "Epoch [66/100], Training accuracy: 99.76%, Validation Accuracy: 89.87%\n",
      "Epoch [67/100], Training accuracy: 99.93%, Validation Accuracy: 89.50%\n",
      "Epoch [68/100], Training accuracy: 99.79%, Validation Accuracy: 89.67%\n",
      "Epoch [69/100], Training accuracy: 99.98%, Validation Accuracy: 89.85%\n",
      "Epoch [70/100], Training accuracy: 99.68%, Validation Accuracy: 89.75%\n",
      "Epoch [71/100], Training accuracy: 99.96%, Validation Accuracy: 89.45%\n",
      "Epoch [72/100], Training accuracy: 99.94%, Validation Accuracy: 89.63%\n",
      "Epoch [73/100], Training accuracy: 99.77%, Validation Accuracy: 89.63%\n",
      "Epoch [74/100], Training accuracy: 99.98%, Validation Accuracy: 89.65%\n",
      "Epoch [75/100], Training accuracy: 99.99%, Validation Accuracy: 89.63%\n",
      "Epoch [76/100], Training accuracy: 99.67%, Validation Accuracy: 89.73%\n",
      "Epoch [77/100], Training accuracy: 99.98%, Validation Accuracy: 89.92%\n",
      "Epoch [78/100], Training accuracy: 99.97%, Validation Accuracy: 89.30%\n",
      "Epoch [79/100], Training accuracy: 99.68%, Validation Accuracy: 89.33%\n",
      "Epoch [80/100], Training accuracy: 99.98%, Validation Accuracy: 89.85%\n",
      "Epoch [81/100], Training accuracy: 100.00%, Validation Accuracy: 89.72%\n",
      "Epoch [82/100], Training accuracy: 99.70%, Validation Accuracy: 89.28%\n",
      "Epoch [83/100], Training accuracy: 99.87%, Validation Accuracy: 89.42%\n",
      "Epoch [84/100], Training accuracy: 99.91%, Validation Accuracy: 89.88%\n",
      "Epoch [85/100], Training accuracy: 99.84%, Validation Accuracy: 89.05%\n",
      "Epoch [86/100], Training accuracy: 99.93%, Validation Accuracy: 89.75%\n",
      "Epoch [87/100], Training accuracy: 100.00%, Validation Accuracy: 89.78%\n",
      "Epoch [88/100], Training accuracy: 99.94%, Validation Accuracy: 89.05%\n",
      "Epoch [89/100], Training accuracy: 99.55%, Validation Accuracy: 89.35%\n",
      "Epoch [90/100], Training accuracy: 99.99%, Validation Accuracy: 89.72%\n",
      "Epoch [91/100], Training accuracy: 100.00%, Validation Accuracy: 89.75%\n",
      "Epoch [92/100], Training accuracy: 100.00%, Validation Accuracy: 89.72%\n",
      "Epoch [93/100], Training accuracy: 99.62%, Validation Accuracy: 88.92%\n",
      "Epoch [94/100], Training accuracy: 99.87%, Validation Accuracy: 89.70%\n",
      "Epoch [95/100], Training accuracy: 100.00%, Validation Accuracy: 89.73%\n",
      "Epoch [96/100], Training accuracy: 100.00%, Validation Accuracy: 89.50%\n",
      "Epoch [97/100], Training accuracy: 100.00%, Validation Accuracy: 89.85%\n",
      "Epoch [98/100], Training accuracy: 99.78%, Validation Accuracy: 88.68%\n",
      "Epoch [99/100], Training accuracy: 99.82%, Validation Accuracy: 89.60%\n",
      "Epoch [100/100], Training accuracy: 99.92%, Validation Accuracy: 89.50%\n"
     ]
    }
   ],
   "source": [],
   "metadata": {
    "collapsed": false,
    "ExecuteTime": {
     "end_time": "2023-12-03T23:18:10.734770259Z",
     "start_time": "2023-12-03T23:15:21.715402021Z"
    }
   }
  },
  {
   "cell_type": "code",
   "execution_count": 38,
   "outputs": [
    {
     "data": {
      "text/plain": "<Figure size 1000x600 with 1 Axes>",
      "image/png": "[encoded data removed]"
     },
     "metadata": {},
     "output_type": "display_data"
    }
   ],
   "source": [],
   "metadata": {
    "collapsed": false,
    "ExecuteTime": {
     "end_time": "2023-12-03T23:35:01.073630849Z",
     "start_time": "2023-12-03T23:35:00.888426547Z"
    }
   }
  },
  {
   "cell_type": "code",
   "execution_count": 10,
   "outputs": [
    {
     "name": "stdout",
     "output_type": "stream",
     "text": [
      "Epoch [1/100], Training Loss: 0.4401, Training Accuracy: 84.33%, Validation Loss: 0.3282, Validation Accuracy: 88.73%\n",
      "Epoch [2/100], Training Loss: 0.2890, Training Accuracy: 89.58%, Validation Loss: 0.3111, Validation Accuracy: 88.88%\n",
      "Epoch [3/100], Training Loss: 0.2509, Training Accuracy: 91.03%, Validation Loss: 0.2926, Validation Accuracy: 89.80%\n",
      "Epoch [4/100], Training Loss: 0.2253, Training Accuracy: 91.81%, Validation Loss: 0.2934, Validation Accuracy: 89.93%\n",
      "Epoch [5/100], Training Loss: 0.2053, Training Accuracy: 92.63%, Validation Loss: 0.2907, Validation Accuracy: 90.38%\n",
      "Epoch [6/100], Training Loss: 0.1864, Training Accuracy: 93.33%, Validation Loss: 0.2854, Validation Accuracy: 90.23%\n",
      "Epoch [7/100], Training Loss: 0.1700, Training Accuracy: 93.98%, Validation Loss: 0.2804, Validation Accuracy: 90.70%\n",
      "Epoch [8/100], Training Loss: 0.1566, Training Accuracy: 94.33%, Validation Loss: 0.2933, Validation Accuracy: 90.33%\n",
      "Epoch [9/100], Training Loss: 0.1448, Training Accuracy: 94.86%, Validation Loss: 0.3114, Validation Accuracy: 89.80%\n",
      "Epoch [10/100], Training Loss: 0.1313, Training Accuracy: 95.31%, Validation Loss: 0.3039, Validation Accuracy: 90.53%\n",
      "Epoch [11/100], Training Loss: 0.1223, Training Accuracy: 95.70%, Validation Loss: 0.3135, Validation Accuracy: 90.37%\n",
      "Epoch [12/100], Training Loss: 0.1124, Training Accuracy: 96.09%, Validation Loss: 0.3122, Validation Accuracy: 90.73%\n",
      "Epoch [13/100], Training Loss: 0.1040, Training Accuracy: 96.44%, Validation Loss: 0.3303, Validation Accuracy: 90.33%\n",
      "Epoch [14/100], Training Loss: 0.0965, Training Accuracy: 96.67%, Validation Loss: 0.3255, Validation Accuracy: 90.53%\n",
      "Epoch [15/100], Training Loss: 0.0890, Training Accuracy: 96.95%, Validation Loss: 0.3329, Validation Accuracy: 90.63%\n",
      "Epoch [16/100], Training Loss: 0.0837, Training Accuracy: 97.16%, Validation Loss: 0.3409, Validation Accuracy: 90.70%\n",
      "Epoch [17/100], Training Loss: 0.0777, Training Accuracy: 97.39%, Validation Loss: 0.3598, Validation Accuracy: 90.18%\n",
      "Epoch [18/100], Training Loss: 0.0725, Training Accuracy: 97.58%, Validation Loss: 0.3545, Validation Accuracy: 90.58%\n",
      "Epoch [19/100], Training Loss: 0.0670, Training Accuracy: 97.80%, Validation Loss: 0.3688, Validation Accuracy: 90.80%\n",
      "Epoch [20/100], Training Loss: 0.0634, Training Accuracy: 97.89%, Validation Loss: 0.3725, Validation Accuracy: 90.68%\n",
      "Epoch [21/100], Training Loss: 0.0584, Training Accuracy: 98.09%, Validation Loss: 0.3949, Validation Accuracy: 90.27%\n",
      "Epoch [22/100], Training Loss: 0.0550, Training Accuracy: 98.26%, Validation Loss: 0.3905, Validation Accuracy: 90.63%\n",
      "Epoch [23/100], Training Loss: 0.0519, Training Accuracy: 98.30%, Validation Loss: 0.4228, Validation Accuracy: 90.23%\n",
      "Epoch [24/100], Training Loss: 0.0481, Training Accuracy: 98.52%, Validation Loss: 0.4186, Validation Accuracy: 90.53%\n",
      "Epoch [25/100], Training Loss: 0.0477, Training Accuracy: 98.46%, Validation Loss: 0.4286, Validation Accuracy: 90.33%\n",
      "Epoch [26/100], Training Loss: 0.0422, Training Accuracy: 98.69%, Validation Loss: 0.4491, Validation Accuracy: 90.30%\n",
      "Epoch [27/100], Training Loss: 0.0402, Training Accuracy: 98.76%, Validation Loss: 0.4700, Validation Accuracy: 90.43%\n",
      "Epoch [28/100], Training Loss: 0.0383, Training Accuracy: 98.84%, Validation Loss: 0.4597, Validation Accuracy: 90.38%\n",
      "Epoch [29/100], Training Loss: 0.0352, Training Accuracy: 98.89%, Validation Loss: 0.4729, Validation Accuracy: 90.37%\n",
      "Epoch [30/100], Training Loss: 0.0339, Training Accuracy: 98.96%, Validation Loss: 0.5021, Validation Accuracy: 90.03%\n",
      "Epoch [31/100], Training Loss: 0.0336, Training Accuracy: 99.01%, Validation Loss: 0.4849, Validation Accuracy: 90.37%\n",
      "Epoch [32/100], Training Loss: 0.0297, Training Accuracy: 99.15%, Validation Loss: 0.5038, Validation Accuracy: 90.25%\n",
      "Epoch [33/100], Training Loss: 0.0278, Training Accuracy: 99.23%, Validation Loss: 0.5044, Validation Accuracy: 90.37%\n",
      "Epoch [34/100], Training Loss: 0.0278, Training Accuracy: 99.23%, Validation Loss: 0.5432, Validation Accuracy: 90.23%\n",
      "Epoch [35/100], Training Loss: 0.0265, Training Accuracy: 99.27%, Validation Loss: 0.5426, Validation Accuracy: 89.62%\n",
      "Epoch [36/100], Training Loss: 0.0240, Training Accuracy: 99.34%, Validation Loss: 0.5408, Validation Accuracy: 90.37%\n",
      "Epoch [37/100], Training Loss: 0.0231, Training Accuracy: 99.37%, Validation Loss: 0.5645, Validation Accuracy: 89.93%\n",
      "Epoch [38/100], Training Loss: 0.0221, Training Accuracy: 99.39%, Validation Loss: 0.5758, Validation Accuracy: 90.13%\n",
      "Epoch [39/100], Training Loss: 0.0202, Training Accuracy: 99.44%, Validation Loss: 0.6000, Validation Accuracy: 89.33%\n",
      "Epoch [40/100], Training Loss: 0.0186, Training Accuracy: 99.53%, Validation Loss: 0.6084, Validation Accuracy: 89.80%\n",
      "Epoch [41/100], Training Loss: 0.0192, Training Accuracy: 99.49%, Validation Loss: 0.6233, Validation Accuracy: 89.98%\n",
      "Epoch [42/100], Training Loss: 0.0180, Training Accuracy: 99.51%, Validation Loss: 0.6155, Validation Accuracy: 90.35%\n",
      "Epoch [43/100], Training Loss: 0.0159, Training Accuracy: 99.62%, Validation Loss: 0.6452, Validation Accuracy: 89.77%\n",
      "Epoch [44/100], Training Loss: 0.0162, Training Accuracy: 99.59%, Validation Loss: 0.6271, Validation Accuracy: 90.15%\n",
      "Epoch [45/100], Training Loss: 0.0147, Training Accuracy: 99.64%, Validation Loss: 0.6321, Validation Accuracy: 90.20%\n",
      "Epoch [46/100], Training Loss: 0.0138, Training Accuracy: 99.66%, Validation Loss: 0.6453, Validation Accuracy: 90.00%\n",
      "Epoch [47/100], Training Loss: 0.0121, Training Accuracy: 99.70%, Validation Loss: 0.6515, Validation Accuracy: 90.20%\n",
      "Epoch [48/100], Training Loss: 0.0126, Training Accuracy: 99.72%, Validation Loss: 0.6749, Validation Accuracy: 89.68%\n",
      "Epoch [49/100], Training Loss: 0.0142, Training Accuracy: 99.63%, Validation Loss: 0.6871, Validation Accuracy: 90.22%\n",
      "Epoch [50/100], Training Loss: 0.0123, Training Accuracy: 99.69%, Validation Loss: 0.6968, Validation Accuracy: 89.88%\n",
      "Epoch [51/100], Training Loss: 0.0116, Training Accuracy: 99.70%, Validation Loss: 0.6921, Validation Accuracy: 89.97%\n",
      "Epoch [52/100], Training Loss: 0.0111, Training Accuracy: 99.74%, Validation Loss: 0.7296, Validation Accuracy: 89.65%\n",
      "Epoch [53/100], Training Loss: 0.0115, Training Accuracy: 99.70%, Validation Loss: 0.7171, Validation Accuracy: 89.88%\n",
      "Epoch [54/100], Training Loss: 0.0093, Training Accuracy: 99.77%, Validation Loss: 0.7406, Validation Accuracy: 89.58%\n",
      "Epoch [55/100], Training Loss: 0.0102, Training Accuracy: 99.77%, Validation Loss: 0.7288, Validation Accuracy: 90.10%\n",
      "Epoch [56/100], Training Loss: 0.0087, Training Accuracy: 99.81%, Validation Loss: 0.7314, Validation Accuracy: 89.95%\n",
      "Epoch [57/100], Training Loss: 0.0104, Training Accuracy: 99.77%, Validation Loss: 0.7574, Validation Accuracy: 89.93%\n",
      "Epoch [58/100], Training Loss: 0.0101, Training Accuracy: 99.74%, Validation Loss: 0.7744, Validation Accuracy: 89.97%\n",
      "Epoch [59/100], Training Loss: 0.0095, Training Accuracy: 99.77%, Validation Loss: 0.7585, Validation Accuracy: 90.18%\n",
      "Epoch [60/100], Training Loss: 0.0063, Training Accuracy: 99.89%, Validation Loss: 0.7704, Validation Accuracy: 90.08%\n",
      "Epoch [61/100], Training Loss: 0.0081, Training Accuracy: 99.79%, Validation Loss: 0.7835, Validation Accuracy: 90.07%\n",
      "Epoch [62/100], Training Loss: 0.0068, Training Accuracy: 99.85%, Validation Loss: 0.7708, Validation Accuracy: 90.20%\n",
      "Epoch [63/100], Training Loss: 0.0076, Training Accuracy: 99.82%, Validation Loss: 0.7857, Validation Accuracy: 89.93%\n",
      "Epoch [64/100], Training Loss: 0.0080, Training Accuracy: 99.79%, Validation Loss: 0.8168, Validation Accuracy: 89.63%\n",
      "Epoch [65/100], Training Loss: 0.0078, Training Accuracy: 99.78%, Validation Loss: 0.7941, Validation Accuracy: 89.98%\n",
      "Epoch [66/100], Training Loss: 0.0075, Training Accuracy: 99.84%, Validation Loss: 0.8363, Validation Accuracy: 89.72%\n",
      "Epoch [67/100], Training Loss: 0.0062, Training Accuracy: 99.87%, Validation Loss: 0.8593, Validation Accuracy: 89.63%\n",
      "Epoch [68/100], Training Loss: 0.0074, Training Accuracy: 99.80%, Validation Loss: 0.8337, Validation Accuracy: 90.23%\n",
      "Epoch [69/100], Training Loss: 0.0043, Training Accuracy: 99.93%, Validation Loss: 0.8366, Validation Accuracy: 89.93%\n",
      "Epoch [70/100], Training Loss: 0.0076, Training Accuracy: 99.80%, Validation Loss: 0.8440, Validation Accuracy: 89.87%\n",
      "Epoch [71/100], Training Loss: 0.0078, Training Accuracy: 99.80%, Validation Loss: 0.8945, Validation Accuracy: 89.78%\n",
      "Epoch [72/100], Training Loss: 0.0031, Training Accuracy: 99.98%, Validation Loss: 0.8707, Validation Accuracy: 90.18%\n",
      "Epoch [73/100], Training Loss: 0.0031, Training Accuracy: 99.96%, Validation Loss: 0.8809, Validation Accuracy: 89.75%\n",
      "Epoch [74/100], Training Loss: 0.0107, Training Accuracy: 99.67%, Validation Loss: 0.8956, Validation Accuracy: 89.80%\n",
      "Epoch [75/100], Training Loss: 0.0027, Training Accuracy: 99.97%, Validation Loss: 0.8867, Validation Accuracy: 90.20%\n",
      "Epoch [76/100], Training Loss: 0.0094, Training Accuracy: 99.71%, Validation Loss: 0.9202, Validation Accuracy: 89.37%\n",
      "Epoch [77/100], Training Loss: 0.0044, Training Accuracy: 99.92%, Validation Loss: 0.9149, Validation Accuracy: 89.72%\n",
      "Epoch [78/100], Training Loss: 0.0041, Training Accuracy: 99.92%, Validation Loss: 0.8971, Validation Accuracy: 89.90%\n",
      "Epoch [79/100], Training Loss: 0.0059, Training Accuracy: 99.84%, Validation Loss: 0.8916, Validation Accuracy: 90.37%\n",
      "Epoch [80/100], Training Loss: 0.0049, Training Accuracy: 99.90%, Validation Loss: 0.9134, Validation Accuracy: 89.57%\n",
      "Epoch [81/100], Training Loss: 0.0055, Training Accuracy: 99.85%, Validation Loss: 0.9606, Validation Accuracy: 89.68%\n",
      "Epoch [82/100], Training Loss: 0.0033, Training Accuracy: 99.94%, Validation Loss: 0.9336, Validation Accuracy: 89.73%\n",
      "Epoch [83/100], Training Loss: 0.0084, Training Accuracy: 99.74%, Validation Loss: 0.9513, Validation Accuracy: 89.67%\n",
      "Epoch [84/100], Training Loss: 0.0020, Training Accuracy: 99.99%, Validation Loss: 0.9549, Validation Accuracy: 89.90%\n",
      "Epoch [85/100], Training Loss: 0.0012, Training Accuracy: 100.00%, Validation Loss: 0.9437, Validation Accuracy: 90.07%\n",
      "Epoch [86/100], Training Loss: 0.0094, Training Accuracy: 99.70%, Validation Loss: 0.9677, Validation Accuracy: 89.87%\n",
      "Epoch [87/100], Training Loss: 0.0023, Training Accuracy: 99.96%, Validation Loss: 0.9543, Validation Accuracy: 90.05%\n",
      "Epoch [88/100], Training Loss: 0.0073, Training Accuracy: 99.77%, Validation Loss: 0.9648, Validation Accuracy: 89.62%\n",
      "Epoch [89/100], Training Loss: 0.0042, Training Accuracy: 99.90%, Validation Loss: 0.9929, Validation Accuracy: 89.65%\n",
      "Epoch [90/100], Training Loss: 0.0039, Training Accuracy: 99.92%, Validation Loss: 0.9769, Validation Accuracy: 89.70%\n",
      "Epoch [91/100], Training Loss: 0.0011, Training Accuracy: 100.00%, Validation Loss: 0.9720, Validation Accuracy: 90.10%\n",
      "Epoch [92/100], Training Loss: 0.0042, Training Accuracy: 99.87%, Validation Loss: 1.0408, Validation Accuracy: 89.10%\n",
      "Epoch [93/100], Training Loss: 0.0110, Training Accuracy: 99.66%, Validation Loss: 1.0021, Validation Accuracy: 89.68%\n",
      "Epoch [94/100], Training Loss: 0.0020, Training Accuracy: 99.98%, Validation Loss: 0.9944, Validation Accuracy: 89.97%\n",
      "Epoch [95/100], Training Loss: 0.0007, Training Accuracy: 100.00%, Validation Loss: 0.9906, Validation Accuracy: 90.02%\n",
      "Epoch [96/100], Training Loss: 0.0006, Training Accuracy: 100.00%, Validation Loss: 0.9921, Validation Accuracy: 90.15%\n",
      "Epoch [97/100], Training Loss: 0.0081, Training Accuracy: 99.71%, Validation Loss: 1.0376, Validation Accuracy: 89.48%\n",
      "Epoch [98/100], Training Loss: 0.0088, Training Accuracy: 99.72%, Validation Loss: 1.0424, Validation Accuracy: 89.95%\n",
      "Epoch [99/100], Training Loss: 0.0017, Training Accuracy: 99.98%, Validation Loss: 1.0270, Validation Accuracy: 89.85%\n",
      "Epoch [100/100], Training Loss: 0.0006, Training Accuracy: 100.00%, Validation Loss: 1.0410, Validation Accuracy: 89.98%\n"
     ]
    }
   ],
   "source": [
    "#Single layer CNN model\n",
    "class SingleLayerCNN(nn.Module):\n",
    "    def __init__(self):\n",
    "        super(SingleLayerCNN, self).__init__()\n",
    "        self.conv1 = nn.Conv2d(1, 32, kernel_size=3, stride=1, padding=1)\n",
    "        self.fc = nn.Linear(32 * 28 * 28, 10)\n",
    "\n",
    "    def forward(self, x):\n",
    "        x = torch.relu(self.conv1(x))\n",
    "        x = x.view(x.size(0), -1)\n",
    "        x = self.fc(x)\n",
    "        return x\n",
    "\n",
    "\n",
    "model = SingleLayerCNN().to(device)\n",
    "criterion = nn.CrossEntropyLoss()\n",
    "optimizer = optim.Adam(model.parameters(), lr=0.001)\n",
    "\n",
    "# Initialize lists for accuracies and losses\n",
    "train_accuracies = []\n",
    "val_accuracies = []\n",
    "train_losses = []\n",
    "val_losses = []\n",
    "\n",
    "epochs = 100\n",
    "for epoch in range(epochs):\n",
    "    model.train()\n",
    "    total_train_loss = 0\n",
    "    total_train = 0\n",
    "    correct_train = 0\n",
    "\n",
    "    for i, (inputs, labels) in enumerate(train_loader):\n",
    "        inputs, labels = inputs.to(device), labels.to(device)\n",
    "\n",
    "        outputs = model(inputs)\n",
    "        loss = criterion(outputs, labels)\n",
    "        total_train_loss += loss.item()\n",
    "\n",
    "        optimizer.zero_grad()\n",
    "        loss.backward()\n",
    "        optimizer.step()\n",
    "\n",
    "        _, predicted_train = torch.max(outputs.data, 1)\n",
    "        total_train += labels.size(0)\n",
    "        correct_train += (predicted_train == labels).sum().item()\n",
    "\n",
    "    avg_train_loss = total_train_loss / len(train_loader)\n",
    "    train_losses.append(avg_train_loss)\n",
    "    train_accuracy = 100 * correct_train / total_train\n",
    "    train_accuracies.append(train_accuracy)\n",
    "\n",
    "    # Validation phase\n",
    "    model.eval()\n",
    "    total_val_loss = 0\n",
    "    correct_val = 0\n",
    "    total_val = 0\n",
    "    with torch.no_grad():\n",
    "        for images, labels in val_loader:\n",
    "            images, labels = images.to(device), labels.to(device)\n",
    "            outputs = model(images)\n",
    "            loss = criterion(outputs, labels)\n",
    "            total_val_loss += loss.item()\n",
    "\n",
    "            _, predicted = torch.max(outputs.data, 1)\n",
    "            total_val += labels.size(0)\n",
    "            correct_val += (predicted == labels).sum().item()\n",
    "\n",
    "    avg_val_loss = total_val_loss / len(val_loader)\n",
    "    val_losses.append(avg_val_loss)\n",
    "    val_accuracy = 100 * correct_val / total_val\n",
    "    val_accuracies.append(val_accuracy)\n",
    "\n",
    "    print(f'Epoch [{epoch+1}/{epochs}], Training Loss: {avg_train_loss:.4f}, Training Accuracy: {train_accuracy:.2f}%, Validation Loss: {avg_val_loss:.4f}, Validation Accuracy: {val_accuracy:.2f}%')\n",
    "\n",
    "\n"
   ],
   "metadata": {
    "collapsed": false,
    "ExecuteTime": {
     "end_time": "2023-12-04T01:59:20.650724841Z",
     "start_time": "2023-12-04T01:56:41.819812Z"
    }
   }
  },
  {
   "cell_type": "code",
   "execution_count": 11,
   "outputs": [
    {
     "data": {
      "text/plain": "<Figure size 1200x600 with 2 Axes>",
      "image/png": "[encoded data removed]"
     },
     "metadata": {},
     "output_type": "display_data"
    }
   ],
   "source": [
    "plt.figure(figsize=(12, 6))\n",
    "plt.subplot(1, 2, 1)\n",
    "plt.plot(train_accuracies, label='Training Accuracy')\n",
    "plt.plot(val_accuracies, label='Validation Accuracy')\n",
    "plt.title('Training and Validation Accuracy')\n",
    "plt.xlabel('Epochs')\n",
    "plt.ylabel('Accuracy')\n",
    "plt.legend()\n",
    "plt.grid(True)\n",
    "\n",
    "# Plotting the learning curves for loss\n",
    "plt.subplot(1, 2, 2)\n",
    "plt.plot(train_losses, label='Training Loss')\n",
    "plt.plot(val_losses, label='Validation Loss')\n",
    "plt.title('Training and Validation Loss')\n",
    "plt.xlabel('Epochs')\n",
    "plt.ylabel('Loss')\n",
    "plt.legend()\n",
    "plt.grid(True)\n",
    "\n",
    "plt.show()"
   ],
   "metadata": {
    "collapsed": false,
    "ExecuteTime": {
     "end_time": "2023-12-04T01:59:21.007845468Z",
     "start_time": "2023-12-04T01:59:20.654939189Z"
    }
   }
  },
  {
   "cell_type": "code",
   "execution_count": null,
   "outputs": [],
   "source": [],
   "metadata": {
    "collapsed": false
   }
  }
 ],
 "metadata": {
  "language_info": {
   "name": "python"
  },
  "kernelspec": {
   "name": "python3",
   "language": "python",
   "display_name": "Python 3 (ipykernel)"
  }
 },
 "nbformat": 4,
 "nbformat_minor": 2
}
