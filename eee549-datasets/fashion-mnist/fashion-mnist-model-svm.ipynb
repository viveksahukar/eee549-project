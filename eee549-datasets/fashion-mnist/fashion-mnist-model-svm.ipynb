{
 "cells": [
  {
   "cell_type": "code",
   "execution_count": 1,
   "metadata": {},
   "outputs": [
    {
     "name": "stderr",
     "output_type": "stream",
     "text": [
      "Intel(R) Extension for Scikit-learn* enabled (https://github.com/intel/scikit-learn-intelex)\n"
     ]
    }
   ],
   "source": [
    "import sys\n",
    "sys.path.append('../') \n",
    "from imports import *"
   ]
  },
  {
   "cell_type": "code",
   "execution_count": 2,
   "metadata": {},
   "outputs": [],
   "source": [
    "# Load the saved datasets\n",
    "X_train = np.load('./fashion-mnist-processed-data/train_data.npy')\n",
    "X_val = np.load('./fashion-mnist-processed-data/val_data.npy')\n",
    "X_test = np.load('./fashion-mnist-processed-data/test_data.npy')\n",
    "\n",
    "y_train = np.load('./fashion-mnist-processed-data/train_targets.npy')\n",
    "y_val = np.load('./fashion-mnist-processed-data/val_targets.npy')\n",
    "y_test = np.load('./fashion-mnist-processed-data/test_targets.npy')"
   ]
  },
  {
   "cell_type": "code",
   "execution_count": 3,
   "metadata": {},
   "outputs": [],
   "source": [
    "# Reshape the training data\n",
    "n_samples, height, width = X_train.shape\n",
    "X_train_reshaped = X_train.reshape((n_samples, height*width))\n",
    "\n",
    "n_val_samples, height_val, width_val = X_val.shape\n",
    "n_test_samples, height_test, width_test = X_test.shape\n",
    "\n",
    "# Similarly, reshape the validation and test data if necessary\n",
    "X_val_reshaped = X_val.reshape((n_val_samples, height_val*width_val))\n",
    "X_test_reshaped = X_test.reshape((n_test_samples, height_test*width_test))"
   ]
  },
  {
   "cell_type": "markdown",
   "metadata": {},
   "source": [
    "## takes too much time: find alternative libraries"
   ]
  },
  {
   "cell_type": "code",
   "execution_count": 4,
   "metadata": {},
   "outputs": [],
   "source": [
    "# Initialize the SVM model without kernel\n",
    "svm = SVC(kernel='linear', probability=False, gamma='auto', random_state=1)\n",
    "\n",
    "# Train the model on the training set\n",
    "svm.fit(X_train_reshaped, y_train)\n",
    "\n",
    "# Predict on the validation set\n",
    "y_val_pred = svm.predict(X_val_reshaped)\n",
    "\n",
    "# Evaluate the model on the validation set\n",
    "val_accuracy = accuracy_score(y_val, y_val_pred)\n",
    "print(f\"Validation Set Accuracy: {val_accuracy:.4f}\")\n",
    "\n",
    "print(confusion_matrix(y_val, y_val_pred))\n",
    "print(classification_report(y_val, y_val_pred))"
   ]
  },
  {
   "cell_type": "code",
   "execution_count": null,
   "metadata": {},
   "outputs": [],
   "source": []
  },
  {
   "cell_type": "code",
   "execution_count": null,
   "metadata": {},
   "outputs": [],
   "source": []
  }
 ],
 "metadata": {
  "kernelspec": {
   "display_name": "torch",
   "language": "python",
   "name": "python3"
  },
  "language_info": {
   "codemirror_mode": {
    "name": "ipython",
    "version": 3
   },
   "file_extension": ".py",
   "mimetype": "text/x-python",
   "name": "python",
   "nbconvert_exporter": "python",
   "pygments_lexer": "ipython3",
   "version": "3.10.12"
  }
 },
 "nbformat": 4,
 "nbformat_minor": 2
}
